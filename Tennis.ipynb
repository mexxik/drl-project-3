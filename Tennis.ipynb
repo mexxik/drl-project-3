{
 "cells": [
  {
   "cell_type": "code",
   "execution_count": 1,
   "metadata": {
    "collapsed": true
   },
   "outputs": [],
   "source": [
    "import numpy as np\n",
    "import random\n",
    "import copy\n",
    "import time\n",
    "import math\n",
    "import sys\n",
    "from collections import namedtuple, deque\n",
    "\n",
    "import torch\n",
    "import torch.nn as nn\n",
    "import torch.nn.functional as F\n",
    "import torch.optim as optim\n",
    "\n",
    "from unityagents import UnityEnvironment\n",
    "\n",
    "import matplotlib.pyplot as plt\n",
    "%matplotlib inline"
   ]
  },
  {
   "cell_type": "markdown",
   "metadata": {},
   "source": [
    "### Hyper-parameters\n",
    "* BUFFER_SIZE - experience replay buffer size\n",
    "* BATCH_SIZE - minibatch size to retirieve from experience replay\n",
    "* GAMMA - discount rate\n",
    "* TAU - parameter for soft update that determines how fast target network is merged into local\n",
    "* LR_ACTOR - learning rate for actor network\n",
    "* LR_CRITIC - learning rate for critic network\n",
    "* WEIGHT_DECAY - L2 regularization weight decay factor\n",
    "* LEARN_EVERY - determines timestep interval to learn networks\n",
    "* LEARN_NUM - number of learning procedures \n",
    "* OU_SIGMA - Ornstein-Uhlenbeck noise parameter\n",
    "* OU_THETA - Ornstein-Uhlenbeck noise parameter\n",
    "* EPSILON - parameter that controls noice effect for exploration/exploitation (not enabled in this example)\n",
    "* EPSILON_DECAY - decay rate for EPSILON (not enabled in this example)"
   ]
  },
  {
   "cell_type": "code",
   "execution_count": 2,
   "metadata": {},
   "outputs": [],
   "source": [
    "BUFFER_SIZE = int(1e6)\n",
    "BATCH_SIZE = 128\n",
    "GAMMA = 0.99\n",
    "TAU = 2e-1\n",
    "LR_ACTOR = 1e-4\n",
    "LR_CRITIC = 1e-3\n",
    "WEIGHT_DECAY = 0\n",
    "LEARN_EVERY = 1\n",
    "LEARN_NUM = 1\n",
    "OU_SIGMA = 0.2\n",
    "OU_THETA = 0.15\n",
    "EPSILON = 1.0\n",
    "EPSILON_DECAY = 1e-6\n",
    "\n",
    "device = torch.device(\"cuda:0\" if torch.cuda.is_available() else \"cpu\")"
   ]
  },
  {
   "cell_type": "markdown",
   "metadata": {},
   "source": [
    "Utility that helps to implement Ornstein-Uhlenbeck noise for better exproration."
   ]
  },
  {
   "cell_type": "code",
   "execution_count": 3,
   "metadata": {},
   "outputs": [],
   "source": [
    "class OUNoise:\n",
    "    def __init__(self, size, seed, mu=0., theta=OU_THETA, sigma=OU_SIGMA):\n",
    "        self.mu = mu * np.ones(size)\n",
    "        self.theta = theta\n",
    "        self.sigma = sigma\n",
    "        self.seed = random.seed(seed)\n",
    "        self.reset()\n",
    "\n",
    "    def reset(self):\n",
    "        self.state = copy.copy(self.mu)\n",
    "\n",
    "    def sample(self):\n",
    "        x = self.state\n",
    "        dx = self.theta * (self.mu - x) + self.sigma * np.array([random.random() for i in range(len(x))])\n",
    "        self.state = x + dx\n",
    "\n",
    "        return self.state"
   ]
  },
  {
   "cell_type": "markdown",
   "metadata": {},
   "source": [
    "Experience replay buffer implementation that stores and generates tuples for network training."
   ]
  },
  {
   "cell_type": "code",
   "execution_count": 4,
   "metadata": {},
   "outputs": [],
   "source": [
    "class ReplayBuffer:\n",
    "    def __init__(self, action_size, buffer_size, batch_size, seed):\n",
    "        self.action_size = action_size\n",
    "        self.memory = deque(maxlen=buffer_size)\n",
    "        self.batch_size = batch_size\n",
    "        self.experience = namedtuple(\"Experience\", field_names=[\"state\", \"action\", \"reward\", \"next_state\", \"done\"])\n",
    "        self.seed = random.seed(seed)\n",
    "\n",
    "    def add(self, state, action, reward, next_state, done):\n",
    "        e = self.experience(state, action, reward, next_state, done)\n",
    "        self.memory.append(e)\n",
    "\n",
    "    def sample(self):\n",
    "        experiences = random.sample(self.memory, k=self.batch_size)\n",
    "\n",
    "        states = torch.from_numpy(np.vstack([e.state for e in experiences if e is not None])).float().to(device)\n",
    "        actions = torch.from_numpy(np.vstack([e.action for e in experiences if e is not None])).float().to(device)\n",
    "        rewards = torch.from_numpy(np.vstack([e.reward for e in experiences if e is not None])).float().to(device)\n",
    "        next_states = torch.from_numpy(np.vstack([e.next_state for e in experiences if e is not None])).float().to(device)\n",
    "        dones = torch.from_numpy(np.vstack([e.done for e in experiences if e is not None]).astype(np.uint8)).float().to(device)\n",
    "\n",
    "        return (states, actions, rewards, next_states, dones)\n",
    "\n",
    "    def __len__(self):\n",
    "        return len(self.memory)"
   ]
  },
  {
   "cell_type": "markdown",
   "metadata": {},
   "source": [
    "PyTorch neural networks implementations for Actor and Critic. They will be used in other classes later on."
   ]
  },
  {
   "cell_type": "code",
   "execution_count": 5,
   "metadata": {},
   "outputs": [],
   "source": [
    "def hidden_init(layer):\n",
    "    fan_in = layer.weight.data.size()[0]\n",
    "    lim = 1. / np.sqrt(fan_in)\n",
    "\n",
    "    return (-lim, lim)\n",
    "\n",
    "\n",
    "class ActorNN(nn.Module):\n",
    "    def __init__(self, state_size, action_size, seed, fc1_units=512, fc2_units=256):\n",
    "        super(ActorNN, self).__init__()\n",
    "        self.seed = torch.manual_seed(seed)\n",
    "\n",
    "        self.fc1 = nn.Linear(state_size, fc1_units)\n",
    "        self.bn1 = nn.BatchNorm1d(fc1_units)\n",
    "        self.fc2 = nn.Linear(fc1_units, fc2_units)\n",
    "        self.fc3 = nn.Linear(fc2_units, action_size)\n",
    "        self.reset_parameters()\n",
    "\n",
    "    def reset_parameters(self):\n",
    "        self.fc1.weight.data.uniform_(*hidden_init(self.fc1))\n",
    "        self.fc2.weight.data.uniform_(*hidden_init(self.fc2))\n",
    "        self.fc3.weight.data.uniform_(-3e-3, 3e-3)\n",
    "\n",
    "    def forward(self, state):\n",
    "        x = F.relu(self.bn1(self.fc1(state)))\n",
    "        x = F.relu(self.fc2(x))\n",
    "\n",
    "        return F.tanh(self.fc3(x))\n",
    "\n",
    "\n",
    "class CriticNN(nn.Module):\n",
    "    def __init__(self, state_size, action_size, seed, fcs1_units=512, fc2_units=256):\n",
    "        super(CriticNN, self).__init__()\n",
    "        self.seed = torch.manual_seed(seed)\n",
    "\n",
    "        self.fcs1 = nn.Linear(state_size, fcs1_units)\n",
    "        self.bn1 = nn.BatchNorm1d(fcs1_units)\n",
    "        self.fc2 = nn.Linear(fcs1_units + action_size, fc2_units)\n",
    "        self.fc3 = nn.Linear(fc2_units, 1)\n",
    "        self.reset_parameters()\n",
    "\n",
    "    def reset_parameters(self):\n",
    "        self.fcs1.weight.data.uniform_(*hidden_init(self.fcs1))\n",
    "        self.fc2.weight.data.uniform_(*hidden_init(self.fc2))\n",
    "        self.fc3.weight.data.uniform_(-3e-3, 3e-3)\n",
    "\n",
    "    def forward(self, state, action):\n",
    "        xs = F.relu(self.bn1(self.fcs1(state)))\n",
    "        x = torch.cat((xs, action), dim=1)\n",
    "        x = F.relu(self.fc2(x))\n",
    "\n",
    "        return self.fc3(x)"
   ]
  },
  {
   "cell_type": "markdown",
   "metadata": {},
   "source": [
    "An Actor class that learns a policy. Each of the agent's in the environment has its own Actor. \n",
    "It shared experience replay memory with ather Actors."
   ]
  },
  {
   "cell_type": "code",
   "execution_count": 6,
   "metadata": {},
   "outputs": [],
   "source": [
    "class Actor(object):\n",
    "    def __init__(self, state_size, action_size, memory, random_seed):\n",
    "        self.state_size = state_size\n",
    "        self.action_size = action_size\n",
    "        self.seed = random.seed(random_seed)\n",
    "        self.epsilon = EPSILON\n",
    "\n",
    "        # actor networks\n",
    "        self.local = ActorNN(state_size, action_size, random_seed).to(device)\n",
    "        self.target = ActorNN(state_size, action_size, random_seed).to(device)\n",
    "        self.optimizer = optim.Adam(self.local.parameters(), lr=LR_ACTOR)\n",
    "\n",
    "        self.noise = OUNoise(action_size, random_seed)\n",
    "\n",
    "        self.memory = memory\n",
    "\n",
    "    def act(self, state, add_noise=True):\n",
    "        state = torch.from_numpy(state).float().to(device)\n",
    "        self.local.eval()\n",
    "        with torch.no_grad():\n",
    "            action = self.local(state).cpu().data.numpy()\n",
    "        self.local.train()\n",
    "        if add_noise:\n",
    "            #action += self.epsilon * self.noise.sample()\n",
    "            action += self.noise.sample()\n",
    "        return np.clip(action, -1, 1)\n",
    "\n",
    "    def reset(self):\n",
    "        self.noise.reset()"
   ]
  },
  {
   "cell_type": "markdown",
   "metadata": {},
   "source": [
    "A Critic class that implements the actual learning of 2 Actors and implement the actual DDPG algorith:\n",
    "* step 1: getting predicted next-state actions and Q values from target models\n",
    "* step 2: computing Q targets for current states \n",
    "* step 3: computing critic loss\n",
    "* step 4: minimizing critic loss and traing the network\n",
    "* step 5: computing actor loss (with '-' sign as this is gradient ascent\n",
    "* step 6: minimizing actor loss and traing the network\n",
    "* step 7: applying soft update and slowly mering local networks into target"
   ]
  },
  {
   "cell_type": "code",
   "execution_count": 7,
   "metadata": {},
   "outputs": [],
   "source": [
    "class Critic(object):\n",
    "    def __init__(self, state_size, action_size, memory, random_seed):\n",
    "        self.state_size = state_size\n",
    "        self.action_size = action_size\n",
    "        self.seed = random.seed(random_seed)\n",
    "        self.epsilon = EPSILON\n",
    "\n",
    "        # critic networks\n",
    "        self.local = CriticNN(state_size, action_size, random_seed).to(device)\n",
    "        self.target = CriticNN(state_size, action_size, random_seed).to(device)\n",
    "        self.optimizer = optim.Adam(self.local.parameters(), lr=LR_CRITIC, weight_decay=WEIGHT_DECAY)\n",
    "\n",
    "        self.memory = memory\n",
    "\n",
    "    def learn(self, actor, experiences):\n",
    "        states, actions, rewards, next_states, dones = experiences\n",
    "\n",
    "        # critic update\n",
    "        # step 1:\n",
    "        actions_next = actor.target(next_states)\n",
    "        Q_targets_next = self.target(next_states, actions_next)\n",
    "        # step 2:\n",
    "        Q_targets = rewards + (GAMMA * Q_targets_next * (1 - dones))\n",
    "        # step 3:\n",
    "        Q_expected = self.local(states, actions)\n",
    "        critic_loss = F.mse_loss(Q_expected, Q_targets)\n",
    "        # step 4:\n",
    "        self.optimizer.zero_grad()\n",
    "        critic_loss.backward()\n",
    "        #torch.nn.utils.clip_grad_norm_(self.critic_local.parameters(), 1)\n",
    "        self.optimizer.step()\n",
    "\n",
    "        # actor update\n",
    "        # step 5:\n",
    "        actions_pred = actor.local(states)\n",
    "        actor_loss = -self.local(states, actions_pred).mean()\n",
    "        # step 6:\n",
    "        actor.optimizer.zero_grad()\n",
    "        actor_loss.backward()\n",
    "        actor.optimizer.step()\n",
    "\n",
    "        # step 7:\n",
    "        self.soft_update(self.local, self.target, TAU)\n",
    "        self.soft_update(actor.local, actor.target, TAU)\n",
    "\n",
    "        # ---------------------------- update noise ---------------------------- #\n",
    "        #self.epsilon -= EPSILON_DECAY\n",
    "        #self.noise.reset()\n",
    "\n",
    "    def soft_update(self, local_model, target_model, tau):\n",
    "        for target_param, local_param in zip(target_model.parameters(), local_model.parameters()):\n",
    "            target_param.data.copy_(tau * local_param.data + (1.0 - tau) * target_param.data)"
   ]
  },
  {
   "cell_type": "markdown",
   "metadata": {},
   "source": [
    "AgenrManager is a helper class that encapsulates the functionality for working with Actors and a Critic. It also hold main exprience replay memory and shares it across all Actors."
   ]
  },
  {
   "cell_type": "code",
   "execution_count": 8,
   "metadata": {},
   "outputs": [],
   "source": [
    "class AgentManager:\n",
    "    def __init__(self, state_size, action_size, num_agents, random_seed):\n",
    "        self.num_agents = num_agents\n",
    "\n",
    "        self.memory = ReplayBuffer(action_size, BUFFER_SIZE, BATCH_SIZE, random_seed)\n",
    "\n",
    "        self.actors = [Actor(state_size, action_size, self.memory, random_seed) for _ in range(num_agents)]\n",
    "        self.critic = Critic(state_size, action_size, self.memory, random_seed)\n",
    "\n",
    "    def load_models(self):\n",
    "        for i, actor in enumerate(self.actors):\n",
    "            actor.local.load_state_dict(torch.load(\"actor_model_{}.pth\".format(i+1)))\n",
    "\n",
    "    def reset(self):\n",
    "        for actor in self.actors:\n",
    "            actor.reset()\n",
    "\n",
    "    def act(self, states, add_noise=True):\n",
    "        actions = [actor.act(np.expand_dims(states, axis=0), add_noise) for actor, states in zip(self.actors, states)]\n",
    "\n",
    "        return actions\n",
    "\n",
    "    def step(self, states, actions, rewards, next_states, dones, timestep):\n",
    "        for state, action, reward, next_state, done in zip(states, actions, rewards, next_states, dones):\n",
    "            self.memory.add(state, action, reward, next_state, done)\n",
    "\n",
    "        for actor in self.actors:\n",
    "            if len(self.memory) > BATCH_SIZE and timestep % LEARN_EVERY == 0:\n",
    "                for _ in range(LEARN_NUM):\n",
    "                    experiences = self.memory.sample()\n",
    "\n",
    "                    self.critic.learn(actor, experiences)"
   ]
  },
  {
   "cell_type": "markdown",
   "metadata": {},
   "source": [
    "A utility function that initiates Unity environment, an agent and starts the training."
   ]
  },
  {
   "cell_type": "code",
   "execution_count": 9,
   "metadata": {},
   "outputs": [],
   "source": [
    "def ddpg(n_episodes=2000, max_steps=500, solved_score=0.5, max_last_scores=100,\n",
    "         actor_path='actor_model_{}.pth', critic_path='critic_model.pth'):\n",
    "\n",
    "    last_scores = []\n",
    "    all_scores = []\n",
    "    for _ in range(num_agents):\n",
    "        last_scores.append(deque(maxlen=max_last_scores))\n",
    "        all_scores.append([])\n",
    "    #all_scores = []\n",
    "\n",
    "    max_last_average_score = -math.inf\n",
    "\n",
    "    for i_episode in range(1, n_episodes + 1):\n",
    "        env_info = env.reset(train_mode=True)[brain_name]\n",
    "        states = env_info.vector_observations\n",
    "        scores = np.zeros(num_agents)\n",
    "        agent_manager.reset()\n",
    "\n",
    "        for t in range(max_steps):\n",
    "            actions = agent_manager.act(states)\n",
    "            env_info = env.step(actions)[brain_name]\n",
    "            next_states = env_info.vector_observations\n",
    "            rewards = env_info.rewards\n",
    "            dones = env_info.local_done\n",
    "\n",
    "            agent_manager.step(states, actions, rewards, next_states, dones, t)\n",
    "\n",
    "            states = next_states\n",
    "            scores += rewards\n",
    "\n",
    "            if np.any(dones):\n",
    "                break\n",
    "\n",
    "        scores_string = \"average scores: \"\n",
    "        for i in range(num_agents):\n",
    "            average_score = np.mean(scores[i])\n",
    "\n",
    "            last_scores[i].append(average_score)\n",
    "            all_scores[i].append(average_score)\n",
    "\n",
    "            last_average_score = np.mean(last_scores[i])\n",
    "\n",
    "            scores_string += \"agent {} - {:.2f}, \".format(i, last_average_score)\n",
    "\n",
    "            if last_average_score > max_last_average_score:\n",
    "                max_last_average_score = last_average_score\n",
    "\n",
    "        print(\"\\repisode {}/{}, max score: {:.2f}, {}\".format(\n",
    "            i_episode, n_episodes, max_last_average_score, scores_string), end=\"\")\n",
    "        sys.stdout.flush()\n",
    "\n",
    "        if max_last_average_score >= solved_score:\n",
    "            print(\"\\nsolved in {} episodes\".format(i_episode))\n",
    "\n",
    "            torch.save(agent_manager.actors[0].local.state_dict(), actor_path.format(\"1\"))\n",
    "            torch.save(agent_manager.actors[1].local.state_dict(), actor_path.format(\"2\"))\n",
    "            torch.save(agent_manager.critic.local.state_dict(), critic_path)\n",
    "\n",
    "            plt.figure()\n",
    "\n",
    "            lines = []\n",
    "            lines.append(plt.plot(all_scores[0], color=\"green\", label=\"agent 1\")[0])\n",
    "            lines.append(plt.plot(all_scores[1], color=\"red\", label=\"agent 2\")[0])\n",
    "\n",
    "            plt.legend(handles=lines, loc=2)\n",
    "            plt.ylabel(\"score\")\n",
    "            plt.xlabel(\"episode #\")\n",
    "            plt.show()\n",
    "\n",
    "            break"
   ]
  },
  {
   "cell_type": "code",
   "execution_count": 10,
   "metadata": {},
   "outputs": [
    {
     "name": "stderr",
     "output_type": "stream",
     "text": [
      "INFO:unityagents:\n'Academy' started successfully!\nUnity Academy name: Academy\n        Number of Brains: 1\n        Number of External Brains : 1\n        Lesson number : 0\n        Reset Parameters :\n\t\t\nUnity brain name: TennisBrain\n        Number of Visual Observations (per agent): 0\n        Vector Observation space type: continuous\n        Vector Observation space size (per agent): 8\n        Number of stacked Vector Observation: 3\n        Vector Action space type: continuous\n        Vector Action space size (per agent): 2\n        Vector Action descriptions: , \n"
     ]
    },
    {
     "name": "stdout",
     "output_type": "stream",
     "text": [
      "Number of agents: 2\nSize of each action: 2\nThere are 2 agents. Each observes a state with length: 24\nThe state for the first agent looks like: [ 0.          0.          0.          0.          0.          0.\n  0.          0.          0.          0.          0.          0.\n  0.          0.          0.          0.         -6.65278625 -1.5\n -0.          0.          6.83172083  6.         -0.          0.        ]\n"
     ]
    },
    {
     "name": "stdout",
     "output_type": "stream",
     "text": [
      "\repisode 1/2000, max score: 0.00, average scores: agent 0 - 0.00, agent 1 - -0.01, "
     ]
    },
    {
     "name": "stdout",
     "output_type": "stream",
     "text": [
      "\repisode 2/2000, max score: 0.00, average scores: agent 0 - 0.00, agent 1 - -0.01, "
     ]
    },
    {
     "name": "stderr",
     "output_type": "stream",
     "text": [
      "/home/mexxik/.virtualenvs/drl-project-3/lib/python3.5/site-packages/torch/nn/functional.py:1320: UserWarning: nn.functional.tanh is deprecated. Use torch.tanh instead.\n  warnings.warn(\"nn.functional.tanh is deprecated. Use torch.tanh instead.\")\n"
     ]
    },
    {
     "name": "stdout",
     "output_type": "stream",
     "text": [
      "\repisode 3/2000, max score: 0.00, average scores: agent 0 - 0.00, agent 1 - -0.01, "
     ]
    },
    {
     "name": "stdout",
     "output_type": "stream",
     "text": [
      "\repisode 4/2000, max score: 0.00, average scores: agent 0 - 0.00, agent 1 - -0.01, "
     ]
    },
    {
     "name": "stdout",
     "output_type": "stream",
     "text": [
      "\repisode 5/2000, max score: 0.00, average scores: agent 0 - 0.00, agent 1 - -0.01, "
     ]
    },
    {
     "name": "stdout",
     "output_type": "stream",
     "text": [
      "\repisode 6/2000, max score: 0.00, average scores: agent 0 - -0.00, agent 1 - -0.01, "
     ]
    },
    {
     "name": "stdout",
     "output_type": "stream",
     "text": [
      "\repisode 7/2000, max score: 0.00, average scores: agent 0 - -0.00, agent 1 - -0.01, "
     ]
    },
    {
     "name": "stdout",
     "output_type": "stream",
     "text": [
      "\repisode 8/2000, max score: 0.00, average scores: agent 0 - -0.00, agent 1 - -0.01, "
     ]
    },
    {
     "name": "stdout",
     "output_type": "stream",
     "text": [
      "\repisode 9/2000, max score: 0.00, average scores: agent 0 - -0.00, agent 1 - -0.01, "
     ]
    },
    {
     "name": "stdout",
     "output_type": "stream",
     "text": [
      "\repisode 10/2000, max score: 0.00, average scores: agent 0 - -0.00, agent 1 - -0.01, "
     ]
    },
    {
     "name": "stdout",
     "output_type": "stream",
     "text": [
      "\repisode 11/2000, max score: 0.00, average scores: agent 0 - -0.00, agent 1 - -0.01, "
     ]
    },
    {
     "name": "stdout",
     "output_type": "stream",
     "text": [
      "\repisode 12/2000, max score: 0.00, average scores: agent 0 - -0.00, agent 1 - -0.01, "
     ]
    },
    {
     "name": "stdout",
     "output_type": "stream",
     "text": [
      "\repisode 13/2000, max score: 0.00, average scores: agent 0 - -0.00, agent 1 - -0.01, "
     ]
    },
    {
     "name": "stdout",
     "output_type": "stream",
     "text": [
      "\repisode 14/2000, max score: 0.00, average scores: agent 0 - -0.00, agent 1 - -0.01, "
     ]
    },
    {
     "name": "stdout",
     "output_type": "stream",
     "text": [
      "\repisode 15/2000, max score: 0.00, average scores: agent 0 - -0.00, agent 1 - -0.01, "
     ]
    },
    {
     "name": "stdout",
     "output_type": "stream",
     "text": [
      "\repisode 16/2000, max score: 0.00, average scores: agent 0 - -0.00, agent 1 - -0.01, "
     ]
    },
    {
     "name": "stdout",
     "output_type": "stream",
     "text": [
      "\repisode 17/2000, max score: 0.00, average scores: agent 0 - -0.00, agent 1 - -0.01, "
     ]
    },
    {
     "name": "stdout",
     "output_type": "stream",
     "text": [
      "\repisode 18/2000, max score: 0.00, average scores: agent 0 - -0.00, agent 1 - -0.01, "
     ]
    },
    {
     "name": "stdout",
     "output_type": "stream",
     "text": [
      "\repisode 19/2000, max score: 0.00, average scores: agent 0 - -0.00, agent 1 - -0.01, "
     ]
    },
    {
     "name": "stdout",
     "output_type": "stream",
     "text": [
      "\repisode 20/2000, max score: 0.00, average scores: agent 0 - -0.00, agent 1 - -0.01, "
     ]
    },
    {
     "name": "stdout",
     "output_type": "stream",
     "text": [
      "\repisode 21/2000, max score: 0.00, average scores: agent 0 - -0.00, agent 1 - -0.01, "
     ]
    },
    {
     "name": "stdout",
     "output_type": "stream",
     "text": [
      "\repisode 22/2000, max score: 0.00, average scores: agent 0 - -0.00, agent 1 - -0.01, "
     ]
    },
    {
     "name": "stdout",
     "output_type": "stream",
     "text": [
      "\repisode 23/2000, max score: 0.00, average scores: agent 0 - -0.00, agent 1 - -0.01, "
     ]
    },
    {
     "name": "stdout",
     "output_type": "stream",
     "text": [
      "\repisode 24/2000, max score: 0.00, average scores: agent 0 - -0.00, agent 1 - -0.01, "
     ]
    },
    {
     "name": "stdout",
     "output_type": "stream",
     "text": [
      "\repisode 25/2000, max score: 0.00, average scores: agent 0 - -0.00, agent 1 - -0.01, "
     ]
    },
    {
     "name": "stdout",
     "output_type": "stream",
     "text": [
      "\repisode 26/2000, max score: 0.00, average scores: agent 0 - -0.00, agent 1 - -0.01, "
     ]
    },
    {
     "name": "stdout",
     "output_type": "stream",
     "text": [
      "\repisode 27/2000, max score: 0.00, average scores: agent 0 - -0.00, agent 1 - -0.01, "
     ]
    },
    {
     "name": "stdout",
     "output_type": "stream",
     "text": [
      "\repisode 28/2000, max score: 0.00, average scores: agent 0 - -0.00, agent 1 - -0.01, "
     ]
    },
    {
     "name": "stdout",
     "output_type": "stream",
     "text": [
      "\repisode 29/2000, max score: 0.00, average scores: agent 0 - -0.00, agent 1 - -0.01, "
     ]
    },
    {
     "name": "stdout",
     "output_type": "stream",
     "text": [
      "\repisode 30/2000, max score: 0.00, average scores: agent 0 - -0.00, agent 1 - -0.01, "
     ]
    },
    {
     "name": "stdout",
     "output_type": "stream",
     "text": [
      "\repisode 31/2000, max score: 0.00, average scores: agent 0 - -0.00, agent 1 - -0.01, "
     ]
    },
    {
     "name": "stdout",
     "output_type": "stream",
     "text": [
      "\repisode 32/2000, max score: 0.00, average scores: agent 0 - -0.00, agent 1 - -0.01, "
     ]
    },
    {
     "name": "stdout",
     "output_type": "stream",
     "text": [
      "\repisode 33/2000, max score: 0.00, average scores: agent 0 - -0.00, agent 1 - -0.01, "
     ]
    },
    {
     "name": "stdout",
     "output_type": "stream",
     "text": [
      "\repisode 34/2000, max score: 0.00, average scores: agent 0 - -0.00, agent 1 - -0.01, "
     ]
    },
    {
     "name": "stdout",
     "output_type": "stream",
     "text": [
      "\repisode 35/2000, max score: 0.00, average scores: agent 0 - -0.00, agent 1 - -0.01, "
     ]
    },
    {
     "name": "stdout",
     "output_type": "stream",
     "text": [
      "\repisode 36/2000, max score: 0.00, average scores: agent 0 - -0.00, agent 1 - -0.00, "
     ]
    },
    {
     "name": "stdout",
     "output_type": "stream",
     "text": [
      "\repisode 37/2000, max score: 0.00, average scores: agent 0 - -0.00, agent 1 - -0.00, "
     ]
    },
    {
     "name": "stdout",
     "output_type": "stream",
     "text": [
      "\repisode 38/2000, max score: 0.00, average scores: agent 0 - -0.00, agent 1 - -0.00, "
     ]
    },
    {
     "name": "stdout",
     "output_type": "stream",
     "text": [
      "\repisode 39/2000, max score: 0.00, average scores: agent 0 - -0.00, agent 1 - -0.00, "
     ]
    },
    {
     "name": "stdout",
     "output_type": "stream",
     "text": [
      "\repisode 40/2000, max score: 0.00, average scores: agent 0 - -0.00, agent 1 - -0.00, "
     ]
    },
    {
     "name": "stdout",
     "output_type": "stream",
     "text": [
      "\repisode 41/2000, max score: 0.00, average scores: agent 0 - -0.00, agent 1 - -0.00, "
     ]
    },
    {
     "name": "stdout",
     "output_type": "stream",
     "text": [
      "\repisode 42/2000, max score: 0.00, average scores: agent 0 - -0.00, agent 1 - -0.00, "
     ]
    },
    {
     "name": "stdout",
     "output_type": "stream",
     "text": [
      "\repisode 43/2000, max score: 0.00, average scores: agent 0 - -0.00, agent 1 - -0.00, "
     ]
    },
    {
     "name": "stdout",
     "output_type": "stream",
     "text": [
      "\repisode 44/2000, max score: 0.00, average scores: agent 0 - -0.00, agent 1 - -0.00, "
     ]
    },
    {
     "name": "stdout",
     "output_type": "stream",
     "text": [
      "\repisode 45/2000, max score: 0.00, average scores: agent 0 - -0.00, agent 1 - -0.00, "
     ]
    },
    {
     "name": "stdout",
     "output_type": "stream",
     "text": [
      "\repisode 46/2000, max score: 0.00, average scores: agent 0 - -0.00, agent 1 - -0.00, "
     ]
    },
    {
     "name": "stdout",
     "output_type": "stream",
     "text": [
      "\repisode 47/2000, max score: 0.00, average scores: agent 0 - -0.00, agent 1 - -0.00, "
     ]
    },
    {
     "name": "stdout",
     "output_type": "stream",
     "text": [
      "\repisode 48/2000, max score: 0.00, average scores: agent 0 - -0.00, agent 1 - -0.00, "
     ]
    },
    {
     "name": "stdout",
     "output_type": "stream",
     "text": [
      "\repisode 49/2000, max score: 0.00, average scores: agent 0 - -0.00, agent 1 - -0.00, "
     ]
    },
    {
     "name": "stdout",
     "output_type": "stream",
     "text": [
      "\repisode 50/2000, max score: 0.00, average scores: agent 0 - -0.00, agent 1 - -0.00, "
     ]
    },
    {
     "name": "stdout",
     "output_type": "stream",
     "text": [
      "\repisode 51/2000, max score: 0.00, average scores: agent 0 - -0.00, agent 1 - -0.00, "
     ]
    },
    {
     "name": "stdout",
     "output_type": "stream",
     "text": [
      "\repisode 52/2000, max score: 0.00, average scores: agent 0 - -0.00, agent 1 - -0.00, "
     ]
    },
    {
     "name": "stdout",
     "output_type": "stream",
     "text": [
      "\repisode 53/2000, max score: 0.00, average scores: agent 0 - -0.00, agent 1 - -0.00, "
     ]
    },
    {
     "name": "stdout",
     "output_type": "stream",
     "text": [
      "\repisode 54/2000, max score: 0.00, average scores: agent 0 - -0.00, agent 1 - -0.00, "
     ]
    },
    {
     "name": "stdout",
     "output_type": "stream",
     "text": [
      "\repisode 55/2000, max score: 0.00, average scores: agent 0 - -0.00, agent 1 - -0.00, "
     ]
    },
    {
     "name": "stdout",
     "output_type": "stream",
     "text": [
      "\repisode 56/2000, max score: 0.00, average scores: agent 0 - -0.00, agent 1 - -0.00, "
     ]
    },
    {
     "name": "stdout",
     "output_type": "stream",
     "text": [
      "\repisode 57/2000, max score: 0.00, average scores: agent 0 - -0.00, agent 1 - -0.00, "
     ]
    },
    {
     "name": "stdout",
     "output_type": "stream",
     "text": [
      "\repisode 58/2000, max score: 0.00, average scores: agent 0 - -0.00, agent 1 - -0.00, "
     ]
    },
    {
     "name": "stdout",
     "output_type": "stream",
     "text": [
      "\repisode 59/2000, max score: 0.00, average scores: agent 0 - -0.00, agent 1 - -0.00, "
     ]
    },
    {
     "name": "stdout",
     "output_type": "stream",
     "text": [
      "\repisode 60/2000, max score: 0.00, average scores: agent 0 - -0.00, agent 1 - -0.00, "
     ]
    },
    {
     "name": "stdout",
     "output_type": "stream",
     "text": [
      "\repisode 61/2000, max score: 0.00, average scores: agent 0 - -0.00, agent 1 - -0.00, "
     ]
    },
    {
     "name": "stdout",
     "output_type": "stream",
     "text": [
      "\repisode 62/2000, max score: 0.00, average scores: agent 0 - -0.00, agent 1 - -0.00, "
     ]
    },
    {
     "name": "stdout",
     "output_type": "stream",
     "text": [
      "\repisode 63/2000, max score: 0.00, average scores: agent 0 - -0.00, agent 1 - -0.00, "
     ]
    },
    {
     "name": "stdout",
     "output_type": "stream",
     "text": [
      "\repisode 64/2000, max score: 0.00, average scores: agent 0 - -0.00, agent 1 - -0.00, "
     ]
    },
    {
     "name": "stdout",
     "output_type": "stream",
     "text": [
      "\repisode 65/2000, max score: 0.00, average scores: agent 0 - -0.00, agent 1 - -0.00, "
     ]
    },
    {
     "name": "stdout",
     "output_type": "stream",
     "text": [
      "\repisode 66/2000, max score: 0.00, average scores: agent 0 - -0.00, agent 1 - -0.00, "
     ]
    },
    {
     "name": "stdout",
     "output_type": "stream",
     "text": [
      "\repisode 67/2000, max score: 0.00, average scores: agent 0 - -0.00, agent 1 - -0.00, "
     ]
    },
    {
     "name": "stdout",
     "output_type": "stream",
     "text": [
      "\repisode 68/2000, max score: 0.00, average scores: agent 0 - -0.00, agent 1 - -0.00, "
     ]
    },
    {
     "name": "stdout",
     "output_type": "stream",
     "text": [
      "\repisode 69/2000, max score: 0.00, average scores: agent 0 - -0.00, agent 1 - -0.00, "
     ]
    },
    {
     "name": "stdout",
     "output_type": "stream",
     "text": [
      "\repisode 70/2000, max score: 0.00, average scores: agent 0 - -0.00, agent 1 - -0.00, "
     ]
    },
    {
     "name": "stdout",
     "output_type": "stream",
     "text": [
      "\repisode 71/2000, max score: 0.00, average scores: agent 0 - -0.00, agent 1 - -0.00, "
     ]
    },
    {
     "name": "stdout",
     "output_type": "stream",
     "text": [
      "\repisode 72/2000, max score: 0.00, average scores: agent 0 - -0.00, agent 1 - -0.00, "
     ]
    },
    {
     "name": "stdout",
     "output_type": "stream",
     "text": [
      "\repisode 73/2000, max score: 0.00, average scores: agent 0 - -0.00, agent 1 - -0.00, "
     ]
    },
    {
     "name": "stdout",
     "output_type": "stream",
     "text": [
      "\repisode 74/2000, max score: 0.00, average scores: agent 0 - -0.00, agent 1 - -0.00, "
     ]
    },
    {
     "name": "stdout",
     "output_type": "stream",
     "text": [
      "\repisode 75/2000, max score: 0.00, average scores: agent 0 - -0.00, agent 1 - -0.00, "
     ]
    },
    {
     "name": "stdout",
     "output_type": "stream",
     "text": [
      "\repisode 76/2000, max score: 0.00, average scores: agent 0 - -0.00, agent 1 - -0.00, "
     ]
    },
    {
     "name": "stdout",
     "output_type": "stream",
     "text": [
      "\repisode 77/2000, max score: 0.00, average scores: agent 0 - -0.00, agent 1 - -0.00, "
     ]
    },
    {
     "name": "stdout",
     "output_type": "stream",
     "text": [
      "\repisode 78/2000, max score: 0.00, average scores: agent 0 - -0.00, agent 1 - -0.00, "
     ]
    },
    {
     "name": "stdout",
     "output_type": "stream",
     "text": [
      "\repisode 79/2000, max score: 0.00, average scores: agent 0 - -0.00, agent 1 - -0.00, "
     ]
    },
    {
     "name": "stdout",
     "output_type": "stream",
     "text": [
      "\repisode 80/2000, max score: 0.00, average scores: agent 0 - -0.00, agent 1 - -0.00, "
     ]
    },
    {
     "name": "stdout",
     "output_type": "stream",
     "text": [
      "\repisode 81/2000, max score: 0.00, average scores: agent 0 - -0.00, agent 1 - -0.00, "
     ]
    },
    {
     "name": "stdout",
     "output_type": "stream",
     "text": [
      "\repisode 82/2000, max score: 0.00, average scores: agent 0 - -0.00, agent 1 - -0.00, "
     ]
    },
    {
     "name": "stdout",
     "output_type": "stream",
     "text": [
      "\repisode 83/2000, max score: 0.00, average scores: agent 0 - -0.00, agent 1 - -0.00, "
     ]
    },
    {
     "name": "stdout",
     "output_type": "stream",
     "text": [
      "\repisode 84/2000, max score: 0.00, average scores: agent 0 - -0.00, agent 1 - -0.00, "
     ]
    },
    {
     "name": "stdout",
     "output_type": "stream",
     "text": [
      "\repisode 85/2000, max score: 0.00, average scores: agent 0 - -0.00, agent 1 - -0.00, "
     ]
    },
    {
     "name": "stdout",
     "output_type": "stream",
     "text": [
      "\repisode 86/2000, max score: 0.00, average scores: agent 0 - -0.00, agent 1 - -0.00, "
     ]
    },
    {
     "name": "stdout",
     "output_type": "stream",
     "text": [
      "\repisode 87/2000, max score: 0.00, average scores: agent 0 - -0.00, agent 1 - 0.00, "
     ]
    },
    {
     "name": "stdout",
     "output_type": "stream",
     "text": [
      "\repisode 88/2000, max score: 0.00, average scores: agent 0 - -0.00, agent 1 - 0.00, "
     ]
    },
    {
     "name": "stdout",
     "output_type": "stream",
     "text": [
      "\repisode 89/2000, max score: 0.00, average scores: agent 0 - -0.00, agent 1 - 0.00, "
     ]
    },
    {
     "name": "stdout",
     "output_type": "stream",
     "text": [
      "\repisode 90/2000, max score: 0.00, average scores: agent 0 - -0.00, agent 1 - 0.00, "
     ]
    },
    {
     "name": "stdout",
     "output_type": "stream",
     "text": [
      "\repisode 91/2000, max score: 0.00, average scores: agent 0 - -0.00, agent 1 - 0.00, "
     ]
    },
    {
     "name": "stdout",
     "output_type": "stream",
     "text": [
      "\repisode 92/2000, max score: 0.00, average scores: agent 0 - 0.00, agent 1 - 0.00, "
     ]
    },
    {
     "name": "stdout",
     "output_type": "stream",
     "text": [
      "\repisode 93/2000, max score: 0.00, average scores: agent 0 - 0.00, agent 1 - 0.00, "
     ]
    },
    {
     "name": "stdout",
     "output_type": "stream",
     "text": [
      "\repisode 94/2000, max score: 0.00, average scores: agent 0 - 0.00, agent 1 - 0.00, "
     ]
    },
    {
     "name": "stdout",
     "output_type": "stream",
     "text": [
      "\repisode 95/2000, max score: 0.00, average scores: agent 0 - 0.00, agent 1 - 0.00, "
     ]
    },
    {
     "name": "stdout",
     "output_type": "stream",
     "text": [
      "\repisode 96/2000, max score: 0.00, average scores: agent 0 - 0.00, agent 1 - 0.00, "
     ]
    },
    {
     "name": "stdout",
     "output_type": "stream",
     "text": [
      "\repisode 97/2000, max score: 0.00, average scores: agent 0 - 0.00, agent 1 - 0.00, "
     ]
    },
    {
     "name": "stdout",
     "output_type": "stream",
     "text": [
      "\repisode 98/2000, max score: 0.00, average scores: agent 0 - 0.00, agent 1 - 0.00, "
     ]
    },
    {
     "name": "stdout",
     "output_type": "stream",
     "text": [
      "\repisode 99/2000, max score: 0.00, average scores: agent 0 - 0.00, agent 1 - 0.00, "
     ]
    },
    {
     "name": "stdout",
     "output_type": "stream",
     "text": [
      "\repisode 100/2000, max score: 0.00, average scores: agent 0 - 0.00, agent 1 - 0.00, "
     ]
    },
    {
     "name": "stdout",
     "output_type": "stream",
     "text": [
      "\repisode 101/2000, max score: 0.01, average scores: agent 0 - 0.00, agent 1 - 0.01, "
     ]
    },
    {
     "name": "stdout",
     "output_type": "stream",
     "text": [
      "\repisode 102/2000, max score: 0.01, average scores: agent 0 - 0.00, agent 1 - 0.01, "
     ]
    },
    {
     "name": "stdout",
     "output_type": "stream",
     "text": [
      "\repisode 103/2000, max score: 0.01, average scores: agent 0 - 0.00, agent 1 - 0.01, "
     ]
    },
    {
     "name": "stdout",
     "output_type": "stream",
     "text": [
      "\repisode 104/2000, max score: 0.01, average scores: agent 0 - 0.00, agent 1 - 0.01, "
     ]
    },
    {
     "name": "stdout",
     "output_type": "stream",
     "text": [
      "\repisode 105/2000, max score: 0.01, average scores: agent 0 - 0.00, agent 1 - 0.01, "
     ]
    },
    {
     "name": "stdout",
     "output_type": "stream",
     "text": [
      "\repisode 106/2000, max score: 0.01, average scores: agent 0 - 0.01, agent 1 - 0.00, "
     ]
    },
    {
     "name": "stdout",
     "output_type": "stream",
     "text": [
      "\repisode 107/2000, max score: 0.01, average scores: agent 0 - 0.01, agent 1 - 0.01, "
     ]
    },
    {
     "name": "stdout",
     "output_type": "stream",
     "text": [
      "\repisode 108/2000, max score: 0.01, average scores: agent 0 - 0.01, agent 1 - 0.01, "
     ]
    },
    {
     "name": "stdout",
     "output_type": "stream",
     "text": [
      "\repisode 109/2000, max score: 0.01, average scores: agent 0 - 0.01, agent 1 - 0.01, "
     ]
    },
    {
     "name": "stdout",
     "output_type": "stream",
     "text": [
      "\repisode 110/2000, max score: 0.01, average scores: agent 0 - 0.01, agent 1 - 0.01, "
     ]
    },
    {
     "name": "stdout",
     "output_type": "stream",
     "text": [
      "\repisode 111/2000, max score: 0.01, average scores: agent 0 - 0.01, agent 1 - 0.01, "
     ]
    },
    {
     "name": "stdout",
     "output_type": "stream",
     "text": [
      "\repisode 112/2000, max score: 0.01, average scores: agent 0 - 0.01, agent 1 - 0.01, "
     ]
    },
    {
     "name": "stdout",
     "output_type": "stream",
     "text": [
      "\repisode 113/2000, max score: 0.01, average scores: agent 0 - 0.01, agent 1 - 0.01, "
     ]
    },
    {
     "name": "stdout",
     "output_type": "stream",
     "text": [
      "\repisode 114/2000, max score: 0.01, average scores: agent 0 - 0.01, agent 1 - 0.01, "
     ]
    },
    {
     "name": "stdout",
     "output_type": "stream",
     "text": [
      "\repisode 115/2000, max score: 0.01, average scores: agent 0 - 0.01, agent 1 - 0.01, "
     ]
    },
    {
     "name": "stdout",
     "output_type": "stream",
     "text": [
      "\repisode 116/2000, max score: 0.01, average scores: agent 0 - 0.01, agent 1 - 0.01, "
     ]
    },
    {
     "name": "stdout",
     "output_type": "stream",
     "text": [
      "\repisode 117/2000, max score: 0.01, average scores: agent 0 - 0.01, agent 1 - 0.01, "
     ]
    },
    {
     "name": "stdout",
     "output_type": "stream",
     "text": [
      "\repisode 118/2000, max score: 0.01, average scores: agent 0 - 0.01, agent 1 - 0.01, "
     ]
    },
    {
     "name": "stdout",
     "output_type": "stream",
     "text": [
      "\repisode 119/2000, max score: 0.01, average scores: agent 0 - 0.01, agent 1 - 0.01, "
     ]
    },
    {
     "name": "stdout",
     "output_type": "stream",
     "text": [
      "\repisode 120/2000, max score: 0.01, average scores: agent 0 - 0.01, agent 1 - 0.01, "
     ]
    },
    {
     "name": "stdout",
     "output_type": "stream",
     "text": [
      "\repisode 121/2000, max score: 0.01, average scores: agent 0 - 0.01, agent 1 - 0.01, "
     ]
    },
    {
     "name": "stdout",
     "output_type": "stream",
     "text": [
      "\repisode 122/2000, max score: 0.01, average scores: agent 0 - 0.01, agent 1 - 0.01, "
     ]
    },
    {
     "name": "stdout",
     "output_type": "stream",
     "text": [
      "\repisode 123/2000, max score: 0.01, average scores: agent 0 - 0.01, agent 1 - 0.01, "
     ]
    },
    {
     "name": "stdout",
     "output_type": "stream",
     "text": [
      "\repisode 124/2000, max score: 0.01, average scores: agent 0 - 0.01, agent 1 - 0.01, "
     ]
    },
    {
     "name": "stdout",
     "output_type": "stream",
     "text": [
      "\repisode 125/2000, max score: 0.01, average scores: agent 0 - 0.01, agent 1 - 0.01, "
     ]
    },
    {
     "name": "stdout",
     "output_type": "stream",
     "text": [
      "\repisode 126/2000, max score: 0.01, average scores: agent 0 - 0.01, agent 1 - 0.01, "
     ]
    },
    {
     "name": "stdout",
     "output_type": "stream",
     "text": [
      "\repisode 127/2000, max score: 0.01, average scores: agent 0 - 0.01, agent 1 - 0.01, "
     ]
    },
    {
     "name": "stdout",
     "output_type": "stream",
     "text": [
      "\repisode 128/2000, max score: 0.01, average scores: agent 0 - 0.01, agent 1 - 0.01, "
     ]
    },
    {
     "name": "stdout",
     "output_type": "stream",
     "text": [
      "\repisode 129/2000, max score: 0.02, average scores: agent 0 - 0.02, agent 1 - 0.01, "
     ]
    },
    {
     "name": "stdout",
     "output_type": "stream",
     "text": [
      "\repisode 130/2000, max score: 0.02, average scores: agent 0 - 0.02, agent 1 - 0.02, "
     ]
    },
    {
     "name": "stdout",
     "output_type": "stream",
     "text": [
      "\repisode 131/2000, max score: 0.02, average scores: agent 0 - 0.02, agent 1 - 0.02, "
     ]
    },
    {
     "name": "stdout",
     "output_type": "stream",
     "text": [
      "\repisode 132/2000, max score: 0.02, average scores: agent 0 - 0.02, agent 1 - 0.02, "
     ]
    },
    {
     "name": "stdout",
     "output_type": "stream",
     "text": [
      "\repisode 133/2000, max score: 0.02, average scores: agent 0 - 0.02, agent 1 - 0.02, "
     ]
    },
    {
     "name": "stdout",
     "output_type": "stream",
     "text": [
      "\repisode 134/2000, max score: 0.02, average scores: agent 0 - 0.02, agent 1 - 0.02, "
     ]
    },
    {
     "name": "stdout",
     "output_type": "stream",
     "text": [
      "\repisode 135/2000, max score: 0.02, average scores: agent 0 - 0.02, agent 1 - 0.02, "
     ]
    },
    {
     "name": "stdout",
     "output_type": "stream",
     "text": [
      "\repisode 136/2000, max score: 0.02, average scores: agent 0 - 0.02, agent 1 - 0.02, "
     ]
    },
    {
     "name": "stdout",
     "output_type": "stream",
     "text": [
      "\repisode 137/2000, max score: 0.02, average scores: agent 0 - 0.02, agent 1 - 0.02, "
     ]
    },
    {
     "name": "stdout",
     "output_type": "stream",
     "text": [
      "\repisode 138/2000, max score: 0.02, average scores: agent 0 - 0.02, agent 1 - 0.02, "
     ]
    },
    {
     "name": "stdout",
     "output_type": "stream",
     "text": [
      "\repisode 139/2000, max score: 0.02, average scores: agent 0 - 0.02, agent 1 - 0.02, "
     ]
    },
    {
     "name": "stdout",
     "output_type": "stream",
     "text": [
      "\repisode 140/2000, max score: 0.02, average scores: agent 0 - 0.02, agent 1 - 0.02, "
     ]
    },
    {
     "name": "stdout",
     "output_type": "stream",
     "text": [
      "\repisode 141/2000, max score: 0.02, average scores: agent 0 - 0.02, agent 1 - 0.02, "
     ]
    },
    {
     "name": "stdout",
     "output_type": "stream",
     "text": [
      "\repisode 142/2000, max score: 0.02, average scores: agent 0 - 0.02, agent 1 - 0.02, "
     ]
    },
    {
     "name": "stdout",
     "output_type": "stream",
     "text": [
      "\repisode 143/2000, max score: 0.02, average scores: agent 0 - 0.02, agent 1 - 0.02, "
     ]
    },
    {
     "name": "stdout",
     "output_type": "stream",
     "text": [
      "\repisode 144/2000, max score: 0.02, average scores: agent 0 - 0.02, agent 1 - 0.02, "
     ]
    },
    {
     "name": "stdout",
     "output_type": "stream",
     "text": [
      "\repisode 145/2000, max score: 0.02, average scores: agent 0 - 0.02, agent 1 - 0.02, "
     ]
    },
    {
     "name": "stdout",
     "output_type": "stream",
     "text": [
      "\repisode 146/2000, max score: 0.02, average scores: agent 0 - 0.02, agent 1 - 0.02, "
     ]
    },
    {
     "name": "stdout",
     "output_type": "stream",
     "text": [
      "\repisode 147/2000, max score: 0.03, average scores: agent 0 - 0.03, agent 1 - 0.02, "
     ]
    },
    {
     "name": "stdout",
     "output_type": "stream",
     "text": [
      "\repisode 148/2000, max score: 0.03, average scores: agent 0 - 0.03, agent 1 - 0.02, "
     ]
    },
    {
     "name": "stdout",
     "output_type": "stream",
     "text": [
      "\repisode 149/2000, max score: 0.03, average scores: agent 0 - 0.03, agent 1 - 0.02, "
     ]
    },
    {
     "name": "stdout",
     "output_type": "stream",
     "text": [
      "\repisode 150/2000, max score: 0.03, average scores: agent 0 - 0.03, agent 1 - 0.02, "
     ]
    },
    {
     "name": "stdout",
     "output_type": "stream",
     "text": [
      "\repisode 151/2000, max score: 0.03, average scores: agent 0 - 0.03, agent 1 - 0.02, "
     ]
    },
    {
     "name": "stdout",
     "output_type": "stream",
     "text": [
      "\repisode 152/2000, max score: 0.03, average scores: agent 0 - 0.03, agent 1 - 0.02, "
     ]
    },
    {
     "name": "stdout",
     "output_type": "stream",
     "text": [
      "\repisode 153/2000, max score: 0.03, average scores: agent 0 - 0.03, agent 1 - 0.02, "
     ]
    },
    {
     "name": "stdout",
     "output_type": "stream",
     "text": [
      "\repisode 154/2000, max score: 0.03, average scores: agent 0 - 0.03, agent 1 - 0.02, "
     ]
    },
    {
     "name": "stdout",
     "output_type": "stream",
     "text": [
      "\repisode 155/2000, max score: 0.03, average scores: agent 0 - 0.03, agent 1 - 0.02, "
     ]
    },
    {
     "name": "stdout",
     "output_type": "stream",
     "text": [
      "\repisode 156/2000, max score: 0.03, average scores: agent 0 - 0.03, agent 1 - 0.02, "
     ]
    },
    {
     "name": "stdout",
     "output_type": "stream",
     "text": [
      "\repisode 157/2000, max score: 0.03, average scores: agent 0 - 0.03, agent 1 - 0.02, "
     ]
    },
    {
     "name": "stdout",
     "output_type": "stream",
     "text": [
      "\repisode 158/2000, max score: 0.03, average scores: agent 0 - 0.03, agent 1 - 0.02, "
     ]
    },
    {
     "name": "stdout",
     "output_type": "stream",
     "text": [
      "\repisode 159/2000, max score: 0.03, average scores: agent 0 - 0.03, agent 1 - 0.02, "
     ]
    },
    {
     "name": "stdout",
     "output_type": "stream",
     "text": [
      "\repisode 160/2000, max score: 0.03, average scores: agent 0 - 0.03, agent 1 - 0.02, "
     ]
    },
    {
     "name": "stdout",
     "output_type": "stream",
     "text": [
      "\repisode 161/2000, max score: 0.03, average scores: agent 0 - 0.03, agent 1 - 0.02, "
     ]
    },
    {
     "name": "stdout",
     "output_type": "stream",
     "text": [
      "\repisode 162/2000, max score: 0.03, average scores: agent 0 - 0.03, agent 1 - 0.03, "
     ]
    },
    {
     "name": "stdout",
     "output_type": "stream",
     "text": [
      "\repisode 163/2000, max score: 0.03, average scores: agent 0 - 0.03, agent 1 - 0.03, "
     ]
    },
    {
     "name": "stdout",
     "output_type": "stream",
     "text": [
      "\repisode 164/2000, max score: 0.03, average scores: agent 0 - 0.03, agent 1 - 0.03, "
     ]
    },
    {
     "name": "stdout",
     "output_type": "stream",
     "text": [
      "\repisode 165/2000, max score: 0.03, average scores: agent 0 - 0.03, agent 1 - 0.03, "
     ]
    },
    {
     "name": "stdout",
     "output_type": "stream",
     "text": [
      "\repisode 166/2000, max score: 0.04, average scores: agent 0 - 0.04, agent 1 - 0.03, "
     ]
    },
    {
     "name": "stdout",
     "output_type": "stream",
     "text": [
      "\repisode 167/2000, max score: 0.04, average scores: agent 0 - 0.04, agent 1 - 0.03, "
     ]
    },
    {
     "name": "stdout",
     "output_type": "stream",
     "text": [
      "\repisode 168/2000, max score: 0.04, average scores: agent 0 - 0.04, agent 1 - 0.03, "
     ]
    },
    {
     "name": "stdout",
     "output_type": "stream",
     "text": [
      "\repisode 169/2000, max score: 0.04, average scores: agent 0 - 0.04, agent 1 - 0.03, "
     ]
    },
    {
     "name": "stdout",
     "output_type": "stream",
     "text": [
      "\repisode 170/2000, max score: 0.04, average scores: agent 0 - 0.04, agent 1 - 0.03, "
     ]
    },
    {
     "name": "stdout",
     "output_type": "stream",
     "text": [
      "\repisode 171/2000, max score: 0.04, average scores: agent 0 - 0.04, agent 1 - 0.03, "
     ]
    },
    {
     "name": "stdout",
     "output_type": "stream",
     "text": [
      "\repisode 172/2000, max score: 0.04, average scores: agent 0 - 0.04, agent 1 - 0.03, "
     ]
    },
    {
     "name": "stdout",
     "output_type": "stream",
     "text": [
      "\repisode 173/2000, max score: 0.04, average scores: agent 0 - 0.04, agent 1 - 0.03, "
     ]
    },
    {
     "name": "stdout",
     "output_type": "stream",
     "text": [
      "\repisode 174/2000, max score: 0.04, average scores: agent 0 - 0.04, agent 1 - 0.03, "
     ]
    },
    {
     "name": "stdout",
     "output_type": "stream",
     "text": [
      "\repisode 175/2000, max score: 0.04, average scores: agent 0 - 0.04, agent 1 - 0.03, "
     ]
    },
    {
     "name": "stdout",
     "output_type": "stream",
     "text": [
      "\repisode 176/2000, max score: 0.04, average scores: agent 0 - 0.04, agent 1 - 0.03, "
     ]
    },
    {
     "name": "stdout",
     "output_type": "stream",
     "text": [
      "\repisode 177/2000, max score: 0.04, average scores: agent 0 - 0.04, agent 1 - 0.03, "
     ]
    },
    {
     "name": "stdout",
     "output_type": "stream",
     "text": [
      "\repisode 178/2000, max score: 0.04, average scores: agent 0 - 0.04, agent 1 - 0.03, "
     ]
    },
    {
     "name": "stdout",
     "output_type": "stream",
     "text": [
      "\repisode 179/2000, max score: 0.04, average scores: agent 0 - 0.04, agent 1 - 0.03, "
     ]
    },
    {
     "name": "stdout",
     "output_type": "stream",
     "text": [
      "\repisode 180/2000, max score: 0.04, average scores: agent 0 - 0.04, agent 1 - 0.03, "
     ]
    },
    {
     "name": "stdout",
     "output_type": "stream",
     "text": [
      "\repisode 181/2000, max score: 0.04, average scores: agent 0 - 0.04, agent 1 - 0.03, "
     ]
    },
    {
     "name": "stdout",
     "output_type": "stream",
     "text": [
      "\repisode 182/2000, max score: 0.04, average scores: agent 0 - 0.04, agent 1 - 0.03, "
     ]
    },
    {
     "name": "stdout",
     "output_type": "stream",
     "text": [
      "\repisode 183/2000, max score: 0.04, average scores: agent 0 - 0.04, agent 1 - 0.03, "
     ]
    },
    {
     "name": "stdout",
     "output_type": "stream",
     "text": [
      "\repisode 184/2000, max score: 0.04, average scores: agent 0 - 0.04, agent 1 - 0.04, "
     ]
    },
    {
     "name": "stdout",
     "output_type": "stream",
     "text": [
      "\repisode 185/2000, max score: 0.04, average scores: agent 0 - 0.04, agent 1 - 0.04, "
     ]
    },
    {
     "name": "stdout",
     "output_type": "stream",
     "text": [
      "\repisode 186/2000, max score: 0.04, average scores: agent 0 - 0.04, agent 1 - 0.04, "
     ]
    },
    {
     "name": "stdout",
     "output_type": "stream",
     "text": [
      "\repisode 187/2000, max score: 0.05, average scores: agent 0 - 0.05, agent 1 - 0.04, "
     ]
    },
    {
     "name": "stdout",
     "output_type": "stream",
     "text": [
      "\repisode 188/2000, max score: 0.05, average scores: agent 0 - 0.05, agent 1 - 0.04, "
     ]
    },
    {
     "name": "stdout",
     "output_type": "stream",
     "text": [
      "\repisode 189/2000, max score: 0.05, average scores: agent 0 - 0.05, agent 1 - 0.04, "
     ]
    },
    {
     "name": "stdout",
     "output_type": "stream",
     "text": [
      "\repisode 190/2000, max score: 0.05, average scores: agent 0 - 0.05, agent 1 - 0.04, "
     ]
    },
    {
     "name": "stdout",
     "output_type": "stream",
     "text": [
      "\repisode 191/2000, max score: 0.05, average scores: agent 0 - 0.05, agent 1 - 0.04, "
     ]
    },
    {
     "name": "stdout",
     "output_type": "stream",
     "text": [
      "\repisode 192/2000, max score: 0.05, average scores: agent 0 - 0.05, agent 1 - 0.04, "
     ]
    },
    {
     "name": "stdout",
     "output_type": "stream",
     "text": [
      "\repisode 193/2000, max score: 0.05, average scores: agent 0 - 0.05, agent 1 - 0.04, "
     ]
    },
    {
     "name": "stdout",
     "output_type": "stream",
     "text": [
      "\repisode 194/2000, max score: 0.05, average scores: agent 0 - 0.05, agent 1 - 0.04, "
     ]
    },
    {
     "name": "stdout",
     "output_type": "stream",
     "text": [
      "\repisode 195/2000, max score: 0.05, average scores: agent 0 - 0.04, agent 1 - 0.04, "
     ]
    },
    {
     "name": "stdout",
     "output_type": "stream",
     "text": [
      "\repisode 196/2000, max score: 0.05, average scores: agent 0 - 0.05, agent 1 - 0.04, "
     ]
    },
    {
     "name": "stdout",
     "output_type": "stream",
     "text": [
      "\repisode 197/2000, max score: 0.05, average scores: agent 0 - 0.05, agent 1 - 0.04, "
     ]
    },
    {
     "name": "stdout",
     "output_type": "stream",
     "text": [
      "\repisode 198/2000, max score: 0.05, average scores: agent 0 - 0.05, agent 1 - 0.04, "
     ]
    },
    {
     "name": "stdout",
     "output_type": "stream",
     "text": [
      "\repisode 199/2000, max score: 0.05, average scores: agent 0 - 0.05, agent 1 - 0.04, "
     ]
    },
    {
     "name": "stdout",
     "output_type": "stream",
     "text": [
      "\repisode 200/2000, max score: 0.05, average scores: agent 0 - 0.05, agent 1 - 0.04, "
     ]
    },
    {
     "name": "stdout",
     "output_type": "stream",
     "text": [
      "\repisode 201/2000, max score: 0.05, average scores: agent 0 - 0.05, agent 1 - 0.04, "
     ]
    },
    {
     "name": "stdout",
     "output_type": "stream",
     "text": [
      "\repisode 202/2000, max score: 0.05, average scores: agent 0 - 0.05, agent 1 - 0.04, "
     ]
    },
    {
     "name": "stdout",
     "output_type": "stream",
     "text": [
      "\repisode 203/2000, max score: 0.05, average scores: agent 0 - 0.05, agent 1 - 0.04, "
     ]
    },
    {
     "name": "stdout",
     "output_type": "stream",
     "text": [
      "\repisode 204/2000, max score: 0.05, average scores: agent 0 - 0.05, agent 1 - 0.04, "
     ]
    },
    {
     "name": "stdout",
     "output_type": "stream",
     "text": [
      "\repisode 205/2000, max score: 0.05, average scores: agent 0 - 0.05, agent 1 - 0.04, "
     ]
    },
    {
     "name": "stdout",
     "output_type": "stream",
     "text": [
      "\repisode 206/2000, max score: 0.05, average scores: agent 0 - 0.05, agent 1 - 0.04, "
     ]
    },
    {
     "name": "stdout",
     "output_type": "stream",
     "text": [
      "\repisode 207/2000, max score: 0.05, average scores: agent 0 - 0.05, agent 1 - 0.04, "
     ]
    },
    {
     "name": "stdout",
     "output_type": "stream",
     "text": [
      "\repisode 208/2000, max score: 0.05, average scores: agent 0 - 0.05, agent 1 - 0.04, "
     ]
    },
    {
     "name": "stdout",
     "output_type": "stream",
     "text": [
      "\repisode 209/2000, max score: 0.05, average scores: agent 0 - 0.05, agent 1 - 0.04, "
     ]
    },
    {
     "name": "stdout",
     "output_type": "stream",
     "text": [
      "\repisode 210/2000, max score: 0.05, average scores: agent 0 - 0.05, agent 1 - 0.04, "
     ]
    },
    {
     "name": "stdout",
     "output_type": "stream",
     "text": [
      "\repisode 211/2000, max score: 0.05, average scores: agent 0 - 0.05, agent 1 - 0.04, "
     ]
    },
    {
     "name": "stdout",
     "output_type": "stream",
     "text": [
      "\repisode 212/2000, max score: 0.05, average scores: agent 0 - 0.05, agent 1 - 0.04, "
     ]
    },
    {
     "name": "stdout",
     "output_type": "stream",
     "text": [
      "\repisode 213/2000, max score: 0.05, average scores: agent 0 - 0.05, agent 1 - 0.05, "
     ]
    },
    {
     "name": "stdout",
     "output_type": "stream",
     "text": [
      "\repisode 214/2000, max score: 0.05, average scores: agent 0 - 0.05, agent 1 - 0.05, "
     ]
    },
    {
     "name": "stdout",
     "output_type": "stream",
     "text": [
      "\repisode 215/2000, max score: 0.05, average scores: agent 0 - 0.05, agent 1 - 0.05, "
     ]
    },
    {
     "name": "stdout",
     "output_type": "stream",
     "text": [
      "\repisode 216/2000, max score: 0.05, average scores: agent 0 - 0.05, agent 1 - 0.05, "
     ]
    },
    {
     "name": "stdout",
     "output_type": "stream",
     "text": [
      "\repisode 217/2000, max score: 0.05, average scores: agent 0 - 0.05, agent 1 - 0.05, "
     ]
    },
    {
     "name": "stdout",
     "output_type": "stream",
     "text": [
      "\repisode 218/2000, max score: 0.05, average scores: agent 0 - 0.05, agent 1 - 0.05, "
     ]
    },
    {
     "name": "stdout",
     "output_type": "stream",
     "text": [
      "\repisode 219/2000, max score: 0.05, average scores: agent 0 - 0.05, agent 1 - 0.05, "
     ]
    },
    {
     "name": "stdout",
     "output_type": "stream",
     "text": [
      "\repisode 220/2000, max score: 0.05, average scores: agent 0 - 0.05, agent 1 - 0.05, "
     ]
    },
    {
     "name": "stdout",
     "output_type": "stream",
     "text": [
      "\repisode 221/2000, max score: 0.05, average scores: agent 0 - 0.05, agent 1 - 0.05, "
     ]
    },
    {
     "name": "stdout",
     "output_type": "stream",
     "text": [
      "\repisode 222/2000, max score: 0.05, average scores: agent 0 - 0.05, agent 1 - 0.05, "
     ]
    },
    {
     "name": "stdout",
     "output_type": "stream",
     "text": [
      "\repisode 223/2000, max score: 0.05, average scores: agent 0 - 0.05, agent 1 - 0.05, "
     ]
    },
    {
     "name": "stdout",
     "output_type": "stream",
     "text": [
      "\repisode 224/2000, max score: 0.05, average scores: agent 0 - 0.05, agent 1 - 0.05, "
     ]
    },
    {
     "name": "stdout",
     "output_type": "stream",
     "text": [
      "\repisode 225/2000, max score: 0.05, average scores: agent 0 - 0.05, agent 1 - 0.05, "
     ]
    },
    {
     "name": "stdout",
     "output_type": "stream",
     "text": [
      "\repisode 226/2000, max score: 0.05, average scores: agent 0 - 0.05, agent 1 - 0.05, "
     ]
    },
    {
     "name": "stdout",
     "output_type": "stream",
     "text": [
      "\repisode 227/2000, max score: 0.05, average scores: agent 0 - 0.05, agent 1 - 0.05, "
     ]
    },
    {
     "name": "stdout",
     "output_type": "stream",
     "text": [
      "\repisode 228/2000, max score: 0.05, average scores: agent 0 - 0.05, agent 1 - 0.05, "
     ]
    },
    {
     "name": "stdout",
     "output_type": "stream",
     "text": [
      "\repisode 229/2000, max score: 0.05, average scores: agent 0 - 0.05, agent 1 - 0.05, "
     ]
    },
    {
     "name": "stdout",
     "output_type": "stream",
     "text": [
      "\repisode 230/2000, max score: 0.05, average scores: agent 0 - 0.05, agent 1 - 0.05, "
     ]
    },
    {
     "name": "stdout",
     "output_type": "stream",
     "text": [
      "\repisode 231/2000, max score: 0.05, average scores: agent 0 - 0.05, agent 1 - 0.05, "
     ]
    },
    {
     "name": "stdout",
     "output_type": "stream",
     "text": [
      "\repisode 232/2000, max score: 0.05, average scores: agent 0 - 0.04, agent 1 - 0.05, "
     ]
    },
    {
     "name": "stdout",
     "output_type": "stream",
     "text": [
      "\repisode 233/2000, max score: 0.05, average scores: agent 0 - 0.05, agent 1 - 0.05, "
     ]
    },
    {
     "name": "stdout",
     "output_type": "stream",
     "text": [
      "\repisode 234/2000, max score: 0.05, average scores: agent 0 - 0.05, agent 1 - 0.05, "
     ]
    },
    {
     "name": "stdout",
     "output_type": "stream",
     "text": [
      "\repisode 235/2000, max score: 0.05, average scores: agent 0 - 0.05, agent 1 - 0.05, "
     ]
    },
    {
     "name": "stdout",
     "output_type": "stream",
     "text": [
      "\repisode 236/2000, max score: 0.05, average scores: agent 0 - 0.05, agent 1 - 0.05, "
     ]
    },
    {
     "name": "stdout",
     "output_type": "stream",
     "text": [
      "\repisode 237/2000, max score: 0.05, average scores: agent 0 - 0.05, agent 1 - 0.05, "
     ]
    },
    {
     "name": "stdout",
     "output_type": "stream",
     "text": [
      "\repisode 238/2000, max score: 0.05, average scores: agent 0 - 0.05, agent 1 - 0.05, "
     ]
    },
    {
     "name": "stdout",
     "output_type": "stream",
     "text": [
      "\repisode 239/2000, max score: 0.05, average scores: agent 0 - 0.05, agent 1 - 0.05, "
     ]
    },
    {
     "name": "stdout",
     "output_type": "stream",
     "text": [
      "\repisode 240/2000, max score: 0.05, average scores: agent 0 - 0.05, agent 1 - 0.05, "
     ]
    },
    {
     "name": "stdout",
     "output_type": "stream",
     "text": [
      "\repisode 241/2000, max score: 0.05, average scores: agent 0 - 0.05, agent 1 - 0.05, "
     ]
    },
    {
     "name": "stdout",
     "output_type": "stream",
     "text": [
      "\repisode 242/2000, max score: 0.05, average scores: agent 0 - 0.05, agent 1 - 0.05, "
     ]
    },
    {
     "name": "stdout",
     "output_type": "stream",
     "text": [
      "\repisode 243/2000, max score: 0.05, average scores: agent 0 - 0.05, agent 1 - 0.05, "
     ]
    },
    {
     "name": "stdout",
     "output_type": "stream",
     "text": [
      "\repisode 244/2000, max score: 0.05, average scores: agent 0 - 0.05, agent 1 - 0.05, "
     ]
    },
    {
     "name": "stdout",
     "output_type": "stream",
     "text": [
      "\repisode 245/2000, max score: 0.05, average scores: agent 0 - 0.05, agent 1 - 0.05, "
     ]
    },
    {
     "name": "stdout",
     "output_type": "stream",
     "text": [
      "\repisode 246/2000, max score: 0.06, average scores: agent 0 - 0.05, agent 1 - 0.06, "
     ]
    },
    {
     "name": "stdout",
     "output_type": "stream",
     "text": [
      "\repisode 247/2000, max score: 0.07, average scores: agent 0 - 0.06, agent 1 - 0.07, "
     ]
    },
    {
     "name": "stdout",
     "output_type": "stream",
     "text": [
      "\repisode 248/2000, max score: 0.07, average scores: agent 0 - 0.06, agent 1 - 0.07, "
     ]
    },
    {
     "name": "stdout",
     "output_type": "stream",
     "text": [
      "\repisode 249/2000, max score: 0.07, average scores: agent 0 - 0.06, agent 1 - 0.07, "
     ]
    },
    {
     "name": "stdout",
     "output_type": "stream",
     "text": [
      "\repisode 250/2000, max score: 0.07, average scores: agent 0 - 0.06, agent 1 - 0.07, "
     ]
    },
    {
     "name": "stdout",
     "output_type": "stream",
     "text": [
      "\repisode 251/2000, max score: 0.07, average scores: agent 0 - 0.06, agent 1 - 0.07, "
     ]
    },
    {
     "name": "stdout",
     "output_type": "stream",
     "text": [
      "\repisode 252/2000, max score: 0.07, average scores: agent 0 - 0.06, agent 1 - 0.07, "
     ]
    },
    {
     "name": "stdout",
     "output_type": "stream",
     "text": [
      "\repisode 253/2000, max score: 0.07, average scores: agent 0 - 0.06, agent 1 - 0.07, "
     ]
    },
    {
     "name": "stdout",
     "output_type": "stream",
     "text": [
      "\repisode 254/2000, max score: 0.07, average scores: agent 0 - 0.06, agent 1 - 0.07, "
     ]
    },
    {
     "name": "stdout",
     "output_type": "stream",
     "text": [
      "\repisode 255/2000, max score: 0.07, average scores: agent 0 - 0.06, agent 1 - 0.07, "
     ]
    },
    {
     "name": "stdout",
     "output_type": "stream",
     "text": [
      "\repisode 256/2000, max score: 0.07, average scores: agent 0 - 0.06, agent 1 - 0.07, "
     ]
    },
    {
     "name": "stdout",
     "output_type": "stream",
     "text": [
      "\repisode 257/2000, max score: 0.07, average scores: agent 0 - 0.05, agent 1 - 0.07, "
     ]
    },
    {
     "name": "stdout",
     "output_type": "stream",
     "text": [
      "\repisode 258/2000, max score: 0.08, average scores: agent 0 - 0.06, agent 1 - 0.08, "
     ]
    },
    {
     "name": "stdout",
     "output_type": "stream",
     "text": [
      "\repisode 259/2000, max score: 0.08, average scores: agent 0 - 0.06, agent 1 - 0.08, "
     ]
    },
    {
     "name": "stdout",
     "output_type": "stream",
     "text": [
      "\repisode 260/2000, max score: 0.08, average scores: agent 0 - 0.06, agent 1 - 0.08, "
     ]
    },
    {
     "name": "stdout",
     "output_type": "stream",
     "text": [
      "\repisode 261/2000, max score: 0.08, average scores: agent 0 - 0.07, agent 1 - 0.08, "
     ]
    },
    {
     "name": "stdout",
     "output_type": "stream",
     "text": [
      "\repisode 262/2000, max score: 0.08, average scores: agent 0 - 0.07, agent 1 - 0.08, "
     ]
    },
    {
     "name": "stdout",
     "output_type": "stream",
     "text": [
      "\repisode 263/2000, max score: 0.08, average scores: agent 0 - 0.06, agent 1 - 0.08, "
     ]
    },
    {
     "name": "stdout",
     "output_type": "stream",
     "text": [
      "\repisode 264/2000, max score: 0.08, average scores: agent 0 - 0.07, agent 1 - 0.08, "
     ]
    },
    {
     "name": "stdout",
     "output_type": "stream",
     "text": [
      "\repisode 265/2000, max score: 0.08, average scores: agent 0 - 0.07, agent 1 - 0.08, "
     ]
    },
    {
     "name": "stdout",
     "output_type": "stream",
     "text": [
      "\repisode 266/2000, max score: 0.08, average scores: agent 0 - 0.07, agent 1 - 0.08, "
     ]
    },
    {
     "name": "stdout",
     "output_type": "stream",
     "text": [
      "\repisode 267/2000, max score: 0.08, average scores: agent 0 - 0.07, agent 1 - 0.08, "
     ]
    },
    {
     "name": "stdout",
     "output_type": "stream",
     "text": [
      "\repisode 268/2000, max score: 0.08, average scores: agent 0 - 0.07, agent 1 - 0.08, "
     ]
    },
    {
     "name": "stdout",
     "output_type": "stream",
     "text": [
      "\repisode 269/2000, max score: 0.08, average scores: agent 0 - 0.07, agent 1 - 0.08, "
     ]
    },
    {
     "name": "stdout",
     "output_type": "stream",
     "text": [
      "\repisode 270/2000, max score: 0.08, average scores: agent 0 - 0.07, agent 1 - 0.08, "
     ]
    },
    {
     "name": "stdout",
     "output_type": "stream",
     "text": [
      "\repisode 271/2000, max score: 0.08, average scores: agent 0 - 0.07, agent 1 - 0.08, "
     ]
    },
    {
     "name": "stdout",
     "output_type": "stream",
     "text": [
      "\repisode 272/2000, max score: 0.08, average scores: agent 0 - 0.07, agent 1 - 0.08, "
     ]
    },
    {
     "name": "stdout",
     "output_type": "stream",
     "text": [
      "\repisode 273/2000, max score: 0.08, average scores: agent 0 - 0.07, agent 1 - 0.08, "
     ]
    },
    {
     "name": "stdout",
     "output_type": "stream",
     "text": [
      "\repisode 274/2000, max score: 0.08, average scores: agent 0 - 0.07, agent 1 - 0.08, "
     ]
    },
    {
     "name": "stdout",
     "output_type": "stream",
     "text": [
      "\repisode 275/2000, max score: 0.08, average scores: agent 0 - 0.07, agent 1 - 0.08, "
     ]
    },
    {
     "name": "stdout",
     "output_type": "stream",
     "text": [
      "\repisode 276/2000, max score: 0.08, average scores: agent 0 - 0.06, agent 1 - 0.08, "
     ]
    },
    {
     "name": "stdout",
     "output_type": "stream",
     "text": [
      "\repisode 277/2000, max score: 0.08, average scores: agent 0 - 0.06, agent 1 - 0.08, "
     ]
    },
    {
     "name": "stdout",
     "output_type": "stream",
     "text": [
      "\repisode 278/2000, max score: 0.08, average scores: agent 0 - 0.06, agent 1 - 0.08, "
     ]
    },
    {
     "name": "stdout",
     "output_type": "stream",
     "text": [
      "\repisode 279/2000, max score: 0.08, average scores: agent 0 - 0.07, agent 1 - 0.08, "
     ]
    },
    {
     "name": "stdout",
     "output_type": "stream",
     "text": [
      "\repisode 280/2000, max score: 0.08, average scores: agent 0 - 0.07, agent 1 - 0.08, "
     ]
    },
    {
     "name": "stdout",
     "output_type": "stream",
     "text": [
      "\repisode 281/2000, max score: 0.08, average scores: agent 0 - 0.06, agent 1 - 0.08, "
     ]
    },
    {
     "name": "stdout",
     "output_type": "stream",
     "text": [
      "\repisode 282/2000, max score: 0.08, average scores: agent 0 - 0.06, agent 1 - 0.08, "
     ]
    },
    {
     "name": "stdout",
     "output_type": "stream",
     "text": [
      "\repisode 283/2000, max score: 0.08, average scores: agent 0 - 0.06, agent 1 - 0.08, "
     ]
    },
    {
     "name": "stdout",
     "output_type": "stream",
     "text": [
      "\repisode 284/2000, max score: 0.08, average scores: agent 0 - 0.06, agent 1 - 0.08, "
     ]
    },
    {
     "name": "stdout",
     "output_type": "stream",
     "text": [
      "\repisode 285/2000, max score: 0.08, average scores: agent 0 - 0.06, agent 1 - 0.08, "
     ]
    },
    {
     "name": "stdout",
     "output_type": "stream",
     "text": [
      "\repisode 286/2000, max score: 0.08, average scores: agent 0 - 0.06, agent 1 - 0.08, "
     ]
    },
    {
     "name": "stdout",
     "output_type": "stream",
     "text": [
      "\repisode 287/2000, max score: 0.08, average scores: agent 0 - 0.06, agent 1 - 0.08, "
     ]
    },
    {
     "name": "stdout",
     "output_type": "stream",
     "text": [
      "\repisode 288/2000, max score: 0.08, average scores: agent 0 - 0.06, agent 1 - 0.08, "
     ]
    },
    {
     "name": "stdout",
     "output_type": "stream",
     "text": [
      "\repisode 289/2000, max score: 0.08, average scores: agent 0 - 0.06, agent 1 - 0.08, "
     ]
    },
    {
     "name": "stdout",
     "output_type": "stream",
     "text": [
      "\repisode 290/2000, max score: 0.08, average scores: agent 0 - 0.06, agent 1 - 0.08, "
     ]
    },
    {
     "name": "stdout",
     "output_type": "stream",
     "text": [
      "\repisode 291/2000, max score: 0.08, average scores: agent 0 - 0.06, agent 1 - 0.08, "
     ]
    },
    {
     "name": "stdout",
     "output_type": "stream",
     "text": [
      "\repisode 292/2000, max score: 0.08, average scores: agent 0 - 0.06, agent 1 - 0.08, "
     ]
    },
    {
     "name": "stdout",
     "output_type": "stream",
     "text": [
      "\repisode 293/2000, max score: 0.08, average scores: agent 0 - 0.06, agent 1 - 0.08, "
     ]
    },
    {
     "name": "stdout",
     "output_type": "stream",
     "text": [
      "\repisode 294/2000, max score: 0.08, average scores: agent 0 - 0.06, agent 1 - 0.08, "
     ]
    },
    {
     "name": "stdout",
     "output_type": "stream",
     "text": [
      "\repisode 295/2000, max score: 0.08, average scores: agent 0 - 0.06, agent 1 - 0.08, "
     ]
    },
    {
     "name": "stdout",
     "output_type": "stream",
     "text": [
      "\repisode 296/2000, max score: 0.08, average scores: agent 0 - 0.06, agent 1 - 0.08, "
     ]
    },
    {
     "name": "stdout",
     "output_type": "stream",
     "text": [
      "\repisode 297/2000, max score: 0.08, average scores: agent 0 - 0.06, agent 1 - 0.08, "
     ]
    },
    {
     "name": "stdout",
     "output_type": "stream",
     "text": [
      "\repisode 298/2000, max score: 0.08, average scores: agent 0 - 0.06, agent 1 - 0.08, "
     ]
    },
    {
     "name": "stdout",
     "output_type": "stream",
     "text": [
      "\repisode 299/2000, max score: 0.08, average scores: agent 0 - 0.06, agent 1 - 0.08, "
     ]
    },
    {
     "name": "stdout",
     "output_type": "stream",
     "text": [
      "\repisode 300/2000, max score: 0.09, average scores: agent 0 - 0.06, agent 1 - 0.09, "
     ]
    },
    {
     "name": "stdout",
     "output_type": "stream",
     "text": [
      "\repisode 301/2000, max score: 0.09, average scores: agent 0 - 0.06, agent 1 - 0.09, "
     ]
    },
    {
     "name": "stdout",
     "output_type": "stream",
     "text": [
      "\repisode 302/2000, max score: 0.09, average scores: agent 0 - 0.06, agent 1 - 0.09, "
     ]
    },
    {
     "name": "stdout",
     "output_type": "stream",
     "text": [
      "\repisode 303/2000, max score: 0.09, average scores: agent 0 - 0.06, agent 1 - 0.09, "
     ]
    },
    {
     "name": "stdout",
     "output_type": "stream",
     "text": [
      "\repisode 304/2000, max score: 0.09, average scores: agent 0 - 0.06, agent 1 - 0.09, "
     ]
    },
    {
     "name": "stdout",
     "output_type": "stream",
     "text": [
      "\repisode 305/2000, max score: 0.09, average scores: agent 0 - 0.06, agent 1 - 0.09, "
     ]
    },
    {
     "name": "stdout",
     "output_type": "stream",
     "text": [
      "\repisode 306/2000, max score: 0.09, average scores: agent 0 - 0.07, agent 1 - 0.09, "
     ]
    },
    {
     "name": "stdout",
     "output_type": "stream",
     "text": [
      "\repisode 307/2000, max score: 0.09, average scores: agent 0 - 0.07, agent 1 - 0.09, "
     ]
    },
    {
     "name": "stdout",
     "output_type": "stream",
     "text": [
      "\repisode 308/2000, max score: 0.09, average scores: agent 0 - 0.07, agent 1 - 0.09, "
     ]
    },
    {
     "name": "stdout",
     "output_type": "stream",
     "text": [
      "\repisode 309/2000, max score: 0.09, average scores: agent 0 - 0.07, agent 1 - 0.09, "
     ]
    },
    {
     "name": "stdout",
     "output_type": "stream",
     "text": [
      "\repisode 310/2000, max score: 0.09, average scores: agent 0 - 0.07, agent 1 - 0.09, "
     ]
    },
    {
     "name": "stdout",
     "output_type": "stream",
     "text": [
      "\repisode 311/2000, max score: 0.09, average scores: agent 0 - 0.07, agent 1 - 0.09, "
     ]
    },
    {
     "name": "stdout",
     "output_type": "stream",
     "text": [
      "\repisode 312/2000, max score: 0.10, average scores: agent 0 - 0.08, agent 1 - 0.10, "
     ]
    },
    {
     "name": "stdout",
     "output_type": "stream",
     "text": [
      "\repisode 313/2000, max score: 0.10, average scores: agent 0 - 0.07, agent 1 - 0.09, "
     ]
    },
    {
     "name": "stdout",
     "output_type": "stream",
     "text": [
      "\repisode 314/2000, max score: 0.10, average scores: agent 0 - 0.07, agent 1 - 0.09, "
     ]
    },
    {
     "name": "stdout",
     "output_type": "stream",
     "text": [
      "\repisode 315/2000, max score: 0.10, average scores: agent 0 - 0.07, agent 1 - 0.09, "
     ]
    },
    {
     "name": "stdout",
     "output_type": "stream",
     "text": [
      "\repisode 316/2000, max score: 0.10, average scores: agent 0 - 0.07, agent 1 - 0.09, "
     ]
    },
    {
     "name": "stdout",
     "output_type": "stream",
     "text": [
      "\repisode 317/2000, max score: 0.10, average scores: agent 0 - 0.08, agent 1 - 0.10, "
     ]
    },
    {
     "name": "stdout",
     "output_type": "stream",
     "text": [
      "\repisode 318/2000, max score: 0.10, average scores: agent 0 - 0.08, agent 1 - 0.10, "
     ]
    },
    {
     "name": "stdout",
     "output_type": "stream",
     "text": [
      "\repisode 319/2000, max score: 0.10, average scores: agent 0 - 0.08, agent 1 - 0.10, "
     ]
    },
    {
     "name": "stdout",
     "output_type": "stream",
     "text": [
      "\repisode 320/2000, max score: 0.10, average scores: agent 0 - 0.08, agent 1 - 0.10, "
     ]
    },
    {
     "name": "stdout",
     "output_type": "stream",
     "text": [
      "\repisode 321/2000, max score: 0.10, average scores: agent 0 - 0.08, agent 1 - 0.10, "
     ]
    },
    {
     "name": "stdout",
     "output_type": "stream",
     "text": [
      "\repisode 322/2000, max score: 0.10, average scores: agent 0 - 0.08, agent 1 - 0.10, "
     ]
    },
    {
     "name": "stdout",
     "output_type": "stream",
     "text": [
      "\repisode 323/2000, max score: 0.11, average scores: agent 0 - 0.09, agent 1 - 0.11, "
     ]
    },
    {
     "name": "stdout",
     "output_type": "stream",
     "text": [
      "\repisode 324/2000, max score: 0.11, average scores: agent 0 - 0.10, agent 1 - 0.11, "
     ]
    },
    {
     "name": "stdout",
     "output_type": "stream",
     "text": [
      "\repisode 325/2000, max score: 0.12, average scores: agent 0 - 0.10, agent 1 - 0.12, "
     ]
    },
    {
     "name": "stdout",
     "output_type": "stream",
     "text": [
      "\repisode 326/2000, max score: 0.12, average scores: agent 0 - 0.10, agent 1 - 0.12, "
     ]
    },
    {
     "name": "stdout",
     "output_type": "stream",
     "text": [
      "\repisode 327/2000, max score: 0.12, average scores: agent 0 - 0.10, agent 1 - 0.12, "
     ]
    },
    {
     "name": "stdout",
     "output_type": "stream",
     "text": [
      "\repisode 328/2000, max score: 0.12, average scores: agent 0 - 0.10, agent 1 - 0.12, "
     ]
    },
    {
     "name": "stdout",
     "output_type": "stream",
     "text": [
      "\repisode 329/2000, max score: 0.12, average scores: agent 0 - 0.10, agent 1 - 0.12, "
     ]
    },
    {
     "name": "stdout",
     "output_type": "stream",
     "text": [
      "\repisode 330/2000, max score: 0.12, average scores: agent 0 - 0.10, agent 1 - 0.12, "
     ]
    },
    {
     "name": "stdout",
     "output_type": "stream",
     "text": [
      "\repisode 331/2000, max score: 0.12, average scores: agent 0 - 0.10, agent 1 - 0.12, "
     ]
    },
    {
     "name": "stdout",
     "output_type": "stream",
     "text": [
      "\repisode 332/2000, max score: 0.12, average scores: agent 0 - 0.10, agent 1 - 0.12, "
     ]
    },
    {
     "name": "stdout",
     "output_type": "stream",
     "text": [
      "\repisode 333/2000, max score: 0.12, average scores: agent 0 - 0.10, agent 1 - 0.12, "
     ]
    },
    {
     "name": "stdout",
     "output_type": "stream",
     "text": [
      "\repisode 334/2000, max score: 0.12, average scores: agent 0 - 0.10, agent 1 - 0.12, "
     ]
    },
    {
     "name": "stdout",
     "output_type": "stream",
     "text": [
      "\repisode 335/2000, max score: 0.12, average scores: agent 0 - 0.11, agent 1 - 0.12, "
     ]
    },
    {
     "name": "stdout",
     "output_type": "stream",
     "text": [
      "\repisode 336/2000, max score: 0.12, average scores: agent 0 - 0.11, agent 1 - 0.12, "
     ]
    },
    {
     "name": "stdout",
     "output_type": "stream",
     "text": [
      "\repisode 337/2000, max score: 0.12, average scores: agent 0 - 0.11, agent 1 - 0.12, "
     ]
    },
    {
     "name": "stdout",
     "output_type": "stream",
     "text": [
      "\repisode 338/2000, max score: 0.12, average scores: agent 0 - 0.11, agent 1 - 0.12, "
     ]
    },
    {
     "name": "stdout",
     "output_type": "stream",
     "text": [
      "\repisode 339/2000, max score: 0.12, average scores: agent 0 - 0.11, agent 1 - 0.12, "
     ]
    },
    {
     "name": "stdout",
     "output_type": "stream",
     "text": [
      "\repisode 340/2000, max score: 0.12, average scores: agent 0 - 0.11, agent 1 - 0.12, "
     ]
    },
    {
     "name": "stdout",
     "output_type": "stream",
     "text": [
      "\repisode 341/2000, max score: 0.13, average scores: agent 0 - 0.11, agent 1 - 0.13, "
     ]
    },
    {
     "name": "stdout",
     "output_type": "stream",
     "text": [
      "\repisode 342/2000, max score: 0.13, average scores: agent 0 - 0.11, agent 1 - 0.13, "
     ]
    },
    {
     "name": "stdout",
     "output_type": "stream",
     "text": [
      "\repisode 343/2000, max score: 0.13, average scores: agent 0 - 0.11, agent 1 - 0.13, "
     ]
    },
    {
     "name": "stdout",
     "output_type": "stream",
     "text": [
      "\repisode 344/2000, max score: 0.13, average scores: agent 0 - 0.11, agent 1 - 0.13, "
     ]
    },
    {
     "name": "stdout",
     "output_type": "stream",
     "text": [
      "\repisode 345/2000, max score: 0.13, average scores: agent 0 - 0.11, agent 1 - 0.13, "
     ]
    },
    {
     "name": "stdout",
     "output_type": "stream",
     "text": [
      "\repisode 346/2000, max score: 0.13, average scores: agent 0 - 0.11, agent 1 - 0.13, "
     ]
    },
    {
     "name": "stdout",
     "output_type": "stream",
     "text": [
      "\repisode 347/2000, max score: 0.13, average scores: agent 0 - 0.10, agent 1 - 0.12, "
     ]
    },
    {
     "name": "stdout",
     "output_type": "stream",
     "text": [
      "\repisode 348/2000, max score: 0.13, average scores: agent 0 - 0.11, agent 1 - 0.12, "
     ]
    },
    {
     "name": "stdout",
     "output_type": "stream",
     "text": [
      "\repisode 349/2000, max score: 0.13, average scores: agent 0 - 0.11, agent 1 - 0.12, "
     ]
    },
    {
     "name": "stdout",
     "output_type": "stream",
     "text": [
      "\repisode 350/2000, max score: 0.13, average scores: agent 0 - 0.11, agent 1 - 0.12, "
     ]
    },
    {
     "name": "stdout",
     "output_type": "stream",
     "text": [
      "\repisode 351/2000, max score: 0.13, average scores: agent 0 - 0.11, agent 1 - 0.12, "
     ]
    },
    {
     "name": "stdout",
     "output_type": "stream",
     "text": [
      "\repisode 352/2000, max score: 0.13, average scores: agent 0 - 0.10, agent 1 - 0.12, "
     ]
    },
    {
     "name": "stdout",
     "output_type": "stream",
     "text": [
      "\repisode 353/2000, max score: 0.13, average scores: agent 0 - 0.10, agent 1 - 0.12, "
     ]
    },
    {
     "name": "stdout",
     "output_type": "stream",
     "text": [
      "\repisode 354/2000, max score: 0.13, average scores: agent 0 - 0.11, agent 1 - 0.13, "
     ]
    },
    {
     "name": "stdout",
     "output_type": "stream",
     "text": [
      "\repisode 355/2000, max score: 0.13, average scores: agent 0 - 0.11, agent 1 - 0.13, "
     ]
    },
    {
     "name": "stdout",
     "output_type": "stream",
     "text": [
      "\repisode 356/2000, max score: 0.13, average scores: agent 0 - 0.11, agent 1 - 0.13, "
     ]
    },
    {
     "name": "stdout",
     "output_type": "stream",
     "text": [
      "\repisode 357/2000, max score: 0.13, average scores: agent 0 - 0.11, agent 1 - 0.13, "
     ]
    },
    {
     "name": "stdout",
     "output_type": "stream",
     "text": [
      "\repisode 358/2000, max score: 0.13, average scores: agent 0 - 0.11, agent 1 - 0.12, "
     ]
    },
    {
     "name": "stdout",
     "output_type": "stream",
     "text": [
      "\repisode 359/2000, max score: 0.13, average scores: agent 0 - 0.11, agent 1 - 0.12, "
     ]
    },
    {
     "name": "stdout",
     "output_type": "stream",
     "text": [
      "\repisode 360/2000, max score: 0.13, average scores: agent 0 - 0.11, agent 1 - 0.13, "
     ]
    },
    {
     "name": "stdout",
     "output_type": "stream",
     "text": [
      "\repisode 361/2000, max score: 0.13, average scores: agent 0 - 0.11, agent 1 - 0.13, "
     ]
    },
    {
     "name": "stdout",
     "output_type": "stream",
     "text": [
      "\repisode 362/2000, max score: 0.13, average scores: agent 0 - 0.11, agent 1 - 0.13, "
     ]
    },
    {
     "name": "stdout",
     "output_type": "stream",
     "text": [
      "\repisode 363/2000, max score: 0.13, average scores: agent 0 - 0.11, agent 1 - 0.13, "
     ]
    },
    {
     "name": "stdout",
     "output_type": "stream",
     "text": [
      "\repisode 364/2000, max score: 0.13, average scores: agent 0 - 0.11, agent 1 - 0.13, "
     ]
    },
    {
     "name": "stdout",
     "output_type": "stream",
     "text": [
      "\repisode 365/2000, max score: 0.13, average scores: agent 0 - 0.11, agent 1 - 0.13, "
     ]
    },
    {
     "name": "stdout",
     "output_type": "stream",
     "text": [
      "\repisode 366/2000, max score: 0.14, average scores: agent 0 - 0.12, agent 1 - 0.14, "
     ]
    },
    {
     "name": "stdout",
     "output_type": "stream",
     "text": [
      "\repisode 367/2000, max score: 0.14, average scores: agent 0 - 0.12, agent 1 - 0.14, "
     ]
    },
    {
     "name": "stdout",
     "output_type": "stream",
     "text": [
      "\repisode 368/2000, max score: 0.14, average scores: agent 0 - 0.12, agent 1 - 0.14, "
     ]
    },
    {
     "name": "stdout",
     "output_type": "stream",
     "text": [
      "\repisode 369/2000, max score: 0.14, average scores: agent 0 - 0.12, agent 1 - 0.14, "
     ]
    },
    {
     "name": "stdout",
     "output_type": "stream",
     "text": [
      "\repisode 370/2000, max score: 0.14, average scores: agent 0 - 0.12, agent 1 - 0.14, "
     ]
    },
    {
     "name": "stdout",
     "output_type": "stream",
     "text": [
      "\repisode 371/2000, max score: 0.14, average scores: agent 0 - 0.12, agent 1 - 0.14, "
     ]
    },
    {
     "name": "stdout",
     "output_type": "stream",
     "text": [
      "\repisode 372/2000, max score: 0.14, average scores: agent 0 - 0.12, agent 1 - 0.14, "
     ]
    },
    {
     "name": "stdout",
     "output_type": "stream",
     "text": [
      "\repisode 373/2000, max score: 0.14, average scores: agent 0 - 0.12, agent 1 - 0.14, "
     ]
    },
    {
     "name": "stdout",
     "output_type": "stream",
     "text": [
      "\repisode 374/2000, max score: 0.14, average scores: agent 0 - 0.12, agent 1 - 0.14, "
     ]
    },
    {
     "name": "stdout",
     "output_type": "stream",
     "text": [
      "\repisode 375/2000, max score: 0.14, average scores: agent 0 - 0.12, agent 1 - 0.14, "
     ]
    },
    {
     "name": "stdout",
     "output_type": "stream",
     "text": [
      "\repisode 376/2000, max score: 0.14, average scores: agent 0 - 0.13, agent 1 - 0.14, "
     ]
    },
    {
     "name": "stdout",
     "output_type": "stream",
     "text": [
      "\repisode 377/2000, max score: 0.15, average scores: agent 0 - 0.13, agent 1 - 0.15, "
     ]
    },
    {
     "name": "stdout",
     "output_type": "stream",
     "text": [
      "\repisode 378/2000, max score: 0.15, average scores: agent 0 - 0.14, agent 1 - 0.15, "
     ]
    },
    {
     "name": "stdout",
     "output_type": "stream",
     "text": [
      "\repisode 379/2000, max score: 0.15, average scores: agent 0 - 0.14, agent 1 - 0.15, "
     ]
    },
    {
     "name": "stdout",
     "output_type": "stream",
     "text": [
      "\repisode 380/2000, max score: 0.15, average scores: agent 0 - 0.14, agent 1 - 0.15, "
     ]
    },
    {
     "name": "stdout",
     "output_type": "stream",
     "text": [
      "\repisode 381/2000, max score: 0.15, average scores: agent 0 - 0.14, agent 1 - 0.15, "
     ]
    },
    {
     "name": "stdout",
     "output_type": "stream",
     "text": [
      "\repisode 382/2000, max score: 0.15, average scores: agent 0 - 0.14, agent 1 - 0.15, "
     ]
    },
    {
     "name": "stdout",
     "output_type": "stream",
     "text": [
      "\repisode 383/2000, max score: 0.15, average scores: agent 0 - 0.14, agent 1 - 0.15, "
     ]
    },
    {
     "name": "stdout",
     "output_type": "stream",
     "text": [
      "\repisode 384/2000, max score: 0.15, average scores: agent 0 - 0.14, agent 1 - 0.15, "
     ]
    },
    {
     "name": "stdout",
     "output_type": "stream",
     "text": [
      "\repisode 385/2000, max score: 0.16, average scores: agent 0 - 0.15, agent 1 - 0.16, "
     ]
    },
    {
     "name": "stdout",
     "output_type": "stream",
     "text": [
      "\repisode 386/2000, max score: 0.16, average scores: agent 0 - 0.15, agent 1 - 0.16, "
     ]
    },
    {
     "name": "stdout",
     "output_type": "stream",
     "text": [
      "\repisode 387/2000, max score: 0.16, average scores: agent 0 - 0.15, agent 1 - 0.16, "
     ]
    },
    {
     "name": "stdout",
     "output_type": "stream",
     "text": [
      "\repisode 388/2000, max score: 0.16, average scores: agent 0 - 0.15, agent 1 - 0.16, "
     ]
    },
    {
     "name": "stdout",
     "output_type": "stream",
     "text": [
      "\repisode 389/2000, max score: 0.17, average scores: agent 0 - 0.16, agent 1 - 0.17, "
     ]
    },
    {
     "name": "stdout",
     "output_type": "stream",
     "text": [
      "\repisode 390/2000, max score: 0.17, average scores: agent 0 - 0.16, agent 1 - 0.17, "
     ]
    },
    {
     "name": "stdout",
     "output_type": "stream",
     "text": [
      "\repisode 391/2000, max score: 0.17, average scores: agent 0 - 0.16, agent 1 - 0.17, "
     ]
    },
    {
     "name": "stdout",
     "output_type": "stream",
     "text": [
      "\repisode 392/2000, max score: 0.17, average scores: agent 0 - 0.17, agent 1 - 0.17, "
     ]
    },
    {
     "name": "stdout",
     "output_type": "stream",
     "text": [
      "\repisode 393/2000, max score: 0.17, average scores: agent 0 - 0.17, agent 1 - 0.17, "
     ]
    },
    {
     "name": "stdout",
     "output_type": "stream",
     "text": [
      "\repisode 394/2000, max score: 0.17, average scores: agent 0 - 0.17, agent 1 - 0.17, "
     ]
    },
    {
     "name": "stdout",
     "output_type": "stream",
     "text": [
      "\repisode 395/2000, max score: 0.18, average scores: agent 0 - 0.18, agent 1 - 0.18, "
     ]
    },
    {
     "name": "stdout",
     "output_type": "stream",
     "text": [
      "\repisode 396/2000, max score: 0.18, average scores: agent 0 - 0.18, agent 1 - 0.18, "
     ]
    },
    {
     "name": "stdout",
     "output_type": "stream",
     "text": [
      "\repisode 397/2000, max score: 0.19, average scores: agent 0 - 0.19, agent 1 - 0.19, "
     ]
    },
    {
     "name": "stdout",
     "output_type": "stream",
     "text": [
      "\repisode 398/2000, max score: 0.20, average scores: agent 0 - 0.20, agent 1 - 0.20, "
     ]
    },
    {
     "name": "stdout",
     "output_type": "stream",
     "text": [
      "\repisode 399/2000, max score: 0.21, average scores: agent 0 - 0.21, agent 1 - 0.21, "
     ]
    },
    {
     "name": "stdout",
     "output_type": "stream",
     "text": [
      "\repisode 400/2000, max score: 0.21, average scores: agent 0 - 0.21, agent 1 - 0.21, "
     ]
    },
    {
     "name": "stdout",
     "output_type": "stream",
     "text": [
      "\repisode 401/2000, max score: 0.21, average scores: agent 0 - 0.21, agent 1 - 0.21, "
     ]
    },
    {
     "name": "stdout",
     "output_type": "stream",
     "text": [
      "\repisode 402/2000, max score: 0.21, average scores: agent 0 - 0.21, agent 1 - 0.21, "
     ]
    },
    {
     "name": "stdout",
     "output_type": "stream",
     "text": [
      "\repisode 403/2000, max score: 0.21, average scores: agent 0 - 0.21, agent 1 - 0.21, "
     ]
    },
    {
     "name": "stdout",
     "output_type": "stream",
     "text": [
      "\repisode 404/2000, max score: 0.21, average scores: agent 0 - 0.21, agent 1 - 0.21, "
     ]
    },
    {
     "name": "stdout",
     "output_type": "stream",
     "text": [
      "\repisode 405/2000, max score: 0.21, average scores: agent 0 - 0.21, agent 1 - 0.21, "
     ]
    },
    {
     "name": "stdout",
     "output_type": "stream",
     "text": [
      "\repisode 406/2000, max score: 0.21, average scores: agent 0 - 0.21, agent 1 - 0.21, "
     ]
    },
    {
     "name": "stdout",
     "output_type": "stream",
     "text": [
      "\repisode 407/2000, max score: 0.21, average scores: agent 0 - 0.21, agent 1 - 0.21, "
     ]
    },
    {
     "name": "stdout",
     "output_type": "stream",
     "text": [
      "\repisode 408/2000, max score: 0.21, average scores: agent 0 - 0.21, agent 1 - 0.21, "
     ]
    },
    {
     "name": "stdout",
     "output_type": "stream",
     "text": [
      "\repisode 409/2000, max score: 0.21, average scores: agent 0 - 0.21, agent 1 - 0.21, "
     ]
    },
    {
     "name": "stdout",
     "output_type": "stream",
     "text": [
      "\repisode 410/2000, max score: 0.21, average scores: agent 0 - 0.21, agent 1 - 0.21, "
     ]
    },
    {
     "name": "stdout",
     "output_type": "stream",
     "text": [
      "\repisode 411/2000, max score: 0.21, average scores: agent 0 - 0.21, agent 1 - 0.21, "
     ]
    },
    {
     "name": "stdout",
     "output_type": "stream",
     "text": [
      "\repisode 412/2000, max score: 0.21, average scores: agent 0 - 0.21, agent 1 - 0.21, "
     ]
    },
    {
     "name": "stdout",
     "output_type": "stream",
     "text": [
      "\repisode 413/2000, max score: 0.21, average scores: agent 0 - 0.21, agent 1 - 0.20, "
     ]
    },
    {
     "name": "stdout",
     "output_type": "stream",
     "text": [
      "\repisode 414/2000, max score: 0.21, average scores: agent 0 - 0.21, agent 1 - 0.21, "
     ]
    },
    {
     "name": "stdout",
     "output_type": "stream",
     "text": [
      "\repisode 415/2000, max score: 0.21, average scores: agent 0 - 0.21, agent 1 - 0.21, "
     ]
    },
    {
     "name": "stdout",
     "output_type": "stream",
     "text": [
      "\repisode 416/2000, max score: 0.21, average scores: agent 0 - 0.21, agent 1 - 0.21, "
     ]
    },
    {
     "name": "stdout",
     "output_type": "stream",
     "text": [
      "\repisode 417/2000, max score: 0.21, average scores: agent 0 - 0.21, agent 1 - 0.21, "
     ]
    },
    {
     "name": "stdout",
     "output_type": "stream",
     "text": [
      "\repisode 418/2000, max score: 0.21, average scores: agent 0 - 0.21, agent 1 - 0.21, "
     ]
    },
    {
     "name": "stdout",
     "output_type": "stream",
     "text": [
      "\repisode 419/2000, max score: 0.21, average scores: agent 0 - 0.21, agent 1 - 0.21, "
     ]
    },
    {
     "name": "stdout",
     "output_type": "stream",
     "text": [
      "\repisode 420/2000, max score: 0.21, average scores: agent 0 - 0.21, agent 1 - 0.21, "
     ]
    },
    {
     "name": "stdout",
     "output_type": "stream",
     "text": [
      "\repisode 421/2000, max score: 0.21, average scores: agent 0 - 0.21, agent 1 - 0.21, "
     ]
    },
    {
     "name": "stdout",
     "output_type": "stream",
     "text": [
      "\repisode 422/2000, max score: 0.21, average scores: agent 0 - 0.21, agent 1 - 0.21, "
     ]
    },
    {
     "name": "stdout",
     "output_type": "stream",
     "text": [
      "\repisode 423/2000, max score: 0.21, average scores: agent 0 - 0.20, agent 1 - 0.20, "
     ]
    },
    {
     "name": "stdout",
     "output_type": "stream",
     "text": [
      "\repisode 424/2000, max score: 0.21, average scores: agent 0 - 0.19, agent 1 - 0.20, "
     ]
    },
    {
     "name": "stdout",
     "output_type": "stream",
     "text": [
      "\repisode 425/2000, max score: 0.21, average scores: agent 0 - 0.19, agent 1 - 0.19, "
     ]
    },
    {
     "name": "stdout",
     "output_type": "stream",
     "text": [
      "\repisode 426/2000, max score: 0.21, average scores: agent 0 - 0.19, agent 1 - 0.19, "
     ]
    },
    {
     "name": "stdout",
     "output_type": "stream",
     "text": [
      "\repisode 427/2000, max score: 0.21, average scores: agent 0 - 0.19, agent 1 - 0.19, "
     ]
    },
    {
     "name": "stdout",
     "output_type": "stream",
     "text": [
      "\repisode 428/2000, max score: 0.21, average scores: agent 0 - 0.19, agent 1 - 0.19, "
     ]
    },
    {
     "name": "stdout",
     "output_type": "stream",
     "text": [
      "\repisode 429/2000, max score: 0.21, average scores: agent 0 - 0.20, agent 1 - 0.20, "
     ]
    },
    {
     "name": "stdout",
     "output_type": "stream",
     "text": [
      "\repisode 430/2000, max score: 0.21, average scores: agent 0 - 0.19, agent 1 - 0.20, "
     ]
    },
    {
     "name": "stdout",
     "output_type": "stream",
     "text": [
      "\repisode 431/2000, max score: 0.21, average scores: agent 0 - 0.20, agent 1 - 0.20, "
     ]
    },
    {
     "name": "stdout",
     "output_type": "stream",
     "text": [
      "\repisode 432/2000, max score: 0.21, average scores: agent 0 - 0.21, agent 1 - 0.21, "
     ]
    },
    {
     "name": "stdout",
     "output_type": "stream",
     "text": [
      "\repisode 433/2000, max score: 0.21, average scores: agent 0 - 0.21, agent 1 - 0.21, "
     ]
    },
    {
     "name": "stdout",
     "output_type": "stream",
     "text": [
      "\repisode 434/2000, max score: 0.21, average scores: agent 0 - 0.21, agent 1 - 0.21, "
     ]
    },
    {
     "name": "stdout",
     "output_type": "stream",
     "text": [
      "\repisode 435/2000, max score: 0.21, average scores: agent 0 - 0.21, agent 1 - 0.21, "
     ]
    },
    {
     "name": "stdout",
     "output_type": "stream",
     "text": [
      "\repisode 436/2000, max score: 0.22, average scores: agent 0 - 0.22, agent 1 - 0.22, "
     ]
    },
    {
     "name": "stdout",
     "output_type": "stream",
     "text": [
      "\repisode 437/2000, max score: 0.22, average scores: agent 0 - 0.22, agent 1 - 0.21, "
     ]
    },
    {
     "name": "stdout",
     "output_type": "stream",
     "text": [
      "\repisode 438/2000, max score: 0.22, average scores: agent 0 - 0.22, agent 1 - 0.21, "
     ]
    },
    {
     "name": "stdout",
     "output_type": "stream",
     "text": [
      "\repisode 439/2000, max score: 0.22, average scores: agent 0 - 0.22, agent 1 - 0.22, "
     ]
    },
    {
     "name": "stdout",
     "output_type": "stream",
     "text": [
      "\repisode 440/2000, max score: 0.22, average scores: agent 0 - 0.22, agent 1 - 0.22, "
     ]
    },
    {
     "name": "stdout",
     "output_type": "stream",
     "text": [
      "\repisode 441/2000, max score: 0.22, average scores: agent 0 - 0.22, agent 1 - 0.22, "
     ]
    },
    {
     "name": "stdout",
     "output_type": "stream",
     "text": [
      "\repisode 442/2000, max score: 0.23, average scores: agent 0 - 0.22, agent 1 - 0.23, "
     ]
    },
    {
     "name": "stdout",
     "output_type": "stream",
     "text": [
      "\repisode 443/2000, max score: 0.23, average scores: agent 0 - 0.22, agent 1 - 0.23, "
     ]
    },
    {
     "name": "stdout",
     "output_type": "stream",
     "text": [
      "\repisode 444/2000, max score: 0.23, average scores: agent 0 - 0.23, agent 1 - 0.23, "
     ]
    },
    {
     "name": "stdout",
     "output_type": "stream",
     "text": [
      "\repisode 445/2000, max score: 0.23, average scores: agent 0 - 0.23, agent 1 - 0.23, "
     ]
    },
    {
     "name": "stdout",
     "output_type": "stream",
     "text": [
      "\repisode 446/2000, max score: 0.23, average scores: agent 0 - 0.23, agent 1 - 0.23, "
     ]
    },
    {
     "name": "stdout",
     "output_type": "stream",
     "text": [
      "\repisode 447/2000, max score: 0.25, average scores: agent 0 - 0.25, agent 1 - 0.25, "
     ]
    },
    {
     "name": "stdout",
     "output_type": "stream",
     "text": [
      "\repisode 448/2000, max score: 0.25, average scores: agent 0 - 0.24, agent 1 - 0.24, "
     ]
    },
    {
     "name": "stdout",
     "output_type": "stream",
     "text": [
      "\repisode 449/2000, max score: 0.25, average scores: agent 0 - 0.24, agent 1 - 0.24, "
     ]
    },
    {
     "name": "stdout",
     "output_type": "stream",
     "text": [
      "\repisode 450/2000, max score: 0.25, average scores: agent 0 - 0.24, agent 1 - 0.24, "
     ]
    },
    {
     "name": "stdout",
     "output_type": "stream",
     "text": [
      "\repisode 451/2000, max score: 0.25, average scores: agent 0 - 0.24, agent 1 - 0.24, "
     ]
    },
    {
     "name": "stdout",
     "output_type": "stream",
     "text": [
      "\repisode 452/2000, max score: 0.25, average scores: agent 0 - 0.25, agent 1 - 0.24, "
     ]
    },
    {
     "name": "stdout",
     "output_type": "stream",
     "text": [
      "\repisode 453/2000, max score: 0.25, average scores: agent 0 - 0.25, agent 1 - 0.24, "
     ]
    },
    {
     "name": "stdout",
     "output_type": "stream",
     "text": [
      "\repisode 454/2000, max score: 0.25, average scores: agent 0 - 0.25, agent 1 - 0.24, "
     ]
    },
    {
     "name": "stdout",
     "output_type": "stream",
     "text": [
      "\repisode 455/2000, max score: 0.25, average scores: agent 0 - 0.24, agent 1 - 0.24, "
     ]
    },
    {
     "name": "stdout",
     "output_type": "stream",
     "text": [
      "\repisode 456/2000, max score: 0.25, average scores: agent 0 - 0.24, agent 1 - 0.24, "
     ]
    },
    {
     "name": "stdout",
     "output_type": "stream",
     "text": [
      "\repisode 457/2000, max score: 0.25, average scores: agent 0 - 0.25, agent 1 - 0.24, "
     ]
    },
    {
     "name": "stdout",
     "output_type": "stream",
     "text": [
      "\repisode 458/2000, max score: 0.25, average scores: agent 0 - 0.24, agent 1 - 0.24, "
     ]
    },
    {
     "name": "stdout",
     "output_type": "stream",
     "text": [
      "\repisode 459/2000, max score: 0.25, average scores: agent 0 - 0.24, agent 1 - 0.24, "
     ]
    },
    {
     "name": "stdout",
     "output_type": "stream",
     "text": [
      "\repisode 460/2000, max score: 0.25, average scores: agent 0 - 0.24, agent 1 - 0.24, "
     ]
    },
    {
     "name": "stdout",
     "output_type": "stream",
     "text": [
      "\repisode 461/2000, max score: 0.25, average scores: agent 0 - 0.24, agent 1 - 0.24, "
     ]
    },
    {
     "name": "stdout",
     "output_type": "stream",
     "text": [
      "\repisode 462/2000, max score: 0.25, average scores: agent 0 - 0.24, agent 1 - 0.24, "
     ]
    },
    {
     "name": "stdout",
     "output_type": "stream",
     "text": [
      "\repisode 463/2000, max score: 0.25, average scores: agent 0 - 0.24, agent 1 - 0.25, "
     ]
    },
    {
     "name": "stdout",
     "output_type": "stream",
     "text": [
      "\repisode 464/2000, max score: 0.25, average scores: agent 0 - 0.25, agent 1 - 0.25, "
     ]
    },
    {
     "name": "stdout",
     "output_type": "stream",
     "text": [
      "\repisode 465/2000, max score: 0.25, average scores: agent 0 - 0.24, agent 1 - 0.24, "
     ]
    },
    {
     "name": "stdout",
     "output_type": "stream",
     "text": [
      "\repisode 466/2000, max score: 0.25, average scores: agent 0 - 0.24, agent 1 - 0.24, "
     ]
    },
    {
     "name": "stdout",
     "output_type": "stream",
     "text": [
      "\repisode 467/2000, max score: 0.25, average scores: agent 0 - 0.25, agent 1 - 0.25, "
     ]
    },
    {
     "name": "stdout",
     "output_type": "stream",
     "text": [
      "\repisode 468/2000, max score: 0.26, average scores: agent 0 - 0.26, agent 1 - 0.26, "
     ]
    },
    {
     "name": "stdout",
     "output_type": "stream",
     "text": [
      "\repisode 469/2000, max score: 0.26, average scores: agent 0 - 0.26, agent 1 - 0.26, "
     ]
    },
    {
     "name": "stdout",
     "output_type": "stream",
     "text": [
      "\repisode 470/2000, max score: 0.26, average scores: agent 0 - 0.26, agent 1 - 0.26, "
     ]
    },
    {
     "name": "stdout",
     "output_type": "stream",
     "text": [
      "\repisode 471/2000, max score: 0.26, average scores: agent 0 - 0.26, agent 1 - 0.26, "
     ]
    },
    {
     "name": "stdout",
     "output_type": "stream",
     "text": [
      "\repisode 472/2000, max score: 0.26, average scores: agent 0 - 0.26, agent 1 - 0.26, "
     ]
    },
    {
     "name": "stdout",
     "output_type": "stream",
     "text": [
      "\repisode 473/2000, max score: 0.26, average scores: agent 0 - 0.26, agent 1 - 0.26, "
     ]
    },
    {
     "name": "stdout",
     "output_type": "stream",
     "text": [
      "\repisode 474/2000, max score: 0.27, average scores: agent 0 - 0.27, agent 1 - 0.26, "
     ]
    },
    {
     "name": "stdout",
     "output_type": "stream",
     "text": [
      "\repisode 475/2000, max score: 0.27, average scores: agent 0 - 0.27, agent 1 - 0.26, "
     ]
    },
    {
     "name": "stdout",
     "output_type": "stream",
     "text": [
      "\repisode 476/2000, max score: 0.27, average scores: agent 0 - 0.26, agent 1 - 0.26, "
     ]
    },
    {
     "name": "stdout",
     "output_type": "stream",
     "text": [
      "\repisode 477/2000, max score: 0.27, average scores: agent 0 - 0.26, agent 1 - 0.26, "
     ]
    },
    {
     "name": "stdout",
     "output_type": "stream",
     "text": [
      "\repisode 478/2000, max score: 0.27, average scores: agent 0 - 0.26, agent 1 - 0.26, "
     ]
    },
    {
     "name": "stdout",
     "output_type": "stream",
     "text": [
      "\repisode 479/2000, max score: 0.27, average scores: agent 0 - 0.26, agent 1 - 0.26, "
     ]
    },
    {
     "name": "stdout",
     "output_type": "stream",
     "text": [
      "\repisode 480/2000, max score: 0.27, average scores: agent 0 - 0.26, agent 1 - 0.26, "
     ]
    },
    {
     "name": "stdout",
     "output_type": "stream",
     "text": [
      "\repisode 481/2000, max score: 0.27, average scores: agent 0 - 0.25, agent 1 - 0.26, "
     ]
    },
    {
     "name": "stdout",
     "output_type": "stream",
     "text": [
      "\repisode 482/2000, max score: 0.27, average scores: agent 0 - 0.25, agent 1 - 0.26, "
     ]
    },
    {
     "name": "stdout",
     "output_type": "stream",
     "text": [
      "\repisode 483/2000, max score: 0.27, average scores: agent 0 - 0.25, agent 1 - 0.26, "
     ]
    },
    {
     "name": "stdout",
     "output_type": "stream",
     "text": [
      "\repisode 484/2000, max score: 0.27, average scores: agent 0 - 0.25, agent 1 - 0.26, "
     ]
    },
    {
     "name": "stdout",
     "output_type": "stream",
     "text": [
      "\repisode 485/2000, max score: 0.27, average scores: agent 0 - 0.25, agent 1 - 0.25, "
     ]
    },
    {
     "name": "stdout",
     "output_type": "stream",
     "text": [
      "\repisode 486/2000, max score: 0.27, average scores: agent 0 - 0.25, agent 1 - 0.25, "
     ]
    },
    {
     "name": "stdout",
     "output_type": "stream",
     "text": [
      "\repisode 487/2000, max score: 0.27, average scores: agent 0 - 0.25, agent 1 - 0.25, "
     ]
    },
    {
     "name": "stdout",
     "output_type": "stream",
     "text": [
      "\repisode 488/2000, max score: 0.27, average scores: agent 0 - 0.25, agent 1 - 0.26, "
     ]
    },
    {
     "name": "stdout",
     "output_type": "stream",
     "text": [
      "\repisode 489/2000, max score: 0.27, average scores: agent 0 - 0.24, agent 1 - 0.25, "
     ]
    },
    {
     "name": "stdout",
     "output_type": "stream",
     "text": [
      "\repisode 490/2000, max score: 0.27, average scores: agent 0 - 0.25, agent 1 - 0.25, "
     ]
    },
    {
     "name": "stdout",
     "output_type": "stream",
     "text": [
      "\repisode 491/2000, max score: 0.27, average scores: agent 0 - 0.25, agent 1 - 0.25, "
     ]
    },
    {
     "name": "stdout",
     "output_type": "stream",
     "text": [
      "\repisode 492/2000, max score: 0.27, average scores: agent 0 - 0.25, agent 1 - 0.25, "
     ]
    },
    {
     "name": "stdout",
     "output_type": "stream",
     "text": [
      "\repisode 493/2000, max score: 0.27, average scores: agent 0 - 0.24, agent 1 - 0.25, "
     ]
    },
    {
     "name": "stdout",
     "output_type": "stream",
     "text": [
      "\repisode 494/2000, max score: 0.27, average scores: agent 0 - 0.25, agent 1 - 0.25, "
     ]
    },
    {
     "name": "stdout",
     "output_type": "stream",
     "text": [
      "\repisode 495/2000, max score: 0.27, average scores: agent 0 - 0.24, agent 1 - 0.25, "
     ]
    },
    {
     "name": "stdout",
     "output_type": "stream",
     "text": [
      "\repisode 496/2000, max score: 0.27, average scores: agent 0 - 0.24, agent 1 - 0.25, "
     ]
    },
    {
     "name": "stdout",
     "output_type": "stream",
     "text": [
      "\repisode 497/2000, max score: 0.27, average scores: agent 0 - 0.23, agent 1 - 0.24, "
     ]
    },
    {
     "name": "stdout",
     "output_type": "stream",
     "text": [
      "\repisode 498/2000, max score: 0.27, average scores: agent 0 - 0.23, agent 1 - 0.23, "
     ]
    },
    {
     "name": "stdout",
     "output_type": "stream",
     "text": [
      "\repisode 499/2000, max score: 0.27, average scores: agent 0 - 0.23, agent 1 - 0.23, "
     ]
    },
    {
     "name": "stdout",
     "output_type": "stream",
     "text": [
      "\repisode 500/2000, max score: 0.27, average scores: agent 0 - 0.23, agent 1 - 0.23, "
     ]
    },
    {
     "name": "stdout",
     "output_type": "stream",
     "text": [
      "\repisode 501/2000, max score: 0.27, average scores: agent 0 - 0.23, agent 1 - 0.23, "
     ]
    },
    {
     "name": "stdout",
     "output_type": "stream",
     "text": [
      "\repisode 502/2000, max score: 0.27, average scores: agent 0 - 0.23, agent 1 - 0.23, "
     ]
    },
    {
     "name": "stdout",
     "output_type": "stream",
     "text": [
      "\repisode 503/2000, max score: 0.27, average scores: agent 0 - 0.23, agent 1 - 0.24, "
     ]
    },
    {
     "name": "stdout",
     "output_type": "stream",
     "text": [
      "\repisode 504/2000, max score: 0.27, average scores: agent 0 - 0.24, agent 1 - 0.24, "
     ]
    },
    {
     "name": "stdout",
     "output_type": "stream",
     "text": [
      "\repisode 505/2000, max score: 0.27, average scores: agent 0 - 0.24, agent 1 - 0.24, "
     ]
    },
    {
     "name": "stdout",
     "output_type": "stream",
     "text": [
      "\repisode 506/2000, max score: 0.27, average scores: agent 0 - 0.24, agent 1 - 0.24, "
     ]
    },
    {
     "name": "stdout",
     "output_type": "stream",
     "text": [
      "\repisode 507/2000, max score: 0.27, average scores: agent 0 - 0.24, agent 1 - 0.24, "
     ]
    },
    {
     "name": "stdout",
     "output_type": "stream",
     "text": [
      "\repisode 508/2000, max score: 0.27, average scores: agent 0 - 0.24, agent 1 - 0.24, "
     ]
    },
    {
     "name": "stdout",
     "output_type": "stream",
     "text": [
      "\repisode 509/2000, max score: 0.27, average scores: agent 0 - 0.24, agent 1 - 0.25, "
     ]
    },
    {
     "name": "stdout",
     "output_type": "stream",
     "text": [
      "\repisode 510/2000, max score: 0.27, average scores: agent 0 - 0.24, agent 1 - 0.25, "
     ]
    },
    {
     "name": "stdout",
     "output_type": "stream",
     "text": [
      "\repisode 511/2000, max score: 0.27, average scores: agent 0 - 0.24, agent 1 - 0.25, "
     ]
    },
    {
     "name": "stdout",
     "output_type": "stream",
     "text": [
      "\repisode 512/2000, max score: 0.27, average scores: agent 0 - 0.24, agent 1 - 0.25, "
     ]
    },
    {
     "name": "stdout",
     "output_type": "stream",
     "text": [
      "\repisode 513/2000, max score: 0.27, average scores: agent 0 - 0.24, agent 1 - 0.25, "
     ]
    },
    {
     "name": "stdout",
     "output_type": "stream",
     "text": [
      "\repisode 514/2000, max score: 0.27, average scores: agent 0 - 0.25, agent 1 - 0.26, "
     ]
    },
    {
     "name": "stdout",
     "output_type": "stream",
     "text": [
      "\repisode 515/2000, max score: 0.27, average scores: agent 0 - 0.26, agent 1 - 0.27, "
     ]
    },
    {
     "name": "stdout",
     "output_type": "stream",
     "text": [
      "\repisode 516/2000, max score: 0.27, average scores: agent 0 - 0.26, agent 1 - 0.26, "
     ]
    },
    {
     "name": "stdout",
     "output_type": "stream",
     "text": [
      "\repisode 517/2000, max score: 0.27, average scores: agent 0 - 0.26, agent 1 - 0.27, "
     ]
    },
    {
     "name": "stdout",
     "output_type": "stream",
     "text": [
      "\repisode 518/2000, max score: 0.27, average scores: agent 0 - 0.26, agent 1 - 0.26, "
     ]
    },
    {
     "name": "stdout",
     "output_type": "stream",
     "text": [
      "\repisode 519/2000, max score: 0.27, average scores: agent 0 - 0.26, agent 1 - 0.27, "
     ]
    },
    {
     "name": "stdout",
     "output_type": "stream",
     "text": [
      "\repisode 520/2000, max score: 0.27, average scores: agent 0 - 0.26, agent 1 - 0.27, "
     ]
    },
    {
     "name": "stdout",
     "output_type": "stream",
     "text": [
      "\repisode 521/2000, max score: 0.27, average scores: agent 0 - 0.27, agent 1 - 0.27, "
     ]
    },
    {
     "name": "stdout",
     "output_type": "stream",
     "text": [
      "\repisode 522/2000, max score: 0.28, average scores: agent 0 - 0.28, agent 1 - 0.28, "
     ]
    },
    {
     "name": "stdout",
     "output_type": "stream",
     "text": [
      "\repisode 523/2000, max score: 0.28, average scores: agent 0 - 0.28, agent 1 - 0.28, "
     ]
    },
    {
     "name": "stdout",
     "output_type": "stream",
     "text": [
      "\repisode 524/2000, max score: 0.29, average scores: agent 0 - 0.29, agent 1 - 0.29, "
     ]
    },
    {
     "name": "stdout",
     "output_type": "stream",
     "text": [
      "\repisode 525/2000, max score: 0.30, average scores: agent 0 - 0.29, agent 1 - 0.30, "
     ]
    },
    {
     "name": "stdout",
     "output_type": "stream",
     "text": [
      "\repisode 526/2000, max score: 0.30, average scores: agent 0 - 0.30, agent 1 - 0.30, "
     ]
    },
    {
     "name": "stdout",
     "output_type": "stream",
     "text": [
      "\repisode 527/2000, max score: 0.31, average scores: agent 0 - 0.31, agent 1 - 0.31, "
     ]
    },
    {
     "name": "stdout",
     "output_type": "stream",
     "text": [
      "\repisode 528/2000, max score: 0.32, average scores: agent 0 - 0.31, agent 1 - 0.32, "
     ]
    },
    {
     "name": "stdout",
     "output_type": "stream",
     "text": [
      "\repisode 529/2000, max score: 0.32, average scores: agent 0 - 0.32, agent 1 - 0.32, "
     ]
    },
    {
     "name": "stdout",
     "output_type": "stream",
     "text": [
      "\repisode 530/2000, max score: 0.34, average scores: agent 0 - 0.33, agent 1 - 0.34, "
     ]
    },
    {
     "name": "stdout",
     "output_type": "stream",
     "text": [
      "\repisode 531/2000, max score: 0.34, average scores: agent 0 - 0.33, agent 1 - 0.33, "
     ]
    },
    {
     "name": "stdout",
     "output_type": "stream",
     "text": [
      "\repisode 532/2000, max score: 0.34, average scores: agent 0 - 0.32, agent 1 - 0.33, "
     ]
    },
    {
     "name": "stdout",
     "output_type": "stream",
     "text": [
      "\repisode 533/2000, max score: 0.34, average scores: agent 0 - 0.33, agent 1 - 0.34, "
     ]
    },
    {
     "name": "stdout",
     "output_type": "stream",
     "text": [
      "\repisode 534/2000, max score: 0.34, average scores: agent 0 - 0.33, agent 1 - 0.34, "
     ]
    },
    {
     "name": "stdout",
     "output_type": "stream",
     "text": [
      "\repisode 535/2000, max score: 0.34, average scores: agent 0 - 0.33, agent 1 - 0.34, "
     ]
    },
    {
     "name": "stdout",
     "output_type": "stream",
     "text": [
      "\repisode 536/2000, max score: 0.34, average scores: agent 0 - 0.32, agent 1 - 0.33, "
     ]
    },
    {
     "name": "stdout",
     "output_type": "stream",
     "text": [
      "\repisode 537/2000, max score: 0.34, average scores: agent 0 - 0.33, agent 1 - 0.34, "
     ]
    },
    {
     "name": "stdout",
     "output_type": "stream",
     "text": [
      "\repisode 538/2000, max score: 0.34, average scores: agent 0 - 0.33, agent 1 - 0.34, "
     ]
    },
    {
     "name": "stdout",
     "output_type": "stream",
     "text": [
      "\repisode 539/2000, max score: 0.34, average scores: agent 0 - 0.33, agent 1 - 0.34, "
     ]
    },
    {
     "name": "stdout",
     "output_type": "stream",
     "text": [
      "\repisode 540/2000, max score: 0.34, average scores: agent 0 - 0.33, agent 1 - 0.34, "
     ]
    },
    {
     "name": "stdout",
     "output_type": "stream",
     "text": [
      "\repisode 541/2000, max score: 0.34, average scores: agent 0 - 0.33, agent 1 - 0.34, "
     ]
    },
    {
     "name": "stdout",
     "output_type": "stream",
     "text": [
      "\repisode 542/2000, max score: 0.34, average scores: agent 0 - 0.32, agent 1 - 0.33, "
     ]
    },
    {
     "name": "stdout",
     "output_type": "stream",
     "text": [
      "\repisode 543/2000, max score: 0.34, average scores: agent 0 - 0.33, agent 1 - 0.34, "
     ]
    },
    {
     "name": "stdout",
     "output_type": "stream",
     "text": [
      "\repisode 544/2000, max score: 0.34, average scores: agent 0 - 0.33, agent 1 - 0.33, "
     ]
    },
    {
     "name": "stdout",
     "output_type": "stream",
     "text": [
      "\repisode 545/2000, max score: 0.34, average scores: agent 0 - 0.33, agent 1 - 0.33, "
     ]
    },
    {
     "name": "stdout",
     "output_type": "stream",
     "text": [
      "\repisode 546/2000, max score: 0.34, average scores: agent 0 - 0.33, agent 1 - 0.33, "
     ]
    },
    {
     "name": "stdout",
     "output_type": "stream",
     "text": [
      "\repisode 547/2000, max score: 0.34, average scores: agent 0 - 0.32, agent 1 - 0.32, "
     ]
    },
    {
     "name": "stdout",
     "output_type": "stream",
     "text": [
      "\repisode 548/2000, max score: 0.34, average scores: agent 0 - 0.32, agent 1 - 0.32, "
     ]
    },
    {
     "name": "stdout",
     "output_type": "stream",
     "text": [
      "\repisode 549/2000, max score: 0.34, average scores: agent 0 - 0.32, agent 1 - 0.33, "
     ]
    },
    {
     "name": "stdout",
     "output_type": "stream",
     "text": [
      "\repisode 550/2000, max score: 0.34, average scores: agent 0 - 0.32, agent 1 - 0.33, "
     ]
    },
    {
     "name": "stdout",
     "output_type": "stream",
     "text": [
      "\repisode 551/2000, max score: 0.34, average scores: agent 0 - 0.33, agent 1 - 0.33, "
     ]
    },
    {
     "name": "stdout",
     "output_type": "stream",
     "text": [
      "\repisode 552/2000, max score: 0.34, average scores: agent 0 - 0.33, agent 1 - 0.33, "
     ]
    },
    {
     "name": "stdout",
     "output_type": "stream",
     "text": [
      "\repisode 553/2000, max score: 0.34, average scores: agent 0 - 0.34, agent 1 - 0.34, "
     ]
    },
    {
     "name": "stdout",
     "output_type": "stream",
     "text": [
      "\repisode 554/2000, max score: 0.35, average scores: agent 0 - 0.34, agent 1 - 0.35, "
     ]
    },
    {
     "name": "stdout",
     "output_type": "stream",
     "text": [
      "\repisode 555/2000, max score: 0.36, average scores: agent 0 - 0.35, agent 1 - 0.36, "
     ]
    },
    {
     "name": "stdout",
     "output_type": "stream",
     "text": [
      "\repisode 556/2000, max score: 0.37, average scores: agent 0 - 0.36, agent 1 - 0.37, "
     ]
    },
    {
     "name": "stdout",
     "output_type": "stream",
     "text": [
      "\repisode 557/2000, max score: 0.37, average scores: agent 0 - 0.36, agent 1 - 0.37, "
     ]
    },
    {
     "name": "stdout",
     "output_type": "stream",
     "text": [
      "\repisode 558/2000, max score: 0.37, average scores: agent 0 - 0.36, agent 1 - 0.37, "
     ]
    },
    {
     "name": "stdout",
     "output_type": "stream",
     "text": [
      "\repisode 559/2000, max score: 0.37, average scores: agent 0 - 0.36, agent 1 - 0.37, "
     ]
    },
    {
     "name": "stdout",
     "output_type": "stream",
     "text": [
      "\repisode 560/2000, max score: 0.37, average scores: agent 0 - 0.36, agent 1 - 0.37, "
     ]
    },
    {
     "name": "stdout",
     "output_type": "stream",
     "text": [
      "\repisode 561/2000, max score: 0.37, average scores: agent 0 - 0.36, agent 1 - 0.37, "
     ]
    },
    {
     "name": "stdout",
     "output_type": "stream",
     "text": [
      "\repisode 562/2000, max score: 0.37, average scores: agent 0 - 0.36, agent 1 - 0.36, "
     ]
    },
    {
     "name": "stdout",
     "output_type": "stream",
     "text": [
      "\repisode 563/2000, max score: 0.37, average scores: agent 0 - 0.36, agent 1 - 0.36, "
     ]
    },
    {
     "name": "stdout",
     "output_type": "stream",
     "text": [
      "\repisode 564/2000, max score: 0.37, average scores: agent 0 - 0.36, agent 1 - 0.36, "
     ]
    },
    {
     "name": "stdout",
     "output_type": "stream",
     "text": [
      "\repisode 565/2000, max score: 0.37, average scores: agent 0 - 0.36, agent 1 - 0.36, "
     ]
    },
    {
     "name": "stdout",
     "output_type": "stream",
     "text": [
      "\repisode 566/2000, max score: 0.37, average scores: agent 0 - 0.37, agent 1 - 0.37, "
     ]
    },
    {
     "name": "stdout",
     "output_type": "stream",
     "text": [
      "\repisode 567/2000, max score: 0.37, average scores: agent 0 - 0.35, agent 1 - 0.36, "
     ]
    },
    {
     "name": "stdout",
     "output_type": "stream",
     "text": [
      "\repisode 568/2000, max score: 0.37, average scores: agent 0 - 0.35, agent 1 - 0.35, "
     ]
    },
    {
     "name": "stdout",
     "output_type": "stream",
     "text": [
      "\repisode 569/2000, max score: 0.37, average scores: agent 0 - 0.34, agent 1 - 0.35, "
     ]
    },
    {
     "name": "stdout",
     "output_type": "stream",
     "text": [
      "\repisode 570/2000, max score: 0.37, average scores: agent 0 - 0.36, agent 1 - 0.36, "
     ]
    },
    {
     "name": "stdout",
     "output_type": "stream",
     "text": [
      "\repisode 571/2000, max score: 0.37, average scores: agent 0 - 0.35, agent 1 - 0.36, "
     ]
    },
    {
     "name": "stdout",
     "output_type": "stream",
     "text": [
      "\repisode 572/2000, max score: 0.37, average scores: agent 0 - 0.35, agent 1 - 0.36, "
     ]
    },
    {
     "name": "stdout",
     "output_type": "stream",
     "text": [
      "\repisode 573/2000, max score: 0.37, average scores: agent 0 - 0.35, agent 1 - 0.36, "
     ]
    },
    {
     "name": "stdout",
     "output_type": "stream",
     "text": [
      "\repisode 574/2000, max score: 0.37, average scores: agent 0 - 0.35, agent 1 - 0.36, "
     ]
    },
    {
     "name": "stdout",
     "output_type": "stream",
     "text": [
      "\repisode 575/2000, max score: 0.37, average scores: agent 0 - 0.36, agent 1 - 0.37, "
     ]
    },
    {
     "name": "stdout",
     "output_type": "stream",
     "text": [
      "\repisode 576/2000, max score: 0.37, average scores: agent 0 - 0.36, agent 1 - 0.37, "
     ]
    },
    {
     "name": "stdout",
     "output_type": "stream",
     "text": [
      "\repisode 577/2000, max score: 0.37, average scores: agent 0 - 0.36, agent 1 - 0.37, "
     ]
    },
    {
     "name": "stdout",
     "output_type": "stream",
     "text": [
      "\repisode 578/2000, max score: 0.38, average scores: agent 0 - 0.36, agent 1 - 0.38, "
     ]
    },
    {
     "name": "stdout",
     "output_type": "stream",
     "text": [
      "\repisode 579/2000, max score: 0.38, average scores: agent 0 - 0.36, agent 1 - 0.37, "
     ]
    },
    {
     "name": "stdout",
     "output_type": "stream",
     "text": [
      "\repisode 580/2000, max score: 0.38, average scores: agent 0 - 0.37, agent 1 - 0.38, "
     ]
    },
    {
     "name": "stdout",
     "output_type": "stream",
     "text": [
      "\repisode 581/2000, max score: 0.39, average scores: agent 0 - 0.37, agent 1 - 0.39, "
     ]
    },
    {
     "name": "stdout",
     "output_type": "stream",
     "text": [
      "\repisode 582/2000, max score: 0.39, average scores: agent 0 - 0.38, agent 1 - 0.39, "
     ]
    },
    {
     "name": "stdout",
     "output_type": "stream",
     "text": [
      "\repisode 583/2000, max score: 0.39, average scores: agent 0 - 0.38, agent 1 - 0.39, "
     ]
    },
    {
     "name": "stdout",
     "output_type": "stream",
     "text": [
      "\repisode 584/2000, max score: 0.40, average scores: agent 0 - 0.39, agent 1 - 0.40, "
     ]
    },
    {
     "name": "stdout",
     "output_type": "stream",
     "text": [
      "\repisode 585/2000, max score: 0.40, average scores: agent 0 - 0.39, agent 1 - 0.40, "
     ]
    },
    {
     "name": "stdout",
     "output_type": "stream",
     "text": [
      "\repisode 586/2000, max score: 0.41, average scores: agent 0 - 0.40, agent 1 - 0.41, "
     ]
    },
    {
     "name": "stdout",
     "output_type": "stream",
     "text": [
      "\repisode 587/2000, max score: 0.42, average scores: agent 0 - 0.41, agent 1 - 0.42, "
     ]
    },
    {
     "name": "stdout",
     "output_type": "stream",
     "text": [
      "\repisode 588/2000, max score: 0.42, average scores: agent 0 - 0.41, agent 1 - 0.42, "
     ]
    },
    {
     "name": "stdout",
     "output_type": "stream",
     "text": [
      "\repisode 589/2000, max score: 0.42, average scores: agent 0 - 0.41, agent 1 - 0.42, "
     ]
    },
    {
     "name": "stdout",
     "output_type": "stream",
     "text": [
      "\repisode 590/2000, max score: 0.42, average scores: agent 0 - 0.41, agent 1 - 0.42, "
     ]
    },
    {
     "name": "stdout",
     "output_type": "stream",
     "text": [
      "\repisode 591/2000, max score: 0.43, average scores: agent 0 - 0.41, agent 1 - 0.43, "
     ]
    },
    {
     "name": "stdout",
     "output_type": "stream",
     "text": [
      "\repisode 592/2000, max score: 0.43, average scores: agent 0 - 0.42, agent 1 - 0.43, "
     ]
    },
    {
     "name": "stdout",
     "output_type": "stream",
     "text": [
      "\repisode 593/2000, max score: 0.43, average scores: agent 0 - 0.42, agent 1 - 0.43, "
     ]
    },
    {
     "name": "stdout",
     "output_type": "stream",
     "text": [
      "\repisode 594/2000, max score: 0.44, average scores: agent 0 - 0.43, agent 1 - 0.44, "
     ]
    },
    {
     "name": "stdout",
     "output_type": "stream",
     "text": [
      "\repisode 595/2000, max score: 0.44, average scores: agent 0 - 0.43, agent 1 - 0.43, "
     ]
    },
    {
     "name": "stdout",
     "output_type": "stream",
     "text": [
      "\repisode 596/2000, max score: 0.44, average scores: agent 0 - 0.42, agent 1 - 0.43, "
     ]
    },
    {
     "name": "stdout",
     "output_type": "stream",
     "text": [
      "\repisode 597/2000, max score: 0.44, average scores: agent 0 - 0.43, agent 1 - 0.44, "
     ]
    },
    {
     "name": "stdout",
     "output_type": "stream",
     "text": [
      "\repisode 598/2000, max score: 0.44, average scores: agent 0 - 0.42, agent 1 - 0.43, "
     ]
    },
    {
     "name": "stdout",
     "output_type": "stream",
     "text": [
      "\repisode 599/2000, max score: 0.44, average scores: agent 0 - 0.43, agent 1 - 0.44, "
     ]
    },
    {
     "name": "stdout",
     "output_type": "stream",
     "text": [
      "\repisode 600/2000, max score: 0.45, average scores: agent 0 - 0.44, agent 1 - 0.45, "
     ]
    },
    {
     "name": "stdout",
     "output_type": "stream",
     "text": [
      "\repisode 601/2000, max score: 0.46, average scores: agent 0 - 0.45, agent 1 - 0.46, "
     ]
    },
    {
     "name": "stdout",
     "output_type": "stream",
     "text": [
      "\repisode 602/2000, max score: 0.46, average scores: agent 0 - 0.45, agent 1 - 0.46, "
     ]
    },
    {
     "name": "stdout",
     "output_type": "stream",
     "text": [
      "\repisode 603/2000, max score: 0.46, average scores: agent 0 - 0.45, agent 1 - 0.46, "
     ]
    },
    {
     "name": "stdout",
     "output_type": "stream",
     "text": [
      "\repisode 604/2000, max score: 0.46, average scores: agent 0 - 0.45, agent 1 - 0.45, "
     ]
    },
    {
     "name": "stdout",
     "output_type": "stream",
     "text": [
      "\repisode 605/2000, max score: 0.46, average scores: agent 0 - 0.45, agent 1 - 0.45, "
     ]
    },
    {
     "name": "stdout",
     "output_type": "stream",
     "text": [
      "\repisode 606/2000, max score: 0.46, average scores: agent 0 - 0.45, agent 1 - 0.46, "
     ]
    },
    {
     "name": "stdout",
     "output_type": "stream",
     "text": [
      "\repisode 607/2000, max score: 0.46, average scores: agent 0 - 0.45, agent 1 - 0.46, "
     ]
    },
    {
     "name": "stdout",
     "output_type": "stream",
     "text": [
      "\repisode 608/2000, max score: 0.46, average scores: agent 0 - 0.45, agent 1 - 0.46, "
     ]
    },
    {
     "name": "stdout",
     "output_type": "stream",
     "text": [
      "\repisode 609/2000, max score: 0.46, average scores: agent 0 - 0.45, agent 1 - 0.46, "
     ]
    },
    {
     "name": "stdout",
     "output_type": "stream",
     "text": [
      "\repisode 610/2000, max score: 0.46, average scores: agent 0 - 0.45, agent 1 - 0.46, "
     ]
    },
    {
     "name": "stdout",
     "output_type": "stream",
     "text": [
      "\repisode 611/2000, max score: 0.46, average scores: agent 0 - 0.45, agent 1 - 0.46, "
     ]
    },
    {
     "name": "stdout",
     "output_type": "stream",
     "text": [
      "\repisode 612/2000, max score: 0.46, average scores: agent 0 - 0.45, agent 1 - 0.46, "
     ]
    },
    {
     "name": "stdout",
     "output_type": "stream",
     "text": [
      "\repisode 613/2000, max score: 0.46, average scores: agent 0 - 0.45, agent 1 - 0.46, "
     ]
    },
    {
     "name": "stdout",
     "output_type": "stream",
     "text": [
      "\repisode 614/2000, max score: 0.46, average scores: agent 0 - 0.44, agent 1 - 0.45, "
     ]
    },
    {
     "name": "stdout",
     "output_type": "stream",
     "text": [
      "\repisode 615/2000, max score: 0.46, average scores: agent 0 - 0.44, agent 1 - 0.44, "
     ]
    },
    {
     "name": "stdout",
     "output_type": "stream",
     "text": [
      "\repisode 616/2000, max score: 0.46, average scores: agent 0 - 0.44, agent 1 - 0.44, "
     ]
    },
    {
     "name": "stdout",
     "output_type": "stream",
     "text": [
      "\repisode 617/2000, max score: 0.46, average scores: agent 0 - 0.43, agent 1 - 0.45, "
     ]
    },
    {
     "name": "stdout",
     "output_type": "stream",
     "text": [
      "\repisode 618/2000, max score: 0.46, average scores: agent 0 - 0.44, agent 1 - 0.45, "
     ]
    },
    {
     "name": "stdout",
     "output_type": "stream",
     "text": [
      "\repisode 619/2000, max score: 0.46, average scores: agent 0 - 0.45, agent 1 - 0.46, "
     ]
    },
    {
     "name": "stdout",
     "output_type": "stream",
     "text": [
      "\repisode 620/2000, max score: 0.47, average scores: agent 0 - 0.46, agent 1 - 0.47, "
     ]
    },
    {
     "name": "stdout",
     "output_type": "stream",
     "text": [
      "\repisode 621/2000, max score: 0.47, average scores: agent 0 - 0.45, agent 1 - 0.46, "
     ]
    },
    {
     "name": "stdout",
     "output_type": "stream",
     "text": [
      "\repisode 622/2000, max score: 0.47, average scores: agent 0 - 0.45, agent 1 - 0.46, "
     ]
    },
    {
     "name": "stdout",
     "output_type": "stream",
     "text": [
      "\repisode 623/2000, max score: 0.48, average scores: agent 0 - 0.46, agent 1 - 0.48, "
     ]
    },
    {
     "name": "stdout",
     "output_type": "stream",
     "text": [
      "\repisode 624/2000, max score: 0.48, average scores: agent 0 - 0.45, agent 1 - 0.47, "
     ]
    },
    {
     "name": "stdout",
     "output_type": "stream",
     "text": [
      "\repisode 625/2000, max score: 0.48, average scores: agent 0 - 0.45, agent 1 - 0.46, "
     ]
    },
    {
     "name": "stdout",
     "output_type": "stream",
     "text": [
      "\repisode 626/2000, max score: 0.48, average scores: agent 0 - 0.46, agent 1 - 0.47, "
     ]
    },
    {
     "name": "stdout",
     "output_type": "stream",
     "text": [
      "\repisode 627/2000, max score: 0.48, average scores: agent 0 - 0.45, agent 1 - 0.46, "
     ]
    },
    {
     "name": "stdout",
     "output_type": "stream",
     "text": [
      "\repisode 628/2000, max score: 0.48, average scores: agent 0 - 0.44, agent 1 - 0.46, "
     ]
    },
    {
     "name": "stdout",
     "output_type": "stream",
     "text": [
      "\repisode 629/2000, max score: 0.48, average scores: agent 0 - 0.44, agent 1 - 0.45, "
     ]
    },
    {
     "name": "stdout",
     "output_type": "stream",
     "text": [
      "\repisode 630/2000, max score: 0.48, average scores: agent 0 - 0.44, agent 1 - 0.45, "
     ]
    },
    {
     "name": "stdout",
     "output_type": "stream",
     "text": [
      "\repisode 631/2000, max score: 0.48, average scores: agent 0 - 0.44, agent 1 - 0.46, "
     ]
    },
    {
     "name": "stdout",
     "output_type": "stream",
     "text": [
      "\repisode 632/2000, max score: 0.48, average scores: agent 0 - 0.44, agent 1 - 0.46, "
     ]
    },
    {
     "name": "stdout",
     "output_type": "stream",
     "text": [
      "\repisode 633/2000, max score: 0.48, average scores: agent 0 - 0.44, agent 1 - 0.45, "
     ]
    },
    {
     "name": "stdout",
     "output_type": "stream",
     "text": [
      "\repisode 634/2000, max score: 0.48, average scores: agent 0 - 0.44, agent 1 - 0.46, "
     ]
    },
    {
     "name": "stdout",
     "output_type": "stream",
     "text": [
      "\repisode 635/2000, max score: 0.48, average scores: agent 0 - 0.44, agent 1 - 0.45, "
     ]
    },
    {
     "name": "stdout",
     "output_type": "stream",
     "text": [
      "\repisode 636/2000, max score: 0.48, average scores: agent 0 - 0.44, agent 1 - 0.46, "
     ]
    },
    {
     "name": "stdout",
     "output_type": "stream",
     "text": [
      "\repisode 637/2000, max score: 0.48, average scores: agent 0 - 0.44, agent 1 - 0.45, "
     ]
    },
    {
     "name": "stdout",
     "output_type": "stream",
     "text": [
      "\repisode 638/2000, max score: 0.48, average scores: agent 0 - 0.45, agent 1 - 0.46, "
     ]
    },
    {
     "name": "stdout",
     "output_type": "stream",
     "text": [
      "\repisode 639/2000, max score: 0.48, average scores: agent 0 - 0.45, agent 1 - 0.46, "
     ]
    },
    {
     "name": "stdout",
     "output_type": "stream",
     "text": [
      "\repisode 640/2000, max score: 0.48, average scores: agent 0 - 0.45, agent 1 - 0.46, "
     ]
    },
    {
     "name": "stdout",
     "output_type": "stream",
     "text": [
      "\repisode 641/2000, max score: 0.48, average scores: agent 0 - 0.44, agent 1 - 0.46, "
     ]
    },
    {
     "name": "stdout",
     "output_type": "stream",
     "text": [
      "\repisode 642/2000, max score: 0.48, average scores: agent 0 - 0.45, agent 1 - 0.46, "
     ]
    },
    {
     "name": "stdout",
     "output_type": "stream",
     "text": [
      "\repisode 643/2000, max score: 0.48, average scores: agent 0 - 0.45, agent 1 - 0.46, "
     ]
    },
    {
     "name": "stdout",
     "output_type": "stream",
     "text": [
      "\repisode 644/2000, max score: 0.48, average scores: agent 0 - 0.45, agent 1 - 0.46, "
     ]
    },
    {
     "name": "stdout",
     "output_type": "stream",
     "text": [
      "\repisode 645/2000, max score: 0.48, average scores: agent 0 - 0.45, agent 1 - 0.46, "
     ]
    },
    {
     "name": "stdout",
     "output_type": "stream",
     "text": [
      "\repisode 646/2000, max score: 0.48, average scores: agent 0 - 0.45, agent 1 - 0.47, "
     ]
    },
    {
     "name": "stdout",
     "output_type": "stream",
     "text": [
      "\repisode 647/2000, max score: 0.48, average scores: agent 0 - 0.46, agent 1 - 0.47, "
     ]
    },
    {
     "name": "stdout",
     "output_type": "stream",
     "text": [
      "\repisode 648/2000, max score: 0.49, average scores: agent 0 - 0.47, agent 1 - 0.49, "
     ]
    },
    {
     "name": "stdout",
     "output_type": "stream",
     "text": [
      "\repisode 649/2000, max score: 0.49, average scores: agent 0 - 0.46, agent 1 - 0.48, "
     ]
    },
    {
     "name": "stdout",
     "output_type": "stream",
     "text": [
      "\repisode 650/2000, max score: 0.49, average scores: agent 0 - 0.47, agent 1 - 0.49, "
     ]
    },
    {
     "name": "stdout",
     "output_type": "stream",
     "text": [
      "\repisode 651/2000, max score: 0.49, average scores: agent 0 - 0.47, agent 1 - 0.49, "
     ]
    },
    {
     "name": "stdout",
     "output_type": "stream",
     "text": [
      "\repisode 652/2000, max score: 0.49, average scores: agent 0 - 0.47, agent 1 - 0.49, "
     ]
    },
    {
     "name": "stdout",
     "output_type": "stream",
     "text": [
      "\repisode 653/2000, max score: 0.49, average scores: agent 0 - 0.46, agent 1 - 0.48, "
     ]
    },
    {
     "name": "stdout",
     "output_type": "stream",
     "text": [
      "\repisode 654/2000, max score: 0.49, average scores: agent 0 - 0.47, agent 1 - 0.48, "
     ]
    },
    {
     "name": "stdout",
     "output_type": "stream",
     "text": [
      "\repisode 655/2000, max score: 0.49, average scores: agent 0 - 0.45, agent 1 - 0.47, "
     ]
    },
    {
     "name": "stdout",
     "output_type": "stream",
     "text": [
      "\repisode 656/2000, max score: 0.49, average scores: agent 0 - 0.45, agent 1 - 0.46, "
     ]
    },
    {
     "name": "stdout",
     "output_type": "stream",
     "text": [
      "\repisode 657/2000, max score: 0.49, average scores: agent 0 - 0.45, agent 1 - 0.47, "
     ]
    },
    {
     "name": "stdout",
     "output_type": "stream",
     "text": [
      "\repisode 658/2000, max score: 0.49, average scores: agent 0 - 0.45, agent 1 - 0.46, "
     ]
    },
    {
     "name": "stdout",
     "output_type": "stream",
     "text": [
      "\repisode 659/2000, max score: 0.49, average scores: agent 0 - 0.45, agent 1 - 0.46, "
     ]
    },
    {
     "name": "stdout",
     "output_type": "stream",
     "text": [
      "\repisode 660/2000, max score: 0.49, average scores: agent 0 - 0.46, agent 1 - 0.47, "
     ]
    },
    {
     "name": "stdout",
     "output_type": "stream",
     "text": [
      "\repisode 661/2000, max score: 0.49, average scores: agent 0 - 0.46, agent 1 - 0.47, "
     ]
    },
    {
     "name": "stdout",
     "output_type": "stream",
     "text": [
      "\repisode 662/2000, max score: 0.49, average scores: agent 0 - 0.46, agent 1 - 0.47, "
     ]
    },
    {
     "name": "stdout",
     "output_type": "stream",
     "text": [
      "\repisode 663/2000, max score: 0.49, average scores: agent 0 - 0.46, agent 1 - 0.48, "
     ]
    },
    {
     "name": "stdout",
     "output_type": "stream",
     "text": [
      "\repisode 664/2000, max score: 0.49, average scores: agent 0 - 0.46, agent 1 - 0.48, "
     ]
    },
    {
     "name": "stdout",
     "output_type": "stream",
     "text": [
      "\repisode 665/2000, max score: 0.49, average scores: agent 0 - 0.46, agent 1 - 0.48, "
     ]
    },
    {
     "name": "stdout",
     "output_type": "stream",
     "text": [
      "\repisode 666/2000, max score: 0.49, average scores: agent 0 - 0.46, agent 1 - 0.47, "
     ]
    },
    {
     "name": "stdout",
     "output_type": "stream",
     "text": [
      "\repisode 667/2000, max score: 0.49, average scores: agent 0 - 0.46, agent 1 - 0.47, "
     ]
    },
    {
     "name": "stdout",
     "output_type": "stream",
     "text": [
      "\repisode 668/2000, max score: 0.49, average scores: agent 0 - 0.47, agent 1 - 0.48, "
     ]
    },
    {
     "name": "stdout",
     "output_type": "stream",
     "text": [
      "\repisode 669/2000, max score: 0.49, average scores: agent 0 - 0.47, agent 1 - 0.48, "
     ]
    },
    {
     "name": "stdout",
     "output_type": "stream",
     "text": [
      "\repisode 670/2000, max score: 0.49, average scores: agent 0 - 0.46, agent 1 - 0.47, "
     ]
    },
    {
     "name": "stdout",
     "output_type": "stream",
     "text": [
      "\repisode 671/2000, max score: 0.49, average scores: agent 0 - 0.46, agent 1 - 0.47, "
     ]
    },
    {
     "name": "stdout",
     "output_type": "stream",
     "text": [
      "\repisode 672/2000, max score: 0.49, average scores: agent 0 - 0.46, agent 1 - 0.47, "
     ]
    },
    {
     "name": "stdout",
     "output_type": "stream",
     "text": [
      "\repisode 673/2000, max score: 0.49, average scores: agent 0 - 0.46, agent 1 - 0.47, "
     ]
    },
    {
     "name": "stdout",
     "output_type": "stream",
     "text": [
      "\repisode 674/2000, max score: 0.49, average scores: agent 0 - 0.46, agent 1 - 0.47, "
     ]
    },
    {
     "name": "stdout",
     "output_type": "stream",
     "text": [
      "\repisode 675/2000, max score: 0.49, average scores: agent 0 - 0.46, agent 1 - 0.46, "
     ]
    },
    {
     "name": "stdout",
     "output_type": "stream",
     "text": [
      "\repisode 676/2000, max score: 0.49, average scores: agent 0 - 0.45, agent 1 - 0.46, "
     ]
    },
    {
     "name": "stdout",
     "output_type": "stream",
     "text": [
      "\repisode 677/2000, max score: 0.49, average scores: agent 0 - 0.46, agent 1 - 0.46, "
     ]
    },
    {
     "name": "stdout",
     "output_type": "stream",
     "text": [
      "\repisode 678/2000, max score: 0.49, average scores: agent 0 - 0.46, agent 1 - 0.46, "
     ]
    },
    {
     "name": "stdout",
     "output_type": "stream",
     "text": [
      "\repisode 679/2000, max score: 0.49, average scores: agent 0 - 0.46, agent 1 - 0.46, "
     ]
    },
    {
     "name": "stdout",
     "output_type": "stream",
     "text": [
      "\repisode 680/2000, max score: 0.49, average scores: agent 0 - 0.45, agent 1 - 0.45, "
     ]
    },
    {
     "name": "stdout",
     "output_type": "stream",
     "text": [
      "\repisode 681/2000, max score: 0.49, average scores: agent 0 - 0.45, agent 1 - 0.45, "
     ]
    },
    {
     "name": "stdout",
     "output_type": "stream",
     "text": [
      "\repisode 682/2000, max score: 0.49, average scores: agent 0 - 0.45, agent 1 - 0.45, "
     ]
    },
    {
     "name": "stdout",
     "output_type": "stream",
     "text": [
      "\repisode 683/2000, max score: 0.49, average scores: agent 0 - 0.45, agent 1 - 0.45, "
     ]
    },
    {
     "name": "stdout",
     "output_type": "stream",
     "text": [
      "\repisode 684/2000, max score: 0.49, average scores: agent 0 - 0.45, agent 1 - 0.45, "
     ]
    },
    {
     "name": "stdout",
     "output_type": "stream",
     "text": [
      "\repisode 685/2000, max score: 0.49, average scores: agent 0 - 0.45, agent 1 - 0.46, "
     ]
    },
    {
     "name": "stdout",
     "output_type": "stream",
     "text": [
      "\repisode 686/2000, max score: 0.49, average scores: agent 0 - 0.45, agent 1 - 0.45, "
     ]
    },
    {
     "name": "stdout",
     "output_type": "stream",
     "text": [
      "\repisode 687/2000, max score: 0.49, average scores: agent 0 - 0.44, agent 1 - 0.44, "
     ]
    },
    {
     "name": "stdout",
     "output_type": "stream",
     "text": [
      "\repisode 688/2000, max score: 0.49, average scores: agent 0 - 0.44, agent 1 - 0.45, "
     ]
    },
    {
     "name": "stdout",
     "output_type": "stream",
     "text": [
      "\repisode 689/2000, max score: 0.49, average scores: agent 0 - 0.44, agent 1 - 0.44, "
     ]
    },
    {
     "name": "stdout",
     "output_type": "stream",
     "text": [
      "\repisode 690/2000, max score: 0.49, average scores: agent 0 - 0.44, agent 1 - 0.44, "
     ]
    },
    {
     "name": "stdout",
     "output_type": "stream",
     "text": [
      "\repisode 691/2000, max score: 0.49, average scores: agent 0 - 0.43, agent 1 - 0.44, "
     ]
    },
    {
     "name": "stdout",
     "output_type": "stream",
     "text": [
      "\repisode 692/2000, max score: 0.49, average scores: agent 0 - 0.43, agent 1 - 0.43, "
     ]
    },
    {
     "name": "stdout",
     "output_type": "stream",
     "text": [
      "\repisode 693/2000, max score: 0.49, average scores: agent 0 - 0.43, agent 1 - 0.43, "
     ]
    },
    {
     "name": "stdout",
     "output_type": "stream",
     "text": [
      "\repisode 694/2000, max score: 0.49, average scores: agent 0 - 0.42, agent 1 - 0.42, "
     ]
    },
    {
     "name": "stdout",
     "output_type": "stream",
     "text": [
      "\repisode 695/2000, max score: 0.49, average scores: agent 0 - 0.42, agent 1 - 0.43, "
     ]
    },
    {
     "name": "stdout",
     "output_type": "stream",
     "text": [
      "\repisode 696/2000, max score: 0.49, average scores: agent 0 - 0.43, agent 1 - 0.43, "
     ]
    },
    {
     "name": "stdout",
     "output_type": "stream",
     "text": [
      "\repisode 697/2000, max score: 0.49, average scores: agent 0 - 0.43, agent 1 - 0.44, "
     ]
    },
    {
     "name": "stdout",
     "output_type": "stream",
     "text": [
      "\repisode 698/2000, max score: 0.49, average scores: agent 0 - 0.43, agent 1 - 0.44, "
     ]
    },
    {
     "name": "stdout",
     "output_type": "stream",
     "text": [
      "\repisode 699/2000, max score: 0.49, average scores: agent 0 - 0.43, agent 1 - 0.43, "
     ]
    },
    {
     "name": "stdout",
     "output_type": "stream",
     "text": [
      "\repisode 700/2000, max score: 0.49, average scores: agent 0 - 0.42, agent 1 - 0.43, "
     ]
    },
    {
     "name": "stdout",
     "output_type": "stream",
     "text": [
      "\repisode 701/2000, max score: 0.49, average scores: agent 0 - 0.41, agent 1 - 0.41, "
     ]
    },
    {
     "name": "stdout",
     "output_type": "stream",
     "text": [
      "\repisode 702/2000, max score: 0.49, average scores: agent 0 - 0.41, agent 1 - 0.41, "
     ]
    },
    {
     "name": "stdout",
     "output_type": "stream",
     "text": [
      "\repisode 703/2000, max score: 0.49, average scores: agent 0 - 0.41, agent 1 - 0.42, "
     ]
    },
    {
     "name": "stdout",
     "output_type": "stream",
     "text": [
      "\repisode 704/2000, max score: 0.49, average scores: agent 0 - 0.41, agent 1 - 0.41, "
     ]
    },
    {
     "name": "stdout",
     "output_type": "stream",
     "text": [
      "\repisode 705/2000, max score: 0.49, average scores: agent 0 - 0.41, agent 1 - 0.41, "
     ]
    },
    {
     "name": "stdout",
     "output_type": "stream",
     "text": [
      "\repisode 706/2000, max score: 0.49, average scores: agent 0 - 0.40, agent 1 - 0.40, "
     ]
    },
    {
     "name": "stdout",
     "output_type": "stream",
     "text": [
      "\repisode 707/2000, max score: 0.49, average scores: agent 0 - 0.40, agent 1 - 0.40, "
     ]
    },
    {
     "name": "stdout",
     "output_type": "stream",
     "text": [
      "\repisode 708/2000, max score: 0.49, average scores: agent 0 - 0.41, agent 1 - 0.40, "
     ]
    },
    {
     "name": "stdout",
     "output_type": "stream",
     "text": [
      "\repisode 709/2000, max score: 0.49, average scores: agent 0 - 0.41, agent 1 - 0.41, "
     ]
    },
    {
     "name": "stdout",
     "output_type": "stream",
     "text": [
      "\repisode 710/2000, max score: 0.49, average scores: agent 0 - 0.41, agent 1 - 0.41, "
     ]
    },
    {
     "name": "stdout",
     "output_type": "stream",
     "text": [
      "\repisode 711/2000, max score: 0.49, average scores: agent 0 - 0.41, agent 1 - 0.41, "
     ]
    },
    {
     "name": "stdout",
     "output_type": "stream",
     "text": [
      "\repisode 712/2000, max score: 0.49, average scores: agent 0 - 0.41, agent 1 - 0.40, "
     ]
    },
    {
     "name": "stdout",
     "output_type": "stream",
     "text": [
      "\repisode 713/2000, max score: 0.49, average scores: agent 0 - 0.40, agent 1 - 0.40, "
     ]
    },
    {
     "name": "stdout",
     "output_type": "stream",
     "text": [
      "\repisode 714/2000, max score: 0.49, average scores: agent 0 - 0.40, agent 1 - 0.40, "
     ]
    },
    {
     "name": "stdout",
     "output_type": "stream",
     "text": [
      "\repisode 715/2000, max score: 0.49, average scores: agent 0 - 0.40, agent 1 - 0.40, "
     ]
    },
    {
     "name": "stdout",
     "output_type": "stream",
     "text": [
      "\repisode 716/2000, max score: 0.49, average scores: agent 0 - 0.40, agent 1 - 0.40, "
     ]
    },
    {
     "name": "stdout",
     "output_type": "stream",
     "text": [
      "\repisode 717/2000, max score: 0.49, average scores: agent 0 - 0.40, agent 1 - 0.40, "
     ]
    },
    {
     "name": "stdout",
     "output_type": "stream",
     "text": [
      "\repisode 718/2000, max score: 0.49, average scores: agent 0 - 0.40, agent 1 - 0.39, "
     ]
    },
    {
     "name": "stdout",
     "output_type": "stream",
     "text": [
      "\repisode 719/2000, max score: 0.49, average scores: agent 0 - 0.39, agent 1 - 0.39, "
     ]
    },
    {
     "name": "stdout",
     "output_type": "stream",
     "text": [
      "\repisode 720/2000, max score: 0.49, average scores: agent 0 - 0.38, agent 1 - 0.37, "
     ]
    },
    {
     "name": "stdout",
     "output_type": "stream",
     "text": [
      "\repisode 721/2000, max score: 0.49, average scores: agent 0 - 0.38, agent 1 - 0.38, "
     ]
    },
    {
     "name": "stdout",
     "output_type": "stream",
     "text": [
      "\repisode 722/2000, max score: 0.49, average scores: agent 0 - 0.37, agent 1 - 0.37, "
     ]
    },
    {
     "name": "stdout",
     "output_type": "stream",
     "text": [
      "\repisode 723/2000, max score: 0.49, average scores: agent 0 - 0.36, agent 1 - 0.36, "
     ]
    },
    {
     "name": "stdout",
     "output_type": "stream",
     "text": [
      "\repisode 724/2000, max score: 0.49, average scores: agent 0 - 0.35, agent 1 - 0.35, "
     ]
    },
    {
     "name": "stdout",
     "output_type": "stream",
     "text": [
      "\repisode 725/2000, max score: 0.49, average scores: agent 0 - 0.35, agent 1 - 0.35, "
     ]
    },
    {
     "name": "stdout",
     "output_type": "stream",
     "text": [
      "\repisode 726/2000, max score: 0.49, average scores: agent 0 - 0.34, agent 1 - 0.34, "
     ]
    },
    {
     "name": "stdout",
     "output_type": "stream",
     "text": [
      "\repisode 727/2000, max score: 0.49, average scores: agent 0 - 0.34, agent 1 - 0.34, "
     ]
    },
    {
     "name": "stdout",
     "output_type": "stream",
     "text": [
      "\repisode 728/2000, max score: 0.49, average scores: agent 0 - 0.34, agent 1 - 0.34, "
     ]
    },
    {
     "name": "stdout",
     "output_type": "stream",
     "text": [
      "\repisode 729/2000, max score: 0.49, average scores: agent 0 - 0.34, agent 1 - 0.34, "
     ]
    },
    {
     "name": "stdout",
     "output_type": "stream",
     "text": [
      "\repisode 730/2000, max score: 0.49, average scores: agent 0 - 0.33, agent 1 - 0.33, "
     ]
    },
    {
     "name": "stdout",
     "output_type": "stream",
     "text": [
      "\repisode 731/2000, max score: 0.49, average scores: agent 0 - 0.33, agent 1 - 0.32, "
     ]
    },
    {
     "name": "stdout",
     "output_type": "stream",
     "text": [
      "\repisode 732/2000, max score: 0.49, average scores: agent 0 - 0.32, agent 1 - 0.32, "
     ]
    },
    {
     "name": "stdout",
     "output_type": "stream",
     "text": [
      "\repisode 733/2000, max score: 0.49, average scores: agent 0 - 0.32, agent 1 - 0.31, "
     ]
    },
    {
     "name": "stdout",
     "output_type": "stream",
     "text": [
      "\repisode 734/2000, max score: 0.49, average scores: agent 0 - 0.32, agent 1 - 0.31, "
     ]
    },
    {
     "name": "stdout",
     "output_type": "stream",
     "text": [
      "\repisode 735/2000, max score: 0.49, average scores: agent 0 - 0.32, agent 1 - 0.31, "
     ]
    },
    {
     "name": "stdout",
     "output_type": "stream",
     "text": [
      "\repisode 736/2000, max score: 0.49, average scores: agent 0 - 0.31, agent 1 - 0.31, "
     ]
    },
    {
     "name": "stdout",
     "output_type": "stream",
     "text": [
      "\repisode 737/2000, max score: 0.49, average scores: agent 0 - 0.31, agent 1 - 0.31, "
     ]
    },
    {
     "name": "stdout",
     "output_type": "stream",
     "text": [
      "\repisode 738/2000, max score: 0.49, average scores: agent 0 - 0.30, agent 1 - 0.30, "
     ]
    },
    {
     "name": "stdout",
     "output_type": "stream",
     "text": [
      "\repisode 739/2000, max score: 0.49, average scores: agent 0 - 0.30, agent 1 - 0.29, "
     ]
    },
    {
     "name": "stdout",
     "output_type": "stream",
     "text": [
      "\repisode 740/2000, max score: 0.49, average scores: agent 0 - 0.30, agent 1 - 0.29, "
     ]
    },
    {
     "name": "stdout",
     "output_type": "stream",
     "text": [
      "\repisode 741/2000, max score: 0.49, average scores: agent 0 - 0.30, agent 1 - 0.29, "
     ]
    },
    {
     "name": "stdout",
     "output_type": "stream",
     "text": [
      "\repisode 742/2000, max score: 0.49, average scores: agent 0 - 0.30, agent 1 - 0.29, "
     ]
    },
    {
     "name": "stdout",
     "output_type": "stream",
     "text": [
      "\repisode 743/2000, max score: 0.49, average scores: agent 0 - 0.29, agent 1 - 0.29, "
     ]
    },
    {
     "name": "stdout",
     "output_type": "stream",
     "text": [
      "\repisode 744/2000, max score: 0.49, average scores: agent 0 - 0.29, agent 1 - 0.29, "
     ]
    },
    {
     "name": "stdout",
     "output_type": "stream",
     "text": [
      "\repisode 745/2000, max score: 0.49, average scores: agent 0 - 0.29, agent 1 - 0.28, "
     ]
    },
    {
     "name": "stdout",
     "output_type": "stream",
     "text": [
      "\repisode 746/2000, max score: 0.49, average scores: agent 0 - 0.28, agent 1 - 0.27, "
     ]
    },
    {
     "name": "stdout",
     "output_type": "stream",
     "text": [
      "\repisode 747/2000, max score: 0.49, average scores: agent 0 - 0.28, agent 1 - 0.27, "
     ]
    },
    {
     "name": "stdout",
     "output_type": "stream",
     "text": [
      "\repisode 748/2000, max score: 0.49, average scores: agent 0 - 0.27, agent 1 - 0.26, "
     ]
    },
    {
     "name": "stdout",
     "output_type": "stream",
     "text": [
      "\repisode 749/2000, max score: 0.49, average scores: agent 0 - 0.27, agent 1 - 0.26, "
     ]
    },
    {
     "name": "stdout",
     "output_type": "stream",
     "text": [
      "\repisode 750/2000, max score: 0.49, average scores: agent 0 - 0.26, agent 1 - 0.26, "
     ]
    },
    {
     "name": "stdout",
     "output_type": "stream",
     "text": [
      "\repisode 751/2000, max score: 0.49, average scores: agent 0 - 0.26, agent 1 - 0.26, "
     ]
    },
    {
     "name": "stdout",
     "output_type": "stream",
     "text": [
      "\repisode 752/2000, max score: 0.49, average scores: agent 0 - 0.27, agent 1 - 0.26, "
     ]
    },
    {
     "name": "stdout",
     "output_type": "stream",
     "text": [
      "\repisode 753/2000, max score: 0.49, average scores: agent 0 - 0.27, agent 1 - 0.26, "
     ]
    },
    {
     "name": "stdout",
     "output_type": "stream",
     "text": [
      "\repisode 754/2000, max score: 0.49, average scores: agent 0 - 0.26, agent 1 - 0.25, "
     ]
    },
    {
     "name": "stdout",
     "output_type": "stream",
     "text": [
      "\repisode 755/2000, max score: 0.49, average scores: agent 0 - 0.26, agent 1 - 0.26, "
     ]
    },
    {
     "name": "stdout",
     "output_type": "stream",
     "text": [
      "\repisode 756/2000, max score: 0.49, average scores: agent 0 - 0.26, agent 1 - 0.25, "
     ]
    },
    {
     "name": "stdout",
     "output_type": "stream",
     "text": [
      "\repisode 757/2000, max score: 0.49, average scores: agent 0 - 0.25, agent 1 - 0.25, "
     ]
    },
    {
     "name": "stdout",
     "output_type": "stream",
     "text": [
      "\repisode 758/2000, max score: 0.49, average scores: agent 0 - 0.25, agent 1 - 0.25, "
     ]
    },
    {
     "name": "stdout",
     "output_type": "stream",
     "text": [
      "\repisode 759/2000, max score: 0.49, average scores: agent 0 - 0.25, agent 1 - 0.25, "
     ]
    },
    {
     "name": "stdout",
     "output_type": "stream",
     "text": [
      "\repisode 760/2000, max score: 0.49, average scores: agent 0 - 0.24, agent 1 - 0.24, "
     ]
    },
    {
     "name": "stdout",
     "output_type": "stream",
     "text": [
      "\repisode 761/2000, max score: 0.49, average scores: agent 0 - 0.25, agent 1 - 0.24, "
     ]
    },
    {
     "name": "stdout",
     "output_type": "stream",
     "text": [
      "\repisode 762/2000, max score: 0.49, average scores: agent 0 - 0.25, agent 1 - 0.25, "
     ]
    },
    {
     "name": "stdout",
     "output_type": "stream",
     "text": [
      "\repisode 763/2000, max score: 0.49, average scores: agent 0 - 0.25, agent 1 - 0.24, "
     ]
    },
    {
     "name": "stdout",
     "output_type": "stream",
     "text": [
      "\repisode 764/2000, max score: 0.49, average scores: agent 0 - 0.25, agent 1 - 0.25, "
     ]
    },
    {
     "name": "stdout",
     "output_type": "stream",
     "text": [
      "\repisode 765/2000, max score: 0.49, average scores: agent 0 - 0.25, agent 1 - 0.24, "
     ]
    },
    {
     "name": "stdout",
     "output_type": "stream",
     "text": [
      "\repisode 766/2000, max score: 0.49, average scores: agent 0 - 0.25, agent 1 - 0.24, "
     ]
    },
    {
     "name": "stdout",
     "output_type": "stream",
     "text": [
      "\repisode 767/2000, max score: 0.49, average scores: agent 0 - 0.25, agent 1 - 0.25, "
     ]
    },
    {
     "name": "stdout",
     "output_type": "stream",
     "text": [
      "\repisode 768/2000, max score: 0.49, average scores: agent 0 - 0.24, agent 1 - 0.24, "
     ]
    },
    {
     "name": "stdout",
     "output_type": "stream",
     "text": [
      "\repisode 769/2000, max score: 0.49, average scores: agent 0 - 0.24, agent 1 - 0.24, "
     ]
    },
    {
     "name": "stdout",
     "output_type": "stream",
     "text": [
      "\repisode 770/2000, max score: 0.49, average scores: agent 0 - 0.24, agent 1 - 0.24, "
     ]
    },
    {
     "name": "stdout",
     "output_type": "stream",
     "text": [
      "\repisode 771/2000, max score: 0.49, average scores: agent 0 - 0.24, agent 1 - 0.24, "
     ]
    },
    {
     "name": "stdout",
     "output_type": "stream",
     "text": [
      "\repisode 772/2000, max score: 0.49, average scores: agent 0 - 0.24, agent 1 - 0.24, "
     ]
    },
    {
     "name": "stdout",
     "output_type": "stream",
     "text": [
      "\repisode 773/2000, max score: 0.49, average scores: agent 0 - 0.24, agent 1 - 0.24, "
     ]
    },
    {
     "name": "stdout",
     "output_type": "stream",
     "text": [
      "\repisode 774/2000, max score: 0.49, average scores: agent 0 - 0.24, agent 1 - 0.24, "
     ]
    },
    {
     "name": "stdout",
     "output_type": "stream",
     "text": [
      "\repisode 775/2000, max score: 0.49, average scores: agent 0 - 0.24, agent 1 - 0.25, "
     ]
    },
    {
     "name": "stdout",
     "output_type": "stream",
     "text": [
      "\repisode 776/2000, max score: 0.49, average scores: agent 0 - 0.25, agent 1 - 0.25, "
     ]
    },
    {
     "name": "stdout",
     "output_type": "stream",
     "text": [
      "\repisode 777/2000, max score: 0.49, average scores: agent 0 - 0.25, agent 1 - 0.25, "
     ]
    },
    {
     "name": "stdout",
     "output_type": "stream",
     "text": [
      "\repisode 778/2000, max score: 0.49, average scores: agent 0 - 0.25, agent 1 - 0.25, "
     ]
    },
    {
     "name": "stdout",
     "output_type": "stream",
     "text": [
      "\repisode 779/2000, max score: 0.49, average scores: agent 0 - 0.25, agent 1 - 0.25, "
     ]
    },
    {
     "name": "stdout",
     "output_type": "stream",
     "text": [
      "\repisode 780/2000, max score: 0.49, average scores: agent 0 - 0.25, agent 1 - 0.25, "
     ]
    },
    {
     "name": "stdout",
     "output_type": "stream",
     "text": [
      "\repisode 781/2000, max score: 0.49, average scores: agent 0 - 0.25, agent 1 - 0.25, "
     ]
    },
    {
     "name": "stdout",
     "output_type": "stream",
     "text": [
      "\repisode 782/2000, max score: 0.49, average scores: agent 0 - 0.25, agent 1 - 0.25, "
     ]
    },
    {
     "name": "stdout",
     "output_type": "stream",
     "text": [
      "\repisode 783/2000, max score: 0.49, average scores: agent 0 - 0.24, agent 1 - 0.25, "
     ]
    },
    {
     "name": "stdout",
     "output_type": "stream",
     "text": [
      "\repisode 784/2000, max score: 0.49, average scores: agent 0 - 0.23, agent 1 - 0.23, "
     ]
    },
    {
     "name": "stdout",
     "output_type": "stream",
     "text": [
      "\repisode 785/2000, max score: 0.49, average scores: agent 0 - 0.23, agent 1 - 0.23, "
     ]
    },
    {
     "name": "stdout",
     "output_type": "stream",
     "text": [
      "\repisode 786/2000, max score: 0.49, average scores: agent 0 - 0.23, agent 1 - 0.23, "
     ]
    },
    {
     "name": "stdout",
     "output_type": "stream",
     "text": [
      "\repisode 787/2000, max score: 0.49, average scores: agent 0 - 0.24, agent 1 - 0.24, "
     ]
    },
    {
     "name": "stdout",
     "output_type": "stream",
     "text": [
      "\repisode 788/2000, max score: 0.49, average scores: agent 0 - 0.24, agent 1 - 0.24, "
     ]
    },
    {
     "name": "stdout",
     "output_type": "stream",
     "text": [
      "\repisode 789/2000, max score: 0.49, average scores: agent 0 - 0.24, agent 1 - 0.24, "
     ]
    },
    {
     "name": "stdout",
     "output_type": "stream",
     "text": [
      "\repisode 790/2000, max score: 0.49, average scores: agent 0 - 0.24, agent 1 - 0.24, "
     ]
    },
    {
     "name": "stdout",
     "output_type": "stream",
     "text": [
      "\repisode 791/2000, max score: 0.49, average scores: agent 0 - 0.24, agent 1 - 0.24, "
     ]
    },
    {
     "name": "stdout",
     "output_type": "stream",
     "text": [
      "\repisode 792/2000, max score: 0.49, average scores: agent 0 - 0.24, agent 1 - 0.24, "
     ]
    },
    {
     "name": "stdout",
     "output_type": "stream",
     "text": [
      "\repisode 793/2000, max score: 0.49, average scores: agent 0 - 0.24, agent 1 - 0.24, "
     ]
    },
    {
     "name": "stdout",
     "output_type": "stream",
     "text": [
      "\repisode 794/2000, max score: 0.49, average scores: agent 0 - 0.24, agent 1 - 0.24, "
     ]
    },
    {
     "name": "stdout",
     "output_type": "stream",
     "text": [
      "\repisode 795/2000, max score: 0.49, average scores: agent 0 - 0.24, agent 1 - 0.24, "
     ]
    },
    {
     "name": "stdout",
     "output_type": "stream",
     "text": [
      "\repisode 796/2000, max score: 0.49, average scores: agent 0 - 0.24, agent 1 - 0.24, "
     ]
    },
    {
     "name": "stdout",
     "output_type": "stream",
     "text": [
      "\repisode 797/2000, max score: 0.49, average scores: agent 0 - 0.23, agent 1 - 0.23, "
     ]
    },
    {
     "name": "stdout",
     "output_type": "stream",
     "text": [
      "\repisode 798/2000, max score: 0.49, average scores: agent 0 - 0.23, agent 1 - 0.23, "
     ]
    },
    {
     "name": "stdout",
     "output_type": "stream",
     "text": [
      "\repisode 799/2000, max score: 0.49, average scores: agent 0 - 0.22, agent 1 - 0.22, "
     ]
    },
    {
     "name": "stdout",
     "output_type": "stream",
     "text": [
      "\repisode 800/2000, max score: 0.49, average scores: agent 0 - 0.22, agent 1 - 0.22, "
     ]
    },
    {
     "name": "stdout",
     "output_type": "stream",
     "text": [
      "\repisode 801/2000, max score: 0.49, average scores: agent 0 - 0.22, agent 1 - 0.22, "
     ]
    },
    {
     "name": "stdout",
     "output_type": "stream",
     "text": [
      "\repisode 802/2000, max score: 0.49, average scores: agent 0 - 0.22, agent 1 - 0.22, "
     ]
    },
    {
     "name": "stdout",
     "output_type": "stream",
     "text": [
      "\repisode 803/2000, max score: 0.49, average scores: agent 0 - 0.22, agent 1 - 0.22, "
     ]
    },
    {
     "name": "stdout",
     "output_type": "stream",
     "text": [
      "\repisode 804/2000, max score: 0.49, average scores: agent 0 - 0.22, agent 1 - 0.22, "
     ]
    },
    {
     "name": "stdout",
     "output_type": "stream",
     "text": [
      "\repisode 805/2000, max score: 0.49, average scores: agent 0 - 0.22, agent 1 - 0.22, "
     ]
    },
    {
     "name": "stdout",
     "output_type": "stream",
     "text": [
      "\repisode 806/2000, max score: 0.49, average scores: agent 0 - 0.22, agent 1 - 0.23, "
     ]
    },
    {
     "name": "stdout",
     "output_type": "stream",
     "text": [
      "\repisode 807/2000, max score: 0.49, average scores: agent 0 - 0.22, agent 1 - 0.23, "
     ]
    },
    {
     "name": "stdout",
     "output_type": "stream",
     "text": [
      "\repisode 808/2000, max score: 0.49, average scores: agent 0 - 0.22, agent 1 - 0.22, "
     ]
    },
    {
     "name": "stdout",
     "output_type": "stream",
     "text": [
      "\repisode 809/2000, max score: 0.49, average scores: agent 0 - 0.22, agent 1 - 0.22, "
     ]
    },
    {
     "name": "stdout",
     "output_type": "stream",
     "text": [
      "\repisode 810/2000, max score: 0.49, average scores: agent 0 - 0.22, agent 1 - 0.23, "
     ]
    },
    {
     "name": "stdout",
     "output_type": "stream",
     "text": [
      "\repisode 811/2000, max score: 0.49, average scores: agent 0 - 0.22, agent 1 - 0.23, "
     ]
    },
    {
     "name": "stdout",
     "output_type": "stream",
     "text": [
      "\repisode 812/2000, max score: 0.49, average scores: agent 0 - 0.22, agent 1 - 0.23, "
     ]
    },
    {
     "name": "stdout",
     "output_type": "stream",
     "text": [
      "\repisode 813/2000, max score: 0.49, average scores: agent 0 - 0.22, agent 1 - 0.23, "
     ]
    },
    {
     "name": "stdout",
     "output_type": "stream",
     "text": [
      "\repisode 814/2000, max score: 0.49, average scores: agent 0 - 0.22, agent 1 - 0.23, "
     ]
    },
    {
     "name": "stdout",
     "output_type": "stream",
     "text": [
      "\repisode 815/2000, max score: 0.49, average scores: agent 0 - 0.22, agent 1 - 0.22, "
     ]
    },
    {
     "name": "stdout",
     "output_type": "stream",
     "text": [
      "\repisode 816/2000, max score: 0.49, average scores: agent 0 - 0.22, agent 1 - 0.22, "
     ]
    },
    {
     "name": "stdout",
     "output_type": "stream",
     "text": [
      "\repisode 817/2000, max score: 0.49, average scores: agent 0 - 0.22, agent 1 - 0.22, "
     ]
    },
    {
     "name": "stdout",
     "output_type": "stream",
     "text": [
      "\repisode 818/2000, max score: 0.49, average scores: agent 0 - 0.23, agent 1 - 0.23, "
     ]
    },
    {
     "name": "stdout",
     "output_type": "stream",
     "text": [
      "\repisode 819/2000, max score: 0.49, average scores: agent 0 - 0.23, agent 1 - 0.23, "
     ]
    },
    {
     "name": "stdout",
     "output_type": "stream",
     "text": [
      "\repisode 820/2000, max score: 0.49, average scores: agent 0 - 0.23, agent 1 - 0.23, "
     ]
    },
    {
     "name": "stdout",
     "output_type": "stream",
     "text": [
      "\repisode 821/2000, max score: 0.49, average scores: agent 0 - 0.24, agent 1 - 0.24, "
     ]
    },
    {
     "name": "stdout",
     "output_type": "stream",
     "text": [
      "\repisode 822/2000, max score: 0.49, average scores: agent 0 - 0.24, agent 1 - 0.24, "
     ]
    },
    {
     "name": "stdout",
     "output_type": "stream",
     "text": [
      "\repisode 823/2000, max score: 0.49, average scores: agent 0 - 0.24, agent 1 - 0.25, "
     ]
    },
    {
     "name": "stdout",
     "output_type": "stream",
     "text": [
      "\repisode 824/2000, max score: 0.49, average scores: agent 0 - 0.25, agent 1 - 0.25, "
     ]
    },
    {
     "name": "stdout",
     "output_type": "stream",
     "text": [
      "\repisode 825/2000, max score: 0.49, average scores: agent 0 - 0.24, agent 1 - 0.25, "
     ]
    },
    {
     "name": "stdout",
     "output_type": "stream",
     "text": [
      "\repisode 826/2000, max score: 0.49, average scores: agent 0 - 0.25, agent 1 - 0.25, "
     ]
    },
    {
     "name": "stdout",
     "output_type": "stream",
     "text": [
      "\repisode 827/2000, max score: 0.49, average scores: agent 0 - 0.25, agent 1 - 0.25, "
     ]
    },
    {
     "name": "stdout",
     "output_type": "stream",
     "text": [
      "\repisode 828/2000, max score: 0.49, average scores: agent 0 - 0.25, agent 1 - 0.25, "
     ]
    },
    {
     "name": "stdout",
     "output_type": "stream",
     "text": [
      "\repisode 829/2000, max score: 0.49, average scores: agent 0 - 0.25, agent 1 - 0.25, "
     ]
    },
    {
     "name": "stdout",
     "output_type": "stream",
     "text": [
      "\repisode 830/2000, max score: 0.49, average scores: agent 0 - 0.25, agent 1 - 0.25, "
     ]
    },
    {
     "name": "stdout",
     "output_type": "stream",
     "text": [
      "\repisode 831/2000, max score: 0.49, average scores: agent 0 - 0.25, agent 1 - 0.25, "
     ]
    },
    {
     "name": "stdout",
     "output_type": "stream",
     "text": [
      "\repisode 832/2000, max score: 0.49, average scores: agent 0 - 0.25, agent 1 - 0.25, "
     ]
    },
    {
     "name": "stdout",
     "output_type": "stream",
     "text": [
      "\repisode 833/2000, max score: 0.49, average scores: agent 0 - 0.26, agent 1 - 0.25, "
     ]
    },
    {
     "name": "stdout",
     "output_type": "stream",
     "text": [
      "\repisode 834/2000, max score: 0.49, average scores: agent 0 - 0.26, agent 1 - 0.25, "
     ]
    },
    {
     "name": "stdout",
     "output_type": "stream",
     "text": [
      "\repisode 835/2000, max score: 0.49, average scores: agent 0 - 0.26, agent 1 - 0.25, "
     ]
    },
    {
     "name": "stdout",
     "output_type": "stream",
     "text": [
      "\repisode 836/2000, max score: 0.49, average scores: agent 0 - 0.26, agent 1 - 0.25, "
     ]
    },
    {
     "name": "stdout",
     "output_type": "stream",
     "text": [
      "\repisode 837/2000, max score: 0.49, average scores: agent 0 - 0.26, agent 1 - 0.26, "
     ]
    },
    {
     "name": "stdout",
     "output_type": "stream",
     "text": [
      "\repisode 838/2000, max score: 0.49, average scores: agent 0 - 0.26, agent 1 - 0.26, "
     ]
    },
    {
     "name": "stdout",
     "output_type": "stream",
     "text": [
      "\repisode 839/2000, max score: 0.49, average scores: agent 0 - 0.26, agent 1 - 0.26, "
     ]
    },
    {
     "name": "stdout",
     "output_type": "stream",
     "text": [
      "\repisode 840/2000, max score: 0.49, average scores: agent 0 - 0.27, agent 1 - 0.27, "
     ]
    },
    {
     "name": "stdout",
     "output_type": "stream",
     "text": [
      "\repisode 841/2000, max score: 0.49, average scores: agent 0 - 0.27, agent 1 - 0.26, "
     ]
    },
    {
     "name": "stdout",
     "output_type": "stream",
     "text": [
      "\repisode 842/2000, max score: 0.49, average scores: agent 0 - 0.27, agent 1 - 0.26, "
     ]
    },
    {
     "name": "stdout",
     "output_type": "stream",
     "text": [
      "\repisode 843/2000, max score: 0.49, average scores: agent 0 - 0.27, agent 1 - 0.26, "
     ]
    },
    {
     "name": "stdout",
     "output_type": "stream",
     "text": [
      "\repisode 844/2000, max score: 0.49, average scores: agent 0 - 0.27, agent 1 - 0.27, "
     ]
    },
    {
     "name": "stdout",
     "output_type": "stream",
     "text": [
      "\repisode 845/2000, max score: 0.49, average scores: agent 0 - 0.28, agent 1 - 0.27, "
     ]
    },
    {
     "name": "stdout",
     "output_type": "stream",
     "text": [
      "\repisode 846/2000, max score: 0.49, average scores: agent 0 - 0.28, agent 1 - 0.28, "
     ]
    },
    {
     "name": "stdout",
     "output_type": "stream",
     "text": [
      "\repisode 847/2000, max score: 0.49, average scores: agent 0 - 0.28, agent 1 - 0.28, "
     ]
    },
    {
     "name": "stdout",
     "output_type": "stream",
     "text": [
      "\repisode 848/2000, max score: 0.49, average scores: agent 0 - 0.28, agent 1 - 0.28, "
     ]
    },
    {
     "name": "stdout",
     "output_type": "stream",
     "text": [
      "\repisode 849/2000, max score: 0.49, average scores: agent 0 - 0.28, agent 1 - 0.28, "
     ]
    },
    {
     "name": "stdout",
     "output_type": "stream",
     "text": [
      "\repisode 850/2000, max score: 0.49, average scores: agent 0 - 0.28, agent 1 - 0.28, "
     ]
    },
    {
     "name": "stdout",
     "output_type": "stream",
     "text": [
      "\repisode 851/2000, max score: 0.49, average scores: agent 0 - 0.28, agent 1 - 0.27, "
     ]
    },
    {
     "name": "stdout",
     "output_type": "stream",
     "text": [
      "\repisode 852/2000, max score: 0.49, average scores: agent 0 - 0.28, agent 1 - 0.27, "
     ]
    },
    {
     "name": "stdout",
     "output_type": "stream",
     "text": [
      "\repisode 853/2000, max score: 0.49, average scores: agent 0 - 0.28, agent 1 - 0.27, "
     ]
    },
    {
     "name": "stdout",
     "output_type": "stream",
     "text": [
      "\repisode 854/2000, max score: 0.49, average scores: agent 0 - 0.28, agent 1 - 0.28, "
     ]
    },
    {
     "name": "stdout",
     "output_type": "stream",
     "text": [
      "\repisode 855/2000, max score: 0.49, average scores: agent 0 - 0.28, agent 1 - 0.28, "
     ]
    },
    {
     "name": "stdout",
     "output_type": "stream",
     "text": [
      "\repisode 856/2000, max score: 0.49, average scores: agent 0 - 0.28, agent 1 - 0.28, "
     ]
    },
    {
     "name": "stdout",
     "output_type": "stream",
     "text": [
      "\repisode 857/2000, max score: 0.49, average scores: agent 0 - 0.28, agent 1 - 0.28, "
     ]
    },
    {
     "name": "stdout",
     "output_type": "stream",
     "text": [
      "\repisode 858/2000, max score: 0.49, average scores: agent 0 - 0.28, agent 1 - 0.28, "
     ]
    },
    {
     "name": "stdout",
     "output_type": "stream",
     "text": [
      "\repisode 859/2000, max score: 0.49, average scores: agent 0 - 0.29, agent 1 - 0.28, "
     ]
    },
    {
     "name": "stdout",
     "output_type": "stream",
     "text": [
      "\repisode 860/2000, max score: 0.49, average scores: agent 0 - 0.29, agent 1 - 0.28, "
     ]
    },
    {
     "name": "stdout",
     "output_type": "stream",
     "text": [
      "\repisode 861/2000, max score: 0.49, average scores: agent 0 - 0.29, agent 1 - 0.28, "
     ]
    },
    {
     "name": "stdout",
     "output_type": "stream",
     "text": [
      "\repisode 862/2000, max score: 0.49, average scores: agent 0 - 0.29, agent 1 - 0.28, "
     ]
    },
    {
     "name": "stdout",
     "output_type": "stream",
     "text": [
      "\repisode 863/2000, max score: 0.49, average scores: agent 0 - 0.29, agent 1 - 0.29, "
     ]
    },
    {
     "name": "stdout",
     "output_type": "stream",
     "text": [
      "\repisode 864/2000, max score: 0.49, average scores: agent 0 - 0.29, agent 1 - 0.28, "
     ]
    },
    {
     "name": "stdout",
     "output_type": "stream",
     "text": [
      "\repisode 865/2000, max score: 0.49, average scores: agent 0 - 0.30, agent 1 - 0.29, "
     ]
    },
    {
     "name": "stdout",
     "output_type": "stream",
     "text": [
      "\repisode 866/2000, max score: 0.49, average scores: agent 0 - 0.30, agent 1 - 0.29, "
     ]
    },
    {
     "name": "stdout",
     "output_type": "stream",
     "text": [
      "\repisode 867/2000, max score: 0.49, average scores: agent 0 - 0.30, agent 1 - 0.29, "
     ]
    },
    {
     "name": "stdout",
     "output_type": "stream",
     "text": [
      "\repisode 868/2000, max score: 0.49, average scores: agent 0 - 0.29, agent 1 - 0.29, "
     ]
    },
    {
     "name": "stdout",
     "output_type": "stream",
     "text": [
      "\repisode 869/2000, max score: 0.49, average scores: agent 0 - 0.30, agent 1 - 0.29, "
     ]
    },
    {
     "name": "stdout",
     "output_type": "stream",
     "text": [
      "\repisode 870/2000, max score: 0.49, average scores: agent 0 - 0.30, agent 1 - 0.29, "
     ]
    },
    {
     "name": "stdout",
     "output_type": "stream",
     "text": [
      "\repisode 871/2000, max score: 0.49, average scores: agent 0 - 0.29, agent 1 - 0.28, "
     ]
    },
    {
     "name": "stdout",
     "output_type": "stream",
     "text": [
      "\repisode 872/2000, max score: 0.49, average scores: agent 0 - 0.29, agent 1 - 0.29, "
     ]
    },
    {
     "name": "stdout",
     "output_type": "stream",
     "text": [
      "\repisode 873/2000, max score: 0.49, average scores: agent 0 - 0.30, agent 1 - 0.29, "
     ]
    },
    {
     "name": "stdout",
     "output_type": "stream",
     "text": [
      "\repisode 874/2000, max score: 0.49, average scores: agent 0 - 0.30, agent 1 - 0.29, "
     ]
    },
    {
     "name": "stdout",
     "output_type": "stream",
     "text": [
      "\repisode 875/2000, max score: 0.49, average scores: agent 0 - 0.30, agent 1 - 0.28, "
     ]
    },
    {
     "name": "stdout",
     "output_type": "stream",
     "text": [
      "\repisode 876/2000, max score: 0.49, average scores: agent 0 - 0.30, agent 1 - 0.29, "
     ]
    },
    {
     "name": "stdout",
     "output_type": "stream",
     "text": [
      "\repisode 877/2000, max score: 0.49, average scores: agent 0 - 0.30, agent 1 - 0.29, "
     ]
    },
    {
     "name": "stdout",
     "output_type": "stream",
     "text": [
      "\repisode 878/2000, max score: 0.49, average scores: agent 0 - 0.30, agent 1 - 0.28, "
     ]
    },
    {
     "name": "stdout",
     "output_type": "stream",
     "text": [
      "\repisode 879/2000, max score: 0.49, average scores: agent 0 - 0.30, agent 1 - 0.29, "
     ]
    },
    {
     "name": "stdout",
     "output_type": "stream",
     "text": [
      "\repisode 880/2000, max score: 0.49, average scores: agent 0 - 0.30, agent 1 - 0.29, "
     ]
    },
    {
     "name": "stdout",
     "output_type": "stream",
     "text": [
      "\repisode 881/2000, max score: 0.49, average scores: agent 0 - 0.30, agent 1 - 0.29, "
     ]
    },
    {
     "name": "stdout",
     "output_type": "stream",
     "text": [
      "\repisode 882/2000, max score: 0.49, average scores: agent 0 - 0.30, agent 1 - 0.29, "
     ]
    },
    {
     "name": "stdout",
     "output_type": "stream",
     "text": [
      "\repisode 883/2000, max score: 0.49, average scores: agent 0 - 0.30, agent 1 - 0.29, "
     ]
    },
    {
     "name": "stdout",
     "output_type": "stream",
     "text": [
      "\repisode 884/2000, max score: 0.49, average scores: agent 0 - 0.30, agent 1 - 0.29, "
     ]
    },
    {
     "name": "stdout",
     "output_type": "stream",
     "text": [
      "\repisode 885/2000, max score: 0.49, average scores: agent 0 - 0.31, agent 1 - 0.30, "
     ]
    },
    {
     "name": "stdout",
     "output_type": "stream",
     "text": [
      "\repisode 886/2000, max score: 0.49, average scores: agent 0 - 0.31, agent 1 - 0.30, "
     ]
    },
    {
     "name": "stdout",
     "output_type": "stream",
     "text": [
      "\repisode 887/2000, max score: 0.49, average scores: agent 0 - 0.30, agent 1 - 0.29, "
     ]
    },
    {
     "name": "stdout",
     "output_type": "stream",
     "text": [
      "\repisode 888/2000, max score: 0.49, average scores: agent 0 - 0.30, agent 1 - 0.29, "
     ]
    },
    {
     "name": "stdout",
     "output_type": "stream",
     "text": [
      "\repisode 889/2000, max score: 0.49, average scores: agent 0 - 0.31, agent 1 - 0.30, "
     ]
    },
    {
     "name": "stdout",
     "output_type": "stream",
     "text": [
      "\repisode 890/2000, max score: 0.49, average scores: agent 0 - 0.31, agent 1 - 0.30, "
     ]
    },
    {
     "name": "stdout",
     "output_type": "stream",
     "text": [
      "\repisode 891/2000, max score: 0.49, average scores: agent 0 - 0.31, agent 1 - 0.30, "
     ]
    },
    {
     "name": "stdout",
     "output_type": "stream",
     "text": [
      "\repisode 892/2000, max score: 0.49, average scores: agent 0 - 0.31, agent 1 - 0.31, "
     ]
    },
    {
     "name": "stdout",
     "output_type": "stream",
     "text": [
      "\repisode 893/2000, max score: 0.49, average scores: agent 0 - 0.32, agent 1 - 0.31, "
     ]
    },
    {
     "name": "stdout",
     "output_type": "stream",
     "text": [
      "\repisode 894/2000, max score: 0.49, average scores: agent 0 - 0.32, agent 1 - 0.32, "
     ]
    },
    {
     "name": "stdout",
     "output_type": "stream",
     "text": [
      "\repisode 895/2000, max score: 0.49, average scores: agent 0 - 0.32, agent 1 - 0.32, "
     ]
    },
    {
     "name": "stdout",
     "output_type": "stream",
     "text": [
      "\repisode 896/2000, max score: 0.49, average scores: agent 0 - 0.32, agent 1 - 0.32, "
     ]
    },
    {
     "name": "stdout",
     "output_type": "stream",
     "text": [
      "\repisode 897/2000, max score: 0.49, average scores: agent 0 - 0.32, agent 1 - 0.32, "
     ]
    },
    {
     "name": "stdout",
     "output_type": "stream",
     "text": [
      "\repisode 898/2000, max score: 0.49, average scores: agent 0 - 0.33, agent 1 - 0.32, "
     ]
    },
    {
     "name": "stdout",
     "output_type": "stream",
     "text": [
      "\repisode 899/2000, max score: 0.49, average scores: agent 0 - 0.33, agent 1 - 0.33, "
     ]
    },
    {
     "name": "stdout",
     "output_type": "stream",
     "text": [
      "\repisode 900/2000, max score: 0.49, average scores: agent 0 - 0.33, agent 1 - 0.33, "
     ]
    },
    {
     "name": "stdout",
     "output_type": "stream",
     "text": [
      "\repisode 901/2000, max score: 0.49, average scores: agent 0 - 0.34, agent 1 - 0.34, "
     ]
    },
    {
     "name": "stdout",
     "output_type": "stream",
     "text": [
      "\repisode 902/2000, max score: 0.49, average scores: agent 0 - 0.34, agent 1 - 0.34, "
     ]
    },
    {
     "name": "stdout",
     "output_type": "stream",
     "text": [
      "\repisode 903/2000, max score: 0.49, average scores: agent 0 - 0.34, agent 1 - 0.34, "
     ]
    },
    {
     "name": "stdout",
     "output_type": "stream",
     "text": [
      "\repisode 904/2000, max score: 0.49, average scores: agent 0 - 0.33, agent 1 - 0.33, "
     ]
    },
    {
     "name": "stdout",
     "output_type": "stream",
     "text": [
      "\repisode 905/2000, max score: 0.49, average scores: agent 0 - 0.34, agent 1 - 0.34, "
     ]
    },
    {
     "name": "stdout",
     "output_type": "stream",
     "text": [
      "\repisode 906/2000, max score: 0.49, average scores: agent 0 - 0.34, agent 1 - 0.34, "
     ]
    },
    {
     "name": "stdout",
     "output_type": "stream",
     "text": [
      "\repisode 907/2000, max score: 0.49, average scores: agent 0 - 0.34, agent 1 - 0.34, "
     ]
    },
    {
     "name": "stdout",
     "output_type": "stream",
     "text": [
      "\repisode 908/2000, max score: 0.49, average scores: agent 0 - 0.34, agent 1 - 0.34, "
     ]
    },
    {
     "name": "stdout",
     "output_type": "stream",
     "text": [
      "\repisode 909/2000, max score: 0.49, average scores: agent 0 - 0.34, agent 1 - 0.34, "
     ]
    },
    {
     "name": "stdout",
     "output_type": "stream",
     "text": [
      "\repisode 910/2000, max score: 0.49, average scores: agent 0 - 0.34, agent 1 - 0.34, "
     ]
    },
    {
     "name": "stdout",
     "output_type": "stream",
     "text": [
      "\repisode 911/2000, max score: 0.49, average scores: agent 0 - 0.35, agent 1 - 0.34, "
     ]
    },
    {
     "name": "stdout",
     "output_type": "stream",
     "text": [
      "\repisode 912/2000, max score: 0.49, average scores: agent 0 - 0.36, agent 1 - 0.35, "
     ]
    },
    {
     "name": "stdout",
     "output_type": "stream",
     "text": [
      "\repisode 913/2000, max score: 0.49, average scores: agent 0 - 0.35, agent 1 - 0.35, "
     ]
    },
    {
     "name": "stdout",
     "output_type": "stream",
     "text": [
      "\repisode 914/2000, max score: 0.49, average scores: agent 0 - 0.35, agent 1 - 0.35, "
     ]
    },
    {
     "name": "stdout",
     "output_type": "stream",
     "text": [
      "\repisode 915/2000, max score: 0.49, average scores: agent 0 - 0.36, agent 1 - 0.35, "
     ]
    },
    {
     "name": "stdout",
     "output_type": "stream",
     "text": [
      "\repisode 916/2000, max score: 0.49, average scores: agent 0 - 0.36, agent 1 - 0.36, "
     ]
    },
    {
     "name": "stdout",
     "output_type": "stream",
     "text": [
      "\repisode 917/2000, max score: 0.49, average scores: agent 0 - 0.36, agent 1 - 0.36, "
     ]
    },
    {
     "name": "stdout",
     "output_type": "stream",
     "text": [
      "\repisode 918/2000, max score: 0.49, average scores: agent 0 - 0.36, agent 1 - 0.36, "
     ]
    },
    {
     "name": "stdout",
     "output_type": "stream",
     "text": [
      "\repisode 919/2000, max score: 0.49, average scores: agent 0 - 0.37, agent 1 - 0.38, "
     ]
    },
    {
     "name": "stdout",
     "output_type": "stream",
     "text": [
      "\repisode 920/2000, max score: 0.49, average scores: agent 0 - 0.37, agent 1 - 0.38, "
     ]
    },
    {
     "name": "stdout",
     "output_type": "stream",
     "text": [
      "\repisode 921/2000, max score: 0.49, average scores: agent 0 - 0.37, agent 1 - 0.37, "
     ]
    },
    {
     "name": "stdout",
     "output_type": "stream",
     "text": [
      "\repisode 922/2000, max score: 0.49, average scores: agent 0 - 0.37, agent 1 - 0.37, "
     ]
    },
    {
     "name": "stdout",
     "output_type": "stream",
     "text": [
      "\repisode 923/2000, max score: 0.49, average scores: agent 0 - 0.37, agent 1 - 0.37, "
     ]
    },
    {
     "name": "stdout",
     "output_type": "stream",
     "text": [
      "\repisode 924/2000, max score: 0.49, average scores: agent 0 - 0.37, agent 1 - 0.37, "
     ]
    },
    {
     "name": "stdout",
     "output_type": "stream",
     "text": [
      "\repisode 925/2000, max score: 0.49, average scores: agent 0 - 0.37, agent 1 - 0.37, "
     ]
    },
    {
     "name": "stdout",
     "output_type": "stream",
     "text": [
      "\repisode 926/2000, max score: 0.49, average scores: agent 0 - 0.37, agent 1 - 0.37, "
     ]
    },
    {
     "name": "stdout",
     "output_type": "stream",
     "text": [
      "\repisode 927/2000, max score: 0.49, average scores: agent 0 - 0.37, agent 1 - 0.38, "
     ]
    },
    {
     "name": "stdout",
     "output_type": "stream",
     "text": [
      "\repisode 928/2000, max score: 0.49, average scores: agent 0 - 0.37, agent 1 - 0.38, "
     ]
    },
    {
     "name": "stdout",
     "output_type": "stream",
     "text": [
      "\repisode 929/2000, max score: 0.49, average scores: agent 0 - 0.37, agent 1 - 0.38, "
     ]
    },
    {
     "name": "stdout",
     "output_type": "stream",
     "text": [
      "\repisode 930/2000, max score: 0.49, average scores: agent 0 - 0.39, agent 1 - 0.39, "
     ]
    },
    {
     "name": "stdout",
     "output_type": "stream",
     "text": [
      "\repisode 931/2000, max score: 0.49, average scores: agent 0 - 0.38, agent 1 - 0.39, "
     ]
    },
    {
     "name": "stdout",
     "output_type": "stream",
     "text": [
      "\repisode 932/2000, max score: 0.49, average scores: agent 0 - 0.38, agent 1 - 0.39, "
     ]
    },
    {
     "name": "stdout",
     "output_type": "stream",
     "text": [
      "\repisode 933/2000, max score: 0.49, average scores: agent 0 - 0.39, agent 1 - 0.39, "
     ]
    },
    {
     "name": "stdout",
     "output_type": "stream",
     "text": [
      "\repisode 934/2000, max score: 0.49, average scores: agent 0 - 0.38, agent 1 - 0.39, "
     ]
    },
    {
     "name": "stdout",
     "output_type": "stream",
     "text": [
      "\repisode 935/2000, max score: 0.49, average scores: agent 0 - 0.39, agent 1 - 0.39, "
     ]
    },
    {
     "name": "stdout",
     "output_type": "stream",
     "text": [
      "\repisode 936/2000, max score: 0.49, average scores: agent 0 - 0.39, agent 1 - 0.40, "
     ]
    },
    {
     "name": "stdout",
     "output_type": "stream",
     "text": [
      "\repisode 937/2000, max score: 0.49, average scores: agent 0 - 0.39, agent 1 - 0.40, "
     ]
    },
    {
     "name": "stdout",
     "output_type": "stream",
     "text": [
      "\repisode 938/2000, max score: 0.49, average scores: agent 0 - 0.39, agent 1 - 0.40, "
     ]
    },
    {
     "name": "stdout",
     "output_type": "stream",
     "text": [
      "\repisode 939/2000, max score: 0.49, average scores: agent 0 - 0.39, agent 1 - 0.40, "
     ]
    },
    {
     "name": "stdout",
     "output_type": "stream",
     "text": [
      "\repisode 940/2000, max score: 0.49, average scores: agent 0 - 0.39, agent 1 - 0.40, "
     ]
    },
    {
     "name": "stdout",
     "output_type": "stream",
     "text": [
      "\repisode 941/2000, max score: 0.49, average scores: agent 0 - 0.40, agent 1 - 0.41, "
     ]
    },
    {
     "name": "stdout",
     "output_type": "stream",
     "text": [
      "\repisode 942/2000, max score: 0.49, average scores: agent 0 - 0.40, agent 1 - 0.41, "
     ]
    },
    {
     "name": "stdout",
     "output_type": "stream",
     "text": [
      "\repisode 943/2000, max score: 0.49, average scores: agent 0 - 0.41, agent 1 - 0.41, "
     ]
    },
    {
     "name": "stdout",
     "output_type": "stream",
     "text": [
      "\repisode 944/2000, max score: 0.49, average scores: agent 0 - 0.41, agent 1 - 0.41, "
     ]
    },
    {
     "name": "stdout",
     "output_type": "stream",
     "text": [
      "\repisode 945/2000, max score: 0.49, average scores: agent 0 - 0.41, agent 1 - 0.41, "
     ]
    },
    {
     "name": "stdout",
     "output_type": "stream",
     "text": [
      "\repisode 946/2000, max score: 0.49, average scores: agent 0 - 0.41, agent 1 - 0.41, "
     ]
    },
    {
     "name": "stdout",
     "output_type": "stream",
     "text": [
      "\repisode 947/2000, max score: 0.49, average scores: agent 0 - 0.41, agent 1 - 0.41, "
     ]
    },
    {
     "name": "stdout",
     "output_type": "stream",
     "text": [
      "\repisode 948/2000, max score: 0.49, average scores: agent 0 - 0.41, agent 1 - 0.42, "
     ]
    },
    {
     "name": "stdout",
     "output_type": "stream",
     "text": [
      "\repisode 949/2000, max score: 0.49, average scores: agent 0 - 0.41, agent 1 - 0.42, "
     ]
    },
    {
     "name": "stdout",
     "output_type": "stream",
     "text": [
      "\repisode 950/2000, max score: 0.49, average scores: agent 0 - 0.41, agent 1 - 0.42, "
     ]
    },
    {
     "name": "stdout",
     "output_type": "stream",
     "text": [
      "\repisode 951/2000, max score: 0.49, average scores: agent 0 - 0.42, agent 1 - 0.42, "
     ]
    },
    {
     "name": "stdout",
     "output_type": "stream",
     "text": [
      "\repisode 952/2000, max score: 0.49, average scores: agent 0 - 0.42, agent 1 - 0.43, "
     ]
    },
    {
     "name": "stdout",
     "output_type": "stream",
     "text": [
      "\repisode 953/2000, max score: 0.49, average scores: agent 0 - 0.43, agent 1 - 0.43, "
     ]
    },
    {
     "name": "stdout",
     "output_type": "stream",
     "text": [
      "\repisode 954/2000, max score: 0.49, average scores: agent 0 - 0.43, agent 1 - 0.43, "
     ]
    },
    {
     "name": "stdout",
     "output_type": "stream",
     "text": [
      "\repisode 955/2000, max score: 0.49, average scores: agent 0 - 0.43, agent 1 - 0.44, "
     ]
    },
    {
     "name": "stdout",
     "output_type": "stream",
     "text": [
      "\repisode 956/2000, max score: 0.49, average scores: agent 0 - 0.43, agent 1 - 0.44, "
     ]
    },
    {
     "name": "stdout",
     "output_type": "stream",
     "text": [
      "\repisode 957/2000, max score: 0.49, average scores: agent 0 - 0.44, agent 1 - 0.45, "
     ]
    },
    {
     "name": "stdout",
     "output_type": "stream",
     "text": [
      "\repisode 958/2000, max score: 0.49, average scores: agent 0 - 0.45, agent 1 - 0.46, "
     ]
    },
    {
     "name": "stdout",
     "output_type": "stream",
     "text": [
      "\repisode 959/2000, max score: 0.49, average scores: agent 0 - 0.45, agent 1 - 0.46, "
     ]
    },
    {
     "name": "stdout",
     "output_type": "stream",
     "text": [
      "\repisode 960/2000, max score: 0.49, average scores: agent 0 - 0.46, agent 1 - 0.47, "
     ]
    },
    {
     "name": "stdout",
     "output_type": "stream",
     "text": [
      "\repisode 961/2000, max score: 0.49, average scores: agent 0 - 0.46, agent 1 - 0.47, "
     ]
    },
    {
     "name": "stdout",
     "output_type": "stream",
     "text": [
      "\repisode 962/2000, max score: 0.49, average scores: agent 0 - 0.46, agent 1 - 0.47, "
     ]
    },
    {
     "name": "stdout",
     "output_type": "stream",
     "text": [
      "\repisode 963/2000, max score: 0.49, average scores: agent 0 - 0.45, agent 1 - 0.47, "
     ]
    },
    {
     "name": "stdout",
     "output_type": "stream",
     "text": [
      "\repisode 964/2000, max score: 0.49, average scores: agent 0 - 0.46, agent 1 - 0.47, "
     ]
    },
    {
     "name": "stdout",
     "output_type": "stream",
     "text": [
      "\repisode 965/2000, max score: 0.49, average scores: agent 0 - 0.46, agent 1 - 0.48, "
     ]
    },
    {
     "name": "stdout",
     "output_type": "stream",
     "text": [
      "\repisode 966/2000, max score: 0.49, average scores: agent 0 - 0.47, agent 1 - 0.48, "
     ]
    },
    {
     "name": "stdout",
     "output_type": "stream",
     "text": [
      "\repisode 967/2000, max score: 0.49, average scores: agent 0 - 0.48, agent 1 - 0.49, "
     ]
    },
    {
     "name": "stdout",
     "output_type": "stream",
     "text": [
      "\repisode 968/2000, max score: 0.50, average scores: agent 0 - 0.49, agent 1 - 0.50, "
     ]
    },
    {
     "name": "stdout",
     "output_type": "stream",
     "text": [
      "\nsolved in 968 episodes\n"
     ]
    },
    {
     "data": {
      "image/png": "[encoded data removed]",
      "text/plain": [
       "<Figure size 432x288 with 1 Axes>"
      ]
     },
     "metadata": {},
     "output_type": "display_data"
    }
   ],
   "source": [
    "env = UnityEnvironment(file_name=\"Tennis.x86_64\")\n",
    "\n",
    "brain_name = env.brain_names[0]\n",
    "brain = env.brains[brain_name]\n",
    "\n",
    "# reset the environment\n",
    "env_info = env.reset(train_mode=True)[brain_name]\n",
    "\n",
    "# number of agents\n",
    "num_agents = len(env_info.agents)\n",
    "print('Number of agents:', num_agents)\n",
    "\n",
    "# size of each action\n",
    "action_size = brain.vector_action_space_size\n",
    "print('Size of each action:', action_size)\n",
    "\n",
    "# examine the state space\n",
    "states = env_info.vector_observations\n",
    "state_size = states.shape[1]\n",
    "print('There are {} agents. Each observes a state with length: {}'.format(states.shape[0], state_size))\n",
    "print('The state for the first agent looks like:', states[0])\n",
    "\n",
    "agent_manager = AgentManager(state_size=state_size, action_size=action_size, num_agents=num_agents, random_seed=1)\n",
    "ddpg()"
   ]
  },
  {
   "cell_type": "markdown",
   "metadata": {},
   "source": [
    "Test"
   ]
  },
  {
   "cell_type": "code",
   "execution_count": 9,
   "metadata": {},
   "outputs": [
    {
     "name": "stderr",
     "output_type": "stream",
     "text": [
      "INFO:unityagents:\n'Academy' started successfully!\nUnity Academy name: Academy\n        Number of Brains: 1\n        Number of External Brains : 1\n        Lesson number : 0\n        Reset Parameters :\n\t\t\nUnity brain name: TennisBrain\n        Number of Visual Observations (per agent): 0\n        Vector Observation space type: continuous\n        Vector Observation space size (per agent): 8\n        Number of stacked Vector Observation: 3\n        Vector Action space type: continuous\n        Vector Action space size (per agent): 2\n        Vector Action descriptions: , \n"
     ]
    },
    {
     "name": "stdout",
     "output_type": "stream",
     "text": [
      "Number of agents: 2\nSize of each action: 2\nThere are 2 agents. Each observes a state with length: 24\nThe state for the first agent looks like: [ 0.          0.          0.          0.          0.          0.\n  0.          0.          0.          0.          0.          0.\n  0.          0.          0.          0.         -6.65278625 -1.5\n -0.          0.          6.83172083  6.         -0.          0.        ]\n"
     ]
    },
    {
     "name": "stderr",
     "output_type": "stream",
     "text": [
      "/home/mexxik/.virtualenvs/drl-project-3/lib/python3.5/site-packages/torch/nn/functional.py:1320: UserWarning: nn.functional.tanh is deprecated. Use torch.tanh instead.\n  warnings.warn(\"nn.functional.tanh is deprecated. Use torch.tanh instead.\")\n"
     ]
    },
    {
     "name": "stdout",
     "output_type": "stream",
     "text": [
      "Total score (averaged over agents) this episode: 2.600000038743019\n"
     ]
    }
   ],
   "source": [
    "env = UnityEnvironment(file_name=\"Tennis.x86_64\")\n",
    "\n",
    "brain_name = env.brain_names[0]\n",
    "brain = env.brains[brain_name]\n",
    "\n",
    "# reset the environment\n",
    "env_info = env.reset(train_mode=True)[brain_name]\n",
    "\n",
    "# number of agents\n",
    "num_agents = len(env_info.agents)\n",
    "print('Number of agents:', num_agents)\n",
    "\n",
    "# size of each action\n",
    "action_size = brain.vector_action_space_size\n",
    "print('Size of each action:', action_size)\n",
    "\n",
    "# examine the state space\n",
    "states = env_info.vector_observations\n",
    "state_size = states.shape[1]\n",
    "print('There are {} agents. Each observes a state with length: {}'.format(states.shape[0], state_size))\n",
    "print('The state for the first agent looks like:', states[0])\n",
    "\n",
    "env_info = env.reset(train_mode=False)[brain_name]     # reset the environment\n",
    "states = env_info.vector_observations                  # get the current state (for each agent)\n",
    "scores = np.zeros(num_agents)    \n",
    "\n",
    "agent_manager = AgentManager(state_size=state_size, action_size=action_size, num_agents=num_agents, random_seed=1)\n",
    "agent_manager.load_models()\n",
    "\n",
    "while True:\n",
    "    actions = agent_manager.act(states, add_noise=False)          # all actions between -1 and 1\n",
    "    env_info = env.step(actions)[brain_name]           # send all actions to tne environment\n",
    "    next_states = env_info.vector_observations         # get next state (for each agent)\n",
    "    rewards = env_info.rewards                         # get reward (for each agent)\n",
    "    dones = env_info.local_done                        # see if episode finished\n",
    "    scores += env_info.rewards                         # update the score (for each agent)\n",
    "    states = next_states                               # roll over states to next time step\n",
    "    if np.any(dones):                                  # exit loop if episode finished\n",
    "        break\n",
    "print('Total score (averaged over agents) this episode: {}'.format(np.mean(scores)))\n",
    "\n",
    "env.close()"
   ]
  },
  {
   "cell_type": "markdown",
   "metadata": {},
   "source": [
    "### Results and Future Improvements.\n",
    "\n",
    "This project is an example Deep Deterministic Policy Gradient (DDPG) algorithm implemented for Collaboration and Competition problem. Current implementation solved the enviroment in 968 episodes and shows consistent results during a test run.\n",
    "\n",
    "During the training the agent was able to reach last score at 0.49 level on 400th episode and the quickly dropped to 0.25. It took some time recover and solve the task. Looks like this is an expected behaviour with a current implementation and a set of hyper-parameters.\n",
    "\n",
    "Here are some possible improvements and exploration paths:\n",
    "* Explore other algorithms, like PPO or more advances and modern like suggested in the lesson (Trust Region Policy Optimization (TRPO) and Truncated Natural Policy Gradient (TNPG),  Distributed Distributional Deterministic Policy Gradients (D4PG))\n",
    "* Experiment with hyperparameters:\n",
    "\t* LEARN_EVERY and LEARN_NUM will allow to specify how ofter the network will be trained. Maybe try setting it to more \"agressive\" (frequest mode), even though it was reported that this approach was not stable.\n",
    "\t* Play with explotation/exploration by tweaking OU noise. OpenAI article suggest that OU might be not effective compared to mean-zero Gaussian noise.\n",
    "\t* Previous lessons and projects showed that experience buffer size affect on the performance.\n",
    "\t* Would be interesting to try increasing batch size for training and adding more regularization (L2) to avoid overfitting. \n",
    "\t* This implementation does not enable epsilon parameter for decrease OU noise effect over time. Try uncommenting it for more experiements with exploration/exploitation."
   ]
  },
  {
   "cell_type": "code",
   "execution_count": null,
   "metadata": {},
   "outputs": [],
   "source": []
  }
 ],
 "metadata": {
  "kernelspec": {
   "display_name": "Python 2",
   "language": "python",
   "name": "python2"
  },
  "language_info": {
   "codemirror_mode": {
    "name": "ipython",
    "version": 2
   },
   "file_extension": ".py",
   "mimetype": "text/x-python",
   "name": "python",
   "nbconvert_exporter": "python",
   "pygments_lexer": "ipython2",
   "version": "2.7.6"
  }
 },
 "nbformat": 4,
 "nbformat_minor": 0
}
